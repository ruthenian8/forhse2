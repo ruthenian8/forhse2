{
 "cells": [
  {
   "cell_type": "code",
   "execution_count": 1,
   "metadata": {
    "colab": {
     "base_uri": "https://localhost:8080/"
    },
    "id": "FwZNxIWNHzhv",
    "outputId": "376de83d-5494-4697-e87c-cc6966c6eb27"
   },
   "outputs": [
    {
     "name": "stdout",
     "output_type": "stream",
     "text": [
      "Collecting rusenttokenize\n",
      "  Downloading https://files.pythonhosted.org/packages/25/4c/a2f00be5def774a3df2e5387145f1cb54e324607ec4a7e23f573645946e7/rusenttokenize-0.0.5-py3-none-any.whl\n",
      "Installing collected packages: rusenttokenize\n",
      "Successfully installed rusenttokenize-0.0.5\n"
     ]
    },
    {
     "name": "stderr",
     "output_type": "stream",
     "text": [
      "qlearning 1.0.0 requires nesgym-super-mario-bros>=0.3.1, which is not installed.\n",
      "You are using pip version 10.0.1, however version 20.3b1 is available.\n",
      "You should consider upgrading via the 'python -m pip install --upgrade pip' command.\n"
     ]
    },
    {
     "name": "stdout",
     "output_type": "stream",
     "text": [
      "Collecting razdel\n",
      "  Downloading https://files.pythonhosted.org/packages/15/2c/664223a3924aa6e70479f7d37220b3a658765b9cfe760b4af7ffdc50d38f/razdel-0.5.0-py3-none-any.whl\n",
      "Installing collected packages: razdel\n",
      "Successfully installed razdel-0.5.0\n"
     ]
    },
    {
     "name": "stderr",
     "output_type": "stream",
     "text": [
      "qlearning 1.0.0 requires nesgym-super-mario-bros>=0.3.1, which is not installed.\n",
      "You are using pip version 10.0.1, however version 20.3b1 is available.\n",
      "You should consider upgrading via the 'python -m pip install --upgrade pip' command.\n"
     ]
    }
   ],
   "source": [
    "!pip install pymorphy2[fast]\n",
    "!pip install pymystem3\n",
    "!pip install rusenttokenize\n",
    "!pip install razdel"
   ]
  },
  {
   "cell_type": "code",
   "execution_count": 2,
   "metadata": {
    "id": "5JGtL4ziNnr2"
   },
   "outputs": [],
   "source": [
    "from pprint import pprint"
   ]
  },
  {
   "cell_type": "code",
   "execution_count": 3,
   "metadata": {
    "id": "UxUbd7IzDlNj"
   },
   "outputs": [],
   "source": [
    "import re\n",
    "from pymorphy2 import MorphAnalyzer\n",
    "from pymystem3 import Mystem\n",
    "from nltk.corpus import stopwords\n",
    "from razdel import tokenize as razdel_tokenize\n",
    "from rusenttokenize import ru_sent_tokenize\n",
    "from string import punctuation\n",
    "from nltk.stem.snowball import SnowballStemmer\n",
    "from collections import Counter"
   ]
  },
  {
   "cell_type": "code",
   "execution_count": 5,
   "metadata": {
    "id": "8a1Ijz7GKDQK"
   },
   "outputs": [],
   "source": [
    "with open(\"zhivago.txt\", \"r\", encoding=\"UTF-8\") as file:\n",
    "    chunk: str = file.read()\n",
    "    chunk = chunk.lower()"
   ]
  },
  {
   "cell_type": "markdown",
   "metadata": {
    "id": "IWN0QbtLB_i1"
   },
   "source": [
    "## Удаляем мусор. Не удаляем знаки препинания во избежание ошибок при делении на предложения."
   ]
  },
  {
   "cell_type": "code",
   "execution_count": 11,
   "metadata": {
    "id": "QDabJ041J_TT"
   },
   "outputs": [],
   "source": [
    "def clear_func(string):\n",
    "    newstring = string[:]\n",
    "    newstring = re.sub(r'<[^>]+>', ' ', newstring)\n",
    "    newstring = re.sub(r'(\\n|\\xa0)', ' ', newstring)\n",
    "    newstring = re.sub(r' {2,}', ' ', newstring)\n",
    "    newstring = re.sub(r'[a-zA-Z]+', '', newstring)\n",
    "    return newstring"
   ]
  },
  {
   "cell_type": "code",
   "execution_count": 12,
   "metadata": {
    "id": "_85IBmsVKm8e"
   },
   "outputs": [],
   "source": [
    "cleaned = clear_func(chunk)"
   ]
  },
  {
   "cell_type": "markdown",
   "metadata": {
    "id": "-NnG94UeHQdy"
   },
   "source": [
    "## Отрезаем лишние символы в конце файла"
   ]
  },
  {
   "cell_type": "code",
   "execution_count": 13,
   "metadata": {
    "id": "8KmpimkAR8Fn"
   },
   "outputs": [],
   "source": [
    "cleaned = cleaned[:cleaned.find(\"/9j/\")]"
   ]
  },
  {
   "cell_type": "code",
   "execution_count": 14,
   "metadata": {
    "colab": {
     "base_uri": "https://localhost:8080/",
     "height": 195
    },
    "id": "xkOe478xAzbc",
    "outputId": "309c511e-681b-429c-c0dc-c02f5747da3d"
   },
   "outputs": [
    {
     "data": {
      "text/plain": [
       "' борис леонидович пастернак доктор живаго «доктор живаго» - итоговое произведение бориса пастернака, книга всей его жизни. этот роман принес его автору мировую известность и нобелевскую премию, присуждение которой обернулось для поэта оголтелой политической травлей, обвинениями в «измене родине» и в результате стоило ему жизни. «доктор живаго» - роман, сама ткань которого убедительнее свидетельствует о чуде, чем все размышления доктора и обобщения автора. человек, который так пишет, бесконечно много пережил и передумал, и главные его чувства на свете - восхищенное умиление и слезное сострадание; конечно, есть в его мире место и презрению, и холодному отстранению - но не в них суть. роман пастернака - оплакивание прежних заблуждений и их жертв; те, кто не разделяет молитвенного восторга перед миром, достойны прежде всего жалости. перечитывать «доктора живаго» стоит именно тогда, когда кажется, что жить не стоит. тогда десять строк из этого романа могут сделать то же, что делает любовь в одном из стихотворений доктора: «жизнь вернулась так же беспричинно, как когда-то странно прервалась» .      17.04.2008 . -134194 1.0 борис пастернак доктор живаго и дышат почва и судьба спустя два года после завершения романа «доктор живаго» борис пастернак писал: «я думаю, несмотря на привычность всего того, что продолжает стоять перед нашими глазами и что мы продолжаем слышать и читать, ничего этого больше нет, это уже прошло и состоялось, огромный, неслыханных сил стоивший период закончился и миновал. освободилось безмерно большое, покамест пустое и не занятое место для нового и еще не бывалого, для того, что будет угадано чьей-либо гениальной независимостью и свежестью, для того, что внушит и подскажет жизнь новых чисел и дней. сейчас мукою художников будет не то, признаны ли они и признаны ли будут застаивающейся, запоздалой политической современностью или властью, но неспособность совершенно оторваться от понятий, ставших привычными, забыть навязывающиеся навыки, нарушить непре'"
      ]
     },
     "execution_count": 14,
     "metadata": {},
     "output_type": "execute_result"
    }
   ],
   "source": [
    "cleaned[:2000]"
   ]
  },
  {
   "cell_type": "markdown",
   "metadata": {
    "id": "rG0rmFQXInXP"
   },
   "source": [
    "## Деление на предложения"
   ]
  },
  {
   "cell_type": "code",
   "execution_count": 15,
   "metadata": {
    "colab": {
     "base_uri": "https://localhost:8080/"
    },
    "id": "rblXyCinWyTw",
    "outputId": "abeb28af-6535-43be-ed15-73c92b71a93a"
   },
   "outputs": [],
   "source": [
    "sentences = ru_sent_tokenize(cleaned)"
   ]
  },
  {
   "cell_type": "code",
   "execution_count": 17,
   "metadata": {
    "colab": {
     "base_uri": "https://localhost:8080/"
    },
    "id": "CUA2BY_z_7qR",
    "outputId": "59bd4f33-755c-4b5d-bc92-21ab92efeb9f"
   },
   "outputs": [
    {
     "name": "stdout",
     "output_type": "stream",
     "text": [
      "борис леонидович пастернак доктор живаго «доктор живаго» - итоговое произведение бориса пастернака, книга всей его жизни.\n",
      "\n",
      "этот роман принес его автору мировую известность и нобелевскую премию, присуждение которой обернулось для поэта оголтелой политической травлей, обвинениями в «измене родине» и в результате стоило ему жизни.\n",
      "\n",
      "«доктор живаго» - роман, сама ткань которого убедительнее свидетельствует о чуде, чем все размышления доктора и обобщения автора.\n",
      "\n",
      "человек, который так пишет, бесконечно много пережил и передумал, и главные его чувства на свете - восхищенное умиление и слезное сострадание; конечно, есть в его мире место и презрению, и холодному отстранению - но не в них суть.\n",
      "\n",
      "роман пастернака - оплакивание прежних заблуждений и их жертв; те, кто не разделяет молитвенного восторга перед миром, достойны прежде всего жалости.\n"
     ]
    }
   ],
   "source": [
    "print(\"\\n\\n\".join(sentences[:5]))"
   ]
  },
  {
   "cell_type": "code",
   "execution_count": 16,
   "metadata": {
    "id": "GN63ZKGrXfFH"
   },
   "outputs": [],
   "source": [
    "def clean_punct(string: str) -> str:\n",
    "    \"\"\"Удаление всех знаков, кроме дефиса + дефисов не в середине слова\n",
    "    :param string: Строка со знаками препинания\n",
    "    :return: Очищенная строка.\n",
    "    \"\"\"\n",
    "    string = string.lower()\n",
    "    string = re.sub(r'[^а-я А-Я0-9-]', \"\", string)\n",
    "    string = re.sub(r'(?<![а-яА-Я])-(?![а-яА-Я])', \"\", string)\n",
    "    string = re.sub(r' {2,}', \" \", string)\n",
    "    string = re.sub(r'\\d+', '', string) # Удаление цифр за ненадобостью\n",
    "    return string"
   ]
  },
  {
   "cell_type": "code",
   "execution_count": 17,
   "metadata": {
    "id": "Bzb5JRemf8-9"
   },
   "outputs": [],
   "source": [
    "cleaned_sentences = [n for n in map(clean_punct, sentences)]"
   ]
  },
  {
   "cell_type": "code",
   "execution_count": 20,
   "metadata": {
    "colab": {
     "base_uri": "https://localhost:8080/"
    },
    "id": "Nwu-UlJjH1x3",
    "outputId": "77584cf6-6db0-4c8b-cb40-9f91725b9e6f"
   },
   "outputs": [
    {
     "name": "stdout",
     "output_type": "stream",
     "text": [
      "борис леонидович пастернак доктор живаго доктор живаго итоговое произведение бориса пастернака книга всей его жизни\n",
      "\n",
      "этот роман принес его автору мировую известность и нобелевскую премию присуждение которой обернулось для поэта оголтелой политической травлей обвинениями в измене родине и в результате стоило ему жизни\n",
      "\n",
      "доктор живаго роман сама ткань которого убедительнее свидетельствует о чуде чем все размышления доктора и обобщения автора\n",
      "\n",
      "человек который так пишет бесконечно много пережил и передумал и главные его чувства на свете восхищенное умиление и слезное сострадание конечно есть в его мире место и презрению и холодному отстранению но не в них суть\n",
      "\n",
      "роман пастернака оплакивание прежних заблуждений и их жертв те кто не разделяет молитвенного восторга перед миром достойны прежде всего жалости\n"
     ]
    }
   ],
   "source": [
    "print(\"\\n\\n\".join(cleaned_sentences[:5]))"
   ]
  },
  {
   "cell_type": "code",
   "execution_count": 21,
   "metadata": {
    "id": "94klJ4hDdMgq"
   },
   "outputs": [],
   "source": [
    "count = Counter(cleaned_sentences)"
   ]
  },
  {
   "cell_type": "markdown",
   "metadata": {
    "id": "JwY69pE2_VhL"
   },
   "source": [
    "## В тексте много раз повторяется рефрен из стихотворения \"Зимняя ночь\". + Предложение \"Толпа росла\"."
   ]
  },
  {
   "cell_type": "code",
   "execution_count": 22,
   "metadata": {
    "colab": {
     "base_uri": "https://localhost:8080/"
    },
    "id": "zkfyi24zZKnc",
    "outputId": "7547b959-ea52-4fb0-8710-41edcf2ed781"
   },
   "outputs": [
    {
     "data": {
      "text/plain": [
       "[('свеча горела на столе свеча горела', 3),\n",
       " ('парило', 2),\n",
       " ('странно', 2),\n",
       " ('толпа росла', 2),\n",
       " ('да', 2),\n",
       " ('он открыл глаза', 2),\n",
       " ('борис леонидович пастернак доктор живаго доктор живаго итоговое произведение бориса пастернака книга всей его жизни',\n",
       "  1),\n",
       " ('этот роман принес его автору мировую известность и нобелевскую премию присуждение которой обернулось для поэта оголтелой политической травлей обвинениями в измене родине и в результате стоило ему жизни',\n",
       "  1),\n",
       " ('доктор живаго роман сама ткань которого убедительнее свидетельствует о чуде чем все размышления доктора и обобщения автора',\n",
       "  1),\n",
       " ('человек который так пишет бесконечно много пережил и передумал и главные его чувства на свете восхищенное умиление и слезное сострадание конечно есть в его мире место и презрению и холодному отстранению но не в них суть',\n",
       "  1)]"
      ]
     },
     "execution_count": 22,
     "metadata": {
      "tags": []
     },
     "output_type": "execute_result"
    }
   ],
   "source": [
    "count.most_common(10)"
   ]
  },
  {
   "cell_type": "markdown",
   "metadata": {
    "id": "k1cMnwSGIx9C"
   },
   "source": [
    "## Токенизация"
   ]
  },
  {
   "cell_type": "code",
   "execution_count": 18,
   "metadata": {
    "colab": {
     "base_uri": "https://localhost:8080/"
    },
    "id": "qBMv9ty3gXkC",
    "outputId": "9c031c81-a748-404d-e5f6-242db4d3a1ea"
   },
   "outputs": [
    {
     "data": {
      "text/plain": [
       "['борис',\n",
       " 'леонидович',\n",
       " 'пастернак',\n",
       " 'доктор',\n",
       " 'живаго',\n",
       " 'доктор',\n",
       " 'живаго',\n",
       " 'итоговое',\n",
       " 'произведение',\n",
       " 'бориса',\n",
       " 'пастернака',\n",
       " 'книга',\n",
       " 'всей',\n",
       " 'его',\n",
       " 'жизни',\n",
       " 'этот',\n",
       " 'роман',\n",
       " 'принес',\n",
       " 'его',\n",
       " 'автору',\n",
       " 'мировую',\n",
       " 'известность',\n",
       " 'и',\n",
       " 'нобелевскую',\n",
       " 'премию',\n",
       " 'присуждение',\n",
       " 'которой',\n",
       " 'обернулось',\n",
       " 'для',\n",
       " 'поэта']"
      ]
     },
     "execution_count": 18,
     "metadata": {},
     "output_type": "execute_result"
    }
   ],
   "source": [
    "alltokens = []\n",
    "for i in cleaned_sentences:\n",
    "    alltokens += [n.text for n in razdel_tokenize(i)]\n",
    "alltokens[:30]"
   ]
  },
  {
   "cell_type": "markdown",
   "metadata": {
    "id": "Yrefiq3KI40n"
   },
   "source": [
    "## Частотный токен длиннее 6 символов - \"Андреевич\", отчество героя."
   ]
  },
  {
   "cell_type": "code",
   "execution_count": 24,
   "metadata": {
    "colab": {
     "base_uri": "https://localhost:8080/"
    },
    "id": "f_iol_frhuzK",
    "outputId": "64e50149-8aba-4f7a-f51c-cf341d5b93d3"
   },
   "outputs": [
    {
     "data": {
      "text/plain": [
       "[('и', 6475),\n",
       " ('в', 4748),\n",
       " ('не', 2933),\n",
       " ('на', 2663),\n",
       " ('с', 1929),\n",
       " ('он', 1577),\n",
       " ('что', 1489),\n",
       " ('как', 1288),\n",
       " ('я', 1189),\n",
       " ('его', 1085),\n",
       " ('к', 1037),\n",
       " ('это', 1001),\n",
       " ('а', 990),\n",
       " ('по', 964),\n",
       " ('из', 796),\n",
       " ('все', 761),\n",
       " ('у', 729),\n",
       " ('но', 723),\n",
       " ('она', 719),\n",
       " ('за', 718),\n",
       " ('было', 612),\n",
       " ('ее', 602),\n",
       " ('от', 591),\n",
       " ('их', 572),\n",
       " ('о', 491),\n",
       " ('так', 468),\n",
       " ('они', 444),\n",
       " ('бы', 440),\n",
       " ('ты', 431),\n",
       " ('был', 426),\n",
       " ('вы', 381),\n",
       " ('же', 376),\n",
       " ('или', 366),\n",
       " ('когда', 364),\n",
       " ('еще', 352),\n",
       " ('до', 344),\n",
       " ('чтобы', 324),\n",
       " ('ему', 317),\n",
       " ('мне', 302),\n",
       " ('только', 293),\n",
       " ('под', 292),\n",
       " ('была', 292),\n",
       " ('то', 291),\n",
       " ('юрий', 289),\n",
       " ('андреевич', 289),\n",
       " ('были', 284),\n",
       " ('меня', 278),\n",
       " ('без', 262),\n",
       " ('вот', 262),\n",
       " ('да', 258)]"
      ]
     },
     "execution_count": 24,
     "metadata": {
      "tags": []
     },
     "output_type": "execute_result"
    }
   ],
   "source": [
    "all_count = Counter(alltokens)\n",
    "all_count.most_common(50)"
   ]
  },
  {
   "cell_type": "markdown",
   "metadata": {
    "id": "oidVH2KFJFvi"
   },
   "source": [
    "## Стемминг"
   ]
  },
  {
   "cell_type": "code",
   "execution_count": 25,
   "metadata": {
    "colab": {
     "base_uri": "https://localhost:8080/"
    },
    "id": "fYq1rC3ykqsk",
    "outputId": "9ce1eef5-8cab-4546-a005-f995ebd27c13"
   },
   "outputs": [
    {
     "data": {
      "text/plain": [
       "['борис',\n",
       " 'леонидович',\n",
       " 'пастернак',\n",
       " 'доктор',\n",
       " 'живаг',\n",
       " 'доктор',\n",
       " 'живаг',\n",
       " 'итогов',\n",
       " 'произведен',\n",
       " 'борис',\n",
       " 'пастернак',\n",
       " 'книг',\n",
       " 'все',\n",
       " 'ег',\n",
       " 'жизн',\n",
       " 'этот',\n",
       " 'рома',\n",
       " 'принес',\n",
       " 'ег',\n",
       " 'автор',\n",
       " 'миров',\n",
       " 'известн',\n",
       " 'и',\n",
       " 'нобелевск',\n",
       " 'прем',\n",
       " 'присужден',\n",
       " 'котор',\n",
       " 'обернул',\n",
       " 'для',\n",
       " 'поэт',\n",
       " 'оголтел',\n",
       " 'политическ',\n",
       " 'травл',\n",
       " 'обвинен',\n",
       " 'в']"
      ]
     },
     "execution_count": 25,
     "metadata": {
      "tags": []
     },
     "output_type": "execute_result"
    }
   ],
   "source": [
    "stemmer = SnowballStemmer('russian')\n",
    "stemmed_tokens = [n for n in map(stemmer.stem, alltokens)]\n",
    "stemmed_tokens[:35]"
   ]
  },
  {
   "cell_type": "markdown",
   "metadata": {
    "id": "vKKsfyKQXeoL"
   },
   "source": [
    "## Выделяем частотные стемы"
   ]
  },
  {
   "cell_type": "code",
   "execution_count": 43,
   "metadata": {
    "id": "70I1f5LZPzaO"
   },
   "outputs": [],
   "source": [
    "count_stems = Counter(stemmed_tokens)\n",
    "popular = count_stems.most_common(150)[50:]"
   ]
  },
  {
   "cell_type": "code",
   "execution_count": null,
   "metadata": {
    "id": "5aCIQh-cUS3Y"
   },
   "outputs": [],
   "source": [
    "popular = [item for item in map(lambda x: x[0], popular)]\n"
   ]
  },
  {
   "cell_type": "markdown",
   "metadata": {
    "id": "EM_xXBSIJc47"
   },
   "source": [
    "## Примеры стемов, совпавших с исходными токенами"
   ]
  },
  {
   "cell_type": "code",
   "execution_count": 52,
   "metadata": {
    "colab": {
     "base_uri": "https://localhost:8080/"
    },
    "id": "QjwRFAgclPYM",
    "outputId": "53353051-3016-4fcc-f50f-021f2c489a76"
   },
   "outputs": [
    {
     "name": "stdout",
     "output_type": "stream",
     "text": [
      "дорог == дорог\n",
      "сторон == сторон\n",
      "комнат == комнат\n",
      "перед == перед\n",
      "человек == человек\n",
      "может == может\n",
      "город == город\n",
      "будет == будет\n",
      "хорош == хорош\n",
      "через == через\n",
      "минут == минут\n",
      "поезд == поезд\n",
      "сейчас == сейчас\n"
     ]
    }
   ],
   "source": [
    "popular2 = filter(lambda x: len(x) > 4, popular)\n",
    "for stem in popular2:\n",
    "    for index, word in enumerate(stemmed_tokens):\n",
    "        if word == stem and alltokens[index] == stem:\n",
    "            print(f\"{stem} == {alltokens[index]}\")\n",
    "            break\n",
    "# lookup = set(alltokens)\n",
    "# no_change = [n for n in filter(lambda x: len(x) > 4 and x in lookup, stemmed_tokens[:1000])]\n",
    "# no_change"
   ]
  },
  {
   "cell_type": "markdown",
   "metadata": {
    "id": "UB5qAWXuZA9m"
   },
   "source": [
    "## Различные окены с совпавшим стеммингом"
   ]
  },
  {
   "cell_type": "code",
   "execution_count": 48,
   "metadata": {
    "colab": {
     "base_uri": "https://localhost:8080/"
    },
    "id": "6Qy5TVskTDSa",
    "outputId": "4210b6f3-b1f5-41d1-ea3e-ab352b626bef"
   },
   "outputs": [
    {
     "name": "stdout",
     "output_type": "stream",
     "text": [
      "dict_items([('под', {'поду', 'под', 'подо', 'поди', 'подите'}), ('теб', {'тебе', 'тебя'}), ('мен', {'мене', 'мена', 'менее', 'меня'}), ('тольк', {'только'}), ('рук', {'рука', 'рукам', 'рукой', 'руках', 'руки', 'руками', 'рук', 'рукою', 'руку', 'руке'}), ('жизн', {'жизнью', 'жизнь', 'жизней', 'жизни'}), ('больш', {'большом', 'большой', 'большим', 'большую', 'большая', 'большие', 'больший', 'большою', 'большей', 'больше', 'большею', 'большем', 'больших', 'большего', 'большими', 'большее', 'большого', 'большое', 'больша'}), ('да', {'дай', 'даем', 'даю', 'да'}), ('врем', {'времена', 'время', 'времен'}), ('без', {'без'}), ('вот', {'вот'}), ('лар', {'лар', 'лару', 'лары', 'ларою', 'лара', 'ларой', 'ларя', 'ларях', 'лари', 'ларе'}), ('мы', {'мы'}), ('тут', {'тут'}), ('для', {'для'}), ('тепер', {'теперь'}), ('сказа', {'сказались', 'сказать', 'сказали', 'сказанного', 'сказался', 'сказала', 'сказанные', 'сказал', 'сказанными', 'сказанное', 'сказаться', 'сказав', 'сказано'}), ('мо', {'моем', 'мое', 'мои', 'моим', 'моею', 'моих', 'моему', 'мою', 'моя', 'моей', 'мой', 'моими', 'моего'}), ('со', {'со'}), ('нег', {'него'})])\n"
     ]
    }
   ],
   "source": [
    "equivalents = dict()\n",
    "for n in popular[:20]:\n",
    "    equivalents[n] = set()\n",
    "    for index, item in enumerate(stemmed_tokens):\n",
    "        if item == n:\n",
    "            equivalents[n].add(alltokens[index])\n",
    "pprint(equivalents.items())"
   ]
  },
  {
   "cell_type": "markdown",
   "metadata": {
    "id": "PV29EZ6IWy65"
   },
   "source": [
    "## Примеры: Предлог под и глагол подите, слово мена и местоимение меня, слова ларь и Лара."
   ]
  },
  {
   "cell_type": "code",
   "execution_count": 49,
   "metadata": {
    "colab": {
     "base_uri": "https://localhost:8080/"
    },
    "id": "3qaWIflwSap6",
    "outputId": "5102cb2c-e2c8-4089-d6c2-a5e8b17fb0c5"
   },
   "outputs": [
    {
     "data": {
      "text/plain": [
       "{'под', 'поди', 'подите', 'подо', 'поду'}"
      ]
     },
     "execution_count": 49,
     "metadata": {
      "tags": []
     },
     "output_type": "execute_result"
    }
   ],
   "source": [
    "equivalents[\"под\"]"
   ]
  },
  {
   "cell_type": "code",
   "execution_count": 50,
   "metadata": {
    "colab": {
     "base_uri": "https://localhost:8080/"
    },
    "id": "mgQqcmueXJOv",
    "outputId": "77013abe-6ff6-4b7a-ad79-60cbe21e2ce2"
   },
   "outputs": [
    {
     "data": {
      "text/plain": [
       "{'мена', 'мене', 'менее', 'меня'}"
      ]
     },
     "execution_count": 50,
     "metadata": {
      "tags": []
     },
     "output_type": "execute_result"
    }
   ],
   "source": [
    "equivalents[\"мен\"]"
   ]
  },
  {
   "cell_type": "code",
   "execution_count": 51,
   "metadata": {
    "colab": {
     "base_uri": "https://localhost:8080/"
    },
    "id": "OlRh-IHKXNZG",
    "outputId": "82c59812-14fb-4266-a3ce-17f58340c01f"
   },
   "outputs": [
    {
     "data": {
      "text/plain": [
       "{'лар',\n",
       " 'лара',\n",
       " 'ларе',\n",
       " 'лари',\n",
       " 'ларой',\n",
       " 'ларою',\n",
       " 'лару',\n",
       " 'лары',\n",
       " 'ларя',\n",
       " 'ларях'}"
      ]
     },
     "execution_count": 51,
     "metadata": {
      "tags": []
     },
     "output_type": "execute_result"
    }
   ],
   "source": [
    "equivalents[\"лар\"]"
   ]
  },
  {
   "cell_type": "code",
   "execution_count": 60,
   "metadata": {
    "id": "qriMVXKrZetB"
   },
   "outputs": [],
   "source": [
    "import nltk"
   ]
  },
  {
   "cell_type": "code",
   "execution_count": 61,
   "metadata": {
    "colab": {
     "base_uri": "https://localhost:8080/"
    },
    "id": "7xg6qIaqZ61n",
    "outputId": "acb04faa-4b5f-4d89-9f61-b811c53c8a8b"
   },
   "outputs": [
    {
     "name": "stdout",
     "output_type": "stream",
     "text": [
      "[nltk_data] Downloading package stopwords to /root/nltk_data...\n",
      "[nltk_data]   Unzipping corpora/stopwords.zip.\n"
     ]
    },
    {
     "data": {
      "text/plain": [
       "True"
      ]
     },
     "execution_count": 61,
     "metadata": {
      "tags": []
     },
     "output_type": "execute_result"
    }
   ],
   "source": [
    "nltk.download(\"stopwords\")"
   ]
  },
  {
   "cell_type": "code",
   "execution_count": 62,
   "metadata": {
    "id": "r7KfGkIkaM9n"
   },
   "outputs": [],
   "source": [
    "from nltk.corpus import stopwords"
   ]
  },
  {
   "cell_type": "code",
   "execution_count": null,
   "metadata": {
    "id": "aG5iCU8LZVyT"
   },
   "outputs": [],
   "source": [
    "stops = stopwords.words('russian')\n",
    "pprint(stops)"
   ]
  },
  {
   "cell_type": "markdown",
   "metadata": {
    "id": "Jt9ut4EhadX9"
   },
   "source": [
    "### Слова для добавления\n",
    "- как-то / как-либо (в списке нлтк нет стоп-слов через дефис, поэтому их можно все вносить в список).\n",
    "- словно (употребляется преимущественно в сравнительных оборотах, поэтому может быть удалено наряду с \"как\").\n",
    "- едва (употребляется в значении меры в любых контекстах, поэтому бесполезно для моделей на bag-of-words).\n",
    "- однако (удаляется наряду с но, т.к. употребляется в сходных случаях).\n",
    "- естественно (используется преимущественно как вводное слово, наряду с \"конечно\", имеющимся в корпусе)."
   ]
  },
  {
   "cell_type": "markdown",
   "metadata": {
    "id": "uMiEjqMje7O-"
   },
   "source": [
    "## Токенизация"
   ]
  },
  {
   "cell_type": "code",
   "execution_count": 19,
   "metadata": {
    "id": "2QnoHz6Hes5H"
   },
   "outputs": [],
   "source": [
    "cash = {}\n",
    "morphy_lemmatized = []\n",
    "morph = MorphAnalyzer()\n",
    "for word in alltokens:\n",
    "    n = cash.get(word, False)\n",
    "    if n:\n",
    "        morphy_lemmatized.append(n)\n",
    "    else:\n",
    "        new = morph.parse(word)[0].normal_form\n",
    "        cash[word] = new\n",
    "        morphy_lemmatized.append(new)"
   ]
  },
  {
   "cell_type": "code",
   "execution_count": 27,
   "metadata": {
    "id": "jSOLsV6vfeoF"
   },
   "outputs": [],
   "source": [
    "cash = {}\n",
    "mystem_lemmatized = []\n",
    "mystem = Mystem(grammar_info=False, disambiguation=False)\n",
    "for word in alltokens:\n",
    "    n = cash.get(word, False)\n",
    "    if n:\n",
    "        mystem_lemmatized.append(n)\n",
    "    else:\n",
    "        new = mystem.lemmatize(word)\n",
    "        cash[word] = new\n",
    "        mystem_lemmatized.append(new)"
   ]
  },
  {
   "cell_type": "code",
   "execution_count": 29,
   "metadata": {},
   "outputs": [],
   "source": [
    "mystem_lemmatized2 = [n for n in map(lambda x: x[0], mystem_lemmatized)]"
   ]
  },
  {
   "cell_type": "code",
   "execution_count": 30,
   "metadata": {},
   "outputs": [
    {
     "name": "stdout",
     "output_type": "stream",
     "text": [
      "['борис', 'леонид', 'пастернак', 'доктор', 'живаго', 'доктор', 'живаго', 'итоговый', 'произведение', 'борис', 'пастернак', 'книга', 'весь', 'он', 'жизнь', 'этот', 'роман', 'принести', 'он', 'автор']\n",
      "['борис', 'леонидович', 'пастернак', 'доктор', 'живаго', 'доктор', 'живаго', 'итоговый', 'произведение', 'борис', 'пастернак', 'книга', 'весь', 'он', 'жизнь', 'этот', 'роман', 'приносить', 'он', 'автор']\n"
     ]
    }
   ],
   "source": [
    "print(morphy_lemmatized[:20])\n",
    "print(mystem_lemmatized2[:20])"
   ]
  },
  {
   "cell_type": "code",
   "execution_count": 31,
   "metadata": {},
   "outputs": [],
   "source": [
    "morphy_set = set(morphy_lemmatized)\n",
    "mystem_set = set(mystem_lemmatized2)"
   ]
  },
  {
   "cell_type": "markdown",
   "metadata": {},
   "source": [
    "## Для выявления разницы лемматизаторов рассмотрим разность множеств лемм"
   ]
  },
  {
   "cell_type": "code",
   "execution_count": 35,
   "metadata": {},
   "outputs": [],
   "source": [
    "morphy_diff = morphy_set.difference(mystem_set)"
   ]
  },
  {
   "cell_type": "code",
   "execution_count": 36,
   "metadata": {},
   "outputs": [],
   "source": [
    "mystem_diff = mystem_set.difference(morphy_set)"
   ]
  },
  {
   "cell_type": "markdown",
   "metadata": {},
   "source": [
    "## Больше преимуществ у mystem:\n",
    "### - pymorphy не учитывает pluralia tantum:\n",
    "### поборы лемматизируются как \"побор\", этого нет в mystem\n",
    "\n",
    "### - pymorphy хуже распознаёт номинализованные прилагательные: см. формы \"чайная\", \"мертвецкая\" которые не нашёл pymorphy\n",
    "\n",
    "### - pymorphy хуже распознаёт отчества и имена собственные, которых нет в словаре: см. пример с \"нефедыча\", которое mystem распознает как \"нефедыч\".\n",
    "\n",
    "### - mystem тяготеет к приведению форм совершенного вида к инфинитиву несовершенного вида: ср. парсинг \"принес\" в первом предложении как \"принести\" и \"приносить\" у pymorphy и mystem соответственно. Это приводит к подбору сомнительных форм (см. \"нащеплять\" от \"нащепил\")."
   ]
  },
  {
   "cell_type": "code",
   "execution_count": 38,
   "metadata": {},
   "outputs": [
    {
     "data": {
      "text/plain": [
       "True"
      ]
     },
     "execution_count": 38,
     "metadata": {},
     "output_type": "execute_result"
    }
   ],
   "source": [
    "\"побор\" in morphy_diff"
   ]
  },
  {
   "cell_type": "code",
   "execution_count": 39,
   "metadata": {},
   "outputs": [
    {
     "data": {
      "text/plain": [
       "True"
      ]
     },
     "execution_count": 39,
     "metadata": {},
     "output_type": "execute_result"
    }
   ],
   "source": [
    "\"чайная\" in mystem_diff"
   ]
  },
  {
   "cell_type": "code",
   "execution_count": 50,
   "metadata": {},
   "outputs": [
    {
     "data": {
      "text/plain": [
       "True"
      ]
     },
     "execution_count": 50,
     "metadata": {},
     "output_type": "execute_result"
    }
   ],
   "source": [
    "\"мертвецкая\" in mystem_diff"
   ]
  },
  {
   "cell_type": "code",
   "execution_count": 47,
   "metadata": {},
   "outputs": [
    {
     "data": {
      "text/plain": [
       "True"
      ]
     },
     "execution_count": 47,
     "metadata": {},
     "output_type": "execute_result"
    }
   ],
   "source": [
    "\"нефедыча\" in morphy_diff"
   ]
  },
  {
   "cell_type": "code",
   "execution_count": 49,
   "metadata": {},
   "outputs": [
    {
     "data": {
      "text/plain": [
       "True"
      ]
     },
     "execution_count": 49,
     "metadata": {},
     "output_type": "execute_result"
    }
   ],
   "source": [
    "\"нефедыч\" in mystem_diff"
   ]
  },
  {
   "cell_type": "code",
   "execution_count": 48,
   "metadata": {},
   "outputs": [
    {
     "data": {
      "text/plain": [
       "True"
      ]
     },
     "execution_count": 48,
     "metadata": {},
     "output_type": "execute_result"
    }
   ],
   "source": [
    "\"жюля\" in morphy_diff"
   ]
  }
 ],
 "metadata": {
  "colab": {
   "collapsed_sections": [],
   "name": "Preprocess.ipynb",
   "provenance": []
  },
  "kernelspec": {
   "display_name": "Python 3",
   "language": "python",
   "name": "python3"
  },
  "language_info": {
   "codemirror_mode": {
    "name": "ipython",
    "version": 3
   },
   "file_extension": ".py",
   "mimetype": "text/x-python",
   "name": "python",
   "nbconvert_exporter": "python",
   "pygments_lexer": "ipython3",
   "version": "3.6.5"
  }
 },
 "nbformat": 4,
 "nbformat_minor": 1
}
