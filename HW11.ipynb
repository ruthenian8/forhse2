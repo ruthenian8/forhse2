{
  "nbformat": 4,
  "nbformat_minor": 0,
  "metadata": {
    "accelerator": "GPU",
    "colab": {
      "name": "Copy of P100.ipynb",
      "provenance": [],
      "collapsed_sections": [],
      "machine_shape": "hm"
    },
    "kernelspec": {
      "display_name": "Python 3",
      "name": "python3"
    }
  },
  "cells": [
    {
      "cell_type": "code",
      "metadata": {
        "colab": {
          "base_uri": "https://localhost:8080/"
        },
        "id": "pJbYXou6chZf",
        "outputId": "4ac4e7ba-a9c2-40df-bf2c-f97e61e706a5"
      },
      "source": [
        "!nvidia-smi"
      ],
      "execution_count": null,
      "outputs": [
        {
          "output_type": "stream",
          "text": [
            "Thu Mar 18 08:30:47 2021       \n",
            "+-----------------------------------------------------------------------------+\n",
            "| NVIDIA-SMI 460.56       Driver Version: 460.32.03    CUDA Version: 11.2     |\n",
            "|-------------------------------+----------------------+----------------------+\n",
            "| GPU  Name        Persistence-M| Bus-Id        Disp.A | Volatile Uncorr. ECC |\n",
            "| Fan  Temp  Perf  Pwr:Usage/Cap|         Memory-Usage | GPU-Util  Compute M. |\n",
            "|                               |                      |               MIG M. |\n",
            "|===============================+======================+======================|\n",
            "|   0  Tesla P100-PCIE...  Off  | 00000000:00:04.0 Off |                    0 |\n",
            "| N/A   42C    P0    27W / 250W |      0MiB / 16280MiB |      0%      Default |\n",
            "|                               |                      |                  N/A |\n",
            "+-------------------------------+----------------------+----------------------+\n",
            "                                                                               \n",
            "+-----------------------------------------------------------------------------+\n",
            "| Processes:                                                                  |\n",
            "|  GPU   GI   CI        PID   Type   Process name                  GPU Memory |\n",
            "|        ID   ID                                                   Usage      |\n",
            "|=============================================================================|\n",
            "|  No running processes found                                                 |\n",
            "+-----------------------------------------------------------------------------+\n"
          ],
          "name": "stdout"
        }
      ]
    },
    {
      "cell_type": "code",
      "metadata": {
        "colab": {
          "base_uri": "https://localhost:8080/"
        },
        "id": "qXbR342dYn2O",
        "outputId": "23669b61-2e39-40f7-a555-246c3d901208"
      },
      "source": [
        "!pip install gensim --upgrade"
      ],
      "execution_count": 1,
      "outputs": [
        {
          "output_type": "stream",
          "text": [
            "Requirement already up-to-date: gensim in /usr/local/lib/python3.7/dist-packages (4.0.1)\n",
            "Requirement already satisfied, skipping upgrade: smart-open>=1.8.1 in /usr/local/lib/python3.7/dist-packages (from gensim) (5.0.0)\n",
            "Requirement already satisfied, skipping upgrade: numpy>=1.11.3 in /usr/local/lib/python3.7/dist-packages (from gensim) (1.19.5)\n",
            "Requirement already satisfied, skipping upgrade: scipy>=0.18.1 in /usr/local/lib/python3.7/dist-packages (from gensim) (1.4.1)\n"
          ],
          "name": "stdout"
        }
      ]
    },
    {
      "cell_type": "code",
      "metadata": {
        "id": "CfWL7e-oUiSL"
      },
      "source": [
        "import torch\n",
        "import torch.nn as nn\n",
        "import torch.nn.functional as F\n",
        "import torch.optim as optim\n",
        "\n",
        "import random\n",
        "\n",
        "\n",
        "import pandas as pd\n",
        "import numpy as np\n",
        "from string import punctuation\n",
        "from sklearn.model_selection import train_test_split\n",
        "from collections import Counter\n",
        "import matplotlib.pyplot as plt\n",
        "%matplotlib inline"
      ],
      "execution_count": 2,
      "outputs": []
    },
    {
      "cell_type": "code",
      "metadata": {
        "id": "zDN8UiemaS6s"
      },
      "source": [
        "class Dataset(torch.utils.data.Dataset):\n",
        "    def __init__(self, data, word2id, maxlen, text_field, target_field):\n",
        "        self.dataset = data[text_field].values\n",
        "        self.word2id = word2id\n",
        "        self.maxlen = maxlen\n",
        "        self.length = data.shape[0]\n",
        "        self.target = torch.Tensor(data[target_field].values)\n",
        "        \n",
        "    def __len__(self):\n",
        "        return self.length\n",
        "    \n",
        "    def __getitem__(self, idx):\n",
        "        tokens = self.preprocess(self.dataset[idx])\n",
        "        ids = [self.word2id[token] for token in tokens if token in self.word2id][:self.maxlen]\n",
        "        ids = torch.nn.functional.pad(torch.LongTensor(ids),\n",
        "                                     (0, self.maxlen - len(ids)),\n",
        "                                     mode=\"constant\",\n",
        "                                     value=0)\n",
        "        y = self.target[idx]\n",
        "        return ids, y\n",
        "    \n",
        "    @staticmethod\n",
        "    def preprocess(text):\n",
        "        tokens = text.lower().split()\n",
        "        tokens = [token.strip(punctuation) for token in tokens]\n",
        "        tokens = [token for token in tokens if token]\n",
        "        return tokens"
      ],
      "execution_count": 23,
      "outputs": []
    },
    {
      "cell_type": "code",
      "metadata": {
        "colab": {
          "base_uri": "https://localhost:8080/"
        },
        "id": "wLioR0myYgIV",
        "outputId": "82a38af2-2ce5-4479-f728-4f40c2a52c27"
      },
      "source": [
        "from gensim.models import FastText"
      ],
      "execution_count": 4,
      "outputs": [
        {
          "output_type": "stream",
          "text": [
            "/usr/local/lib/python3.7/dist-packages/gensim/similarities/__init__.py:15: UserWarning: The gensim.similarities.levenshtein submodule is disabled, because the optional Levenshtein package <https://pypi.org/project/python-Levenshtein/> is unavailable. Install Levenhstein (e.g. `pip install python-Levenshtein`) to suppress this warning.\n",
            "  warnings.warn(msg)\n"
          ],
          "name": "stderr"
        }
      ]
    },
    {
      "cell_type": "code",
      "metadata": {
        "id": "BsF95x9mVRp0"
      },
      "source": [
        "random.seed(42)"
      ],
      "execution_count": 5,
      "outputs": []
    },
    {
      "cell_type": "code",
      "metadata": {
        "id": "zCixkPQnVSFd"
      },
      "source": [
        "quora = pd.read_csv('quora.csv')\n",
        "\n",
        "MAX_LEN = 150\n",
        "# словарь\n",
        "vocab = Counter()\n",
        "\n",
        "for text in quora.question_text:\n",
        "    vocab.update(Dataset.preprocess(text))\n",
        "\n",
        "# отфильтрованный словарь\n",
        "filtered_vocab = set()\n",
        "\n",
        "for word in vocab:\n",
        "    if vocab[word] > 30:\n",
        "        filtered_vocab.add(word)\n",
        "\n",
        "# индексируем слова\n",
        "word2id = {'PAD':0}\n",
        "\n",
        "for word in filtered_vocab:\n",
        "    word2id[word] = len(word2id)"
      ],
      "execution_count": 6,
      "outputs": []
    },
    {
      "cell_type": "code",
      "metadata": {
        "id": "-eyRYXvqVfux"
      },
      "source": [
        "!wget \"https://dl.fbaipublicfiles.com/fasttext/vectors-english/wiki-news-300d-1M.vec.zip\"\n",
        "!unzip wiki-news-300d-1M.vec.zip"
      ],
      "execution_count": null,
      "outputs": []
    },
    {
      "cell_type": "code",
      "metadata": {
        "id": "kjocRkcuYE8r"
      },
      "source": [
        "!rm wiki-news-300d-1M.vec.zip"
      ],
      "execution_count": 9,
      "outputs": []
    },
    {
      "cell_type": "code",
      "metadata": {
        "id": "dC3EEy38ZJL2"
      },
      "source": [
        "import gensim"
      ],
      "execution_count": 11,
      "outputs": []
    },
    {
      "cell_type": "code",
      "metadata": {
        "id": "rGZwWjaJcFPY"
      },
      "source": [
        "from gensim.models import KeyedVectors"
      ],
      "execution_count": 14,
      "outputs": []
    },
    {
      "cell_type": "code",
      "metadata": {
        "id": "iXQsFkXwh3GM"
      },
      "source": [
        "ftmodel = KeyedVectors.load_word2vec_format(\"wiki-news-300d-1M.vec\")"
      ],
      "execution_count": 15,
      "outputs": []
    },
    {
      "cell_type": "code",
      "metadata": {
        "id": "wkTI6A-rVjuy"
      },
      "source": [
        "texts = quora.question_text.apply(Dataset.preprocess).tolist()\n",
        "fttrained = gensim.models.FastText(sentences=texts, vector_size=300, epochs=3)"
      ],
      "execution_count": 13,
      "outputs": []
    },
    {
      "cell_type": "code",
      "metadata": {
        "id": "DezvPOxhVnTh"
      },
      "source": [
        "pretrained_weights = np.zeros((len(word2id), 300))\n",
        "trained_weights = np.zeros((len(word2id), 300))\n",
        "\n",
        "id2word = {}\n",
        "\n",
        "for word, i in word2id.items():\n",
        "    id2word[i] = word\n",
        "    if word == \"PAD\":\n",
        "        continue\n",
        "    try:\n",
        "        pretrained_weights[i] = ftmodel[word]\n",
        "    except KeyError:\n",
        "        pretrained_weights[i] = ftmodel[\"padding\"]\n",
        "    try:\n",
        "        trained_weights[i] = fttrained.wv[word]\n",
        "    except KeyError:\n",
        "        trained_weights[i] = fttrained.wv[\"randomword\"]\n",
        "\n",
        "pretrained_weights = torch.tensor(pretrained_weights)\n",
        "trained_weights = torch.tensor(trained_weights)"
      ],
      "execution_count": 17,
      "outputs": []
    },
    {
      "cell_type": "code",
      "metadata": {
        "id": "t8R2_4YvlUMJ"
      },
      "source": [
        "train_dataset, valid_dataset = train_test_split(quora, test_size=0.05)"
      ],
      "execution_count": null,
      "outputs": []
    },
    {
      "cell_type": "code",
      "metadata": {
        "id": "JHvnE_gXVn6L"
      },
      "source": [
        "training_set = Dataset(train_dataset, word2id, MAX_LEN, 'question_text', 'target')\n",
        "training_generator = torch.utils.data.DataLoader(training_set, batch_size=256)\n",
        "\n",
        "valid_set = Dataset(valid_dataset, word2id, MAX_LEN, 'question_text', 'target')\n",
        "valid_generator = torch.utils.data.DataLoader(valid_set, batch_size=256)"
      ],
      "execution_count": 24,
      "outputs": []
    },
    {
      "cell_type": "markdown",
      "metadata": {
        "id": "YB1KHpgBz-cx"
      },
      "source": [
        "# Способы суммирования"
      ]
    },
    {
      "cell_type": "code",
      "metadata": {
        "id": "nST2JLzOVpsZ"
      },
      "source": [
        "class Clf_flat(nn.Module):\n",
        "    def __init__(self,\n",
        "                 vocab_size:int,\n",
        "                 embedding_dim:int,\n",
        "                 embedding_weigths:torch.Tensor,\n",
        "                 output_dim:int):\n",
        "        \n",
        "        super().__init__()          \n",
        "        self.embedding = nn.Embedding(vocab_size, embedding_dim)\n",
        "        self.embedding.from_pretrained(embedding_weigths, freeze=True)\n",
        "        self.flatten = nn.Flatten()\n",
        "        self.fc = nn.Linear(embedding_dim * MAX_LEN, output_dim)\n",
        "        self.act = nn.Sigmoid() \n",
        "        \n",
        "    def forward(self, text):\n",
        "        embedded = self.embedding(text)   \n",
        "        hidden = self.flatten(embedded)\n",
        "        dense_outputs = self.fc(hidden)\n",
        "        out = self.act(dense_outputs)\n",
        "        return out\n",
        "\n",
        "class Clf_mean(nn.Module):\n",
        "    def __init__(self,\n",
        "                 vocab_size:int,\n",
        "                 embedding_dim:int,\n",
        "                 embedding_weigths:torch.Tensor,\n",
        "                 output_dim:int):\n",
        "        \n",
        "        super().__init__()\n",
        "        self.embedding = nn.Embedding(vocab_size, embedding_dim)\n",
        "        self.embedding.from_pretrained(embedding_weigths, freeze=True)\n",
        "        self.fc = nn.Linear(embedding_dim, output_dim)\n",
        "        self.act = nn.Sigmoid()\n",
        "        \n",
        "    def forward(self, text):\n",
        "        embedded = self.embedding(text)\n",
        "        hidden = torch.mean(embedded, dim=1) # усредняем вектора последовательности\n",
        "        dense_outputs=self.fc(hidden) # пропускаем через полносвязный слой \n",
        "        out = self.act(dense_outputs)\n",
        "        return out\n",
        "\n",
        "class Clf_sum(nn.Module):\n",
        "    def __init__(self,\n",
        "                 vocab_size:int,\n",
        "                 embedding_dim:int,\n",
        "                 embedding_weigths:torch.Tensor,\n",
        "                 output_dim:int):\n",
        "        \n",
        "        super().__init__()\n",
        "        self.embedding = nn.Embedding(vocab_size, embedding_dim)\n",
        "        self.embedding.from_pretrained(embedding_weigths, freeze=True)\n",
        "        self.fc = nn.Linear(embedding_dim, output_dim)\n",
        "        self.act = nn.Sigmoid()\n",
        "        \n",
        "    def forward(self, text):\n",
        "        embedded = self.embedding(text)\n",
        "        hidden = torch.sum(embedded, dim=1) # усредняем вектора последовательности\n",
        "        dense_outputs=self.fc(hidden) # пропускаем через полносвязный слой\n",
        "        out = self.act(dense_outputs)\n",
        "        return out"
      ],
      "execution_count": 19,
      "outputs": []
    },
    {
      "cell_type": "code",
      "metadata": {
        "id": "8NkG1u6NnvHQ"
      },
      "source": [
        "model_flat:nn.Module = Clf_flat(len(word2id), 300, pretrained_weights, 1).to(device)\n",
        "optimizer_flat:torch.optim.Optimizer = torch.optim.Adam(model_flat.parameters())"
      ],
      "execution_count": 28,
      "outputs": []
    },
    {
      "cell_type": "code",
      "metadata": {
        "id": "hbg9CW5CVtjz"
      },
      "source": [
        "device = torch.device('cuda' if torch.cuda.is_available() else 'cpu')\n",
        "\n",
        "\n",
        "model_mean:nn.Module = Clf_mean(len(word2id), 300, pretrained_weights, 1).to(device)\n",
        "model_sum:nn.Module = Clf_sum(len(word2id), 300, pretrained_weights, 1).to(device)\n",
        "    \n",
        "optimizer_mean:torch.optim.Optimizer = torch.optim.Adam(model_mean.parameters())\n",
        "optimizer_sum:torch.optim.Optimizer = torch.optim.Adam(model_sum.parameters())\n",
        "loss_fn:nn.modules.loss._Loss = nn.BCELoss().to(device)\n",
        "\n",
        "def binary_accuracy(preds, y):\n",
        "    rounded_preds = torch.round(preds)\n",
        "    correct = (rounded_preds == y).float() \n",
        "    acc = correct.sum() / len(correct)\n",
        "    return acc\n",
        "\n",
        "def train(model:nn.Module,\n",
        "          iterator:torch.utils.data.DataLoader,\n",
        "          optimizer:torch.optim.Optimizer,\n",
        "          loss_fn:nn.modules.loss._Loss,\n",
        "          print_every:int = 1000):\n",
        "    \n",
        "    epoch_loss = 0\n",
        "    epoch_acc = 0\n",
        "    \n",
        "    model.train()\n",
        "    for i, (xs, ys) in enumerate(iterator):\n",
        "        optimizer.zero_grad()\n",
        "        xs, ys = xs.to(device), ys.to(device)\n",
        "        \n",
        "        predictions = model(xs).squeeze()\n",
        "        loss = loss_fn(predictions.float(), ys.float())\n",
        "        acc = binary_accuracy(predictions.float(), ys.float())\n",
        "        loss.backward()\n",
        "        \n",
        "        optimizer.step()\n",
        "        \n",
        "        epoch_loss += loss.item()\n",
        "        epoch_acc += acc.item()\n",
        "        if not (i + 1) % print_every:\n",
        "            print(f\"Loss: {epoch_loss/i}\")\n",
        "            \n",
        "    return epoch_acc / len(iterator)\n",
        "\n",
        "def evaluate(model:nn.Module,\n",
        "             iterator:torch.utils.data.DataLoader,\n",
        "             loss_fn:nn.modules.loss._Loss):\n",
        "    epoch_loss = 0\n",
        "    epoch_accuracy = 0\n",
        "    \n",
        "    model.eval()\n",
        "    \n",
        "    with torch.no_grad():\n",
        "        for xs, ys in iterator:\n",
        "            xs, ys = xs.to(device), ys.to(device)\n",
        "            predictions = model(xs).squeeze()\n",
        "            loss = loss_fn(predictions.float(), ys.float())\n",
        "            acc = binary_accuracy(predictions.float(), ys.float())\n",
        "            \n",
        "            epoch_loss += loss.item()\n",
        "            epoch_accuracy += acc.item()\n",
        "            \n",
        "    return epoch_accuracy / len(iterator)"
      ],
      "execution_count": 26,
      "outputs": []
    },
    {
      "cell_type": "code",
      "metadata": {
        "colab": {
          "base_uri": "https://localhost:8080/",
          "height": 729
        },
        "id": "N64c17u8VzMb",
        "outputId": "d2d4bc5d-5c9d-4052-e558-3e69a41aaa0f"
      },
      "source": [
        "accs = []\n",
        "accs_eval = []\n",
        "for i in range(5):\n",
        "    print(i)\n",
        "    accs.append(train(model_flat, training_generator, optimizer_flat, loss_fn))\n",
        "    accs_eval.append(evaluate(model_flat, valid_generator, loss_fn))\n",
        "\n",
        "plt.plot(np.sqrt(accs))\n",
        "plt.plot(np.sqrt(accs_eval))\n",
        "plt.title('model Accuracy')\n",
        "plt.ylabel('Acc')\n",
        "plt.xlabel('epoch')\n",
        "plt.legend(['train', 'val'], loc='upper left')\n",
        "plt.show()"
      ],
      "execution_count": 29,
      "outputs": [
        {
          "output_type": "stream",
          "text": [
            "0\n",
            "Loss: 6.1644967745791925\n",
            "Loss: 6.2016028778412275\n",
            "Loss: 6.204064197333983\n",
            "Loss: 6.200508196500278\n",
            "1\n",
            "Loss: 6.183918293293293\n",
            "Loss: 6.211308779389695\n",
            "Loss: 6.210533719573191\n",
            "Loss: 6.205359933733433\n",
            "2\n",
            "Loss: 6.183918293293293\n",
            "Loss: 6.211308779389695\n",
            "Loss: 6.210533719573191\n",
            "Loss: 6.205359933733433\n",
            "3\n",
            "Loss: 6.183918293293293\n",
            "Loss: 6.211308779389695\n",
            "Loss: 6.210533719573191\n",
            "Loss: 6.205359933733433\n",
            "4\n",
            "Loss: 6.183918293293293\n",
            "Loss: 6.211308779389695\n",
            "Loss: 6.210533719573191\n",
            "Loss: 6.205359933733433\n"
          ],
          "name": "stdout"
        },
        {
          "output_type": "display_data",
          "data": {
            "image/png": "[encoded data removed]",
            "text/plain": [
              "<Figure size 432x288 with 1 Axes>"
            ]
          },
          "metadata": {
            "tags": [],
            "needs_background": "light"
          }
        }
      ]
    },
    {
      "cell_type": "code",
      "metadata": {
        "colab": {
          "base_uri": "https://localhost:8080/",
          "height": 729
        },
        "id": "GQ3xmeq-Vzqo",
        "outputId": "ac189aa8-c033-4494-dc57-bb73062db5a6"
      },
      "source": [
        "accs = []\n",
        "accs_eval = []\n",
        "for i in range(5):\n",
        "    print(i)\n",
        "    accs.append(train(model_mean, training_generator, optimizer_mean, loss_fn))\n",
        "    accs_eval.append(evaluate(model_mean, valid_generator, loss_fn))\n",
        "\n",
        "plt.plot(np.sqrt(accs))\n",
        "plt.plot(np.sqrt(accs_eval))\n",
        "plt.title('model Accuracy')\n",
        "plt.ylabel('Acc')\n",
        "plt.xlabel('epoch')\n",
        "plt.legend(['train', 'val'], loc='upper left')\n",
        "plt.show()"
      ],
      "execution_count": 27,
      "outputs": [
        {
          "output_type": "stream",
          "text": [
            "0\n",
            "Loss: 0.2138447506619884\n",
            "Loss: 0.19086369314138266\n",
            "Loss: 0.17654528418911739\n",
            "Loss: 0.16754973762875708\n",
            "1\n",
            "Loss: 0.1314693126376267\n",
            "Loss: 0.1313739161493034\n",
            "Loss: 0.1298613709836413\n",
            "Loss: 0.12896152649370096\n",
            "2\n",
            "Loss: 0.12290816060132212\n",
            "Loss: 0.12352485591364003\n",
            "Loss: 0.12267761170819387\n",
            "Loss: 0.12236172117238851\n",
            "3\n",
            "Loss: 0.1191685629469735\n",
            "Loss: 0.11996620393294344\n",
            "Loss: 0.11931486740688477\n",
            "Loss: 0.11920280138901186\n",
            "4\n",
            "Loss: 0.1171061163050336\n",
            "Loss: 0.11797022333684536\n",
            "Loss: 0.11739705795519707\n",
            "Loss: 0.11737997527996967\n"
          ],
          "name": "stdout"
        },
        {
          "output_type": "display_data",
          "data": {
            "image/png": "[encoded data removed]",
            "text/plain": [
              "<Figure size 432x288 with 1 Axes>"
            ]
          },
          "metadata": {
            "tags": [],
            "needs_background": "light"
          }
        }
      ]
    },
    {
      "cell_type": "code",
      "metadata": {
        "colab": {
          "base_uri": "https://localhost:8080/",
          "height": 729
        },
        "id": "m87CfkoaVztR",
        "outputId": "2f3c481d-a6df-48ff-e4c2-23584cf54249"
      },
      "source": [
        "accs = []\n",
        "accs_eval = []\n",
        "for i in range(5):\n",
        "    print(i)\n",
        "    accs.append(train(model_sum, training_generator, optimizer_sum, loss_fn))\n",
        "    accs_eval.append(evaluate(model_sum, valid_generator, loss_fn))\n",
        "\n",
        "plt.plot(np.sqrt(accs))\n",
        "plt.plot(np.sqrt(accs_eval))\n",
        "plt.title('model Accuracy')\n",
        "plt.ylabel('Acc')\n",
        "plt.xlabel('epoch')\n",
        "plt.legend(['train', 'val'], loc='upper left')\n",
        "plt.show()"
      ],
      "execution_count": 30,
      "outputs": [
        {
          "output_type": "stream",
          "text": [
            "0\n",
            "Loss: 93.9161818068068\n",
            "Loss: 93.83871623311656\n",
            "Loss: 93.82281072857619\n",
            "Loss: 93.77342027352732\n",
            "1\n",
            "Loss: 93.9161818068068\n",
            "Loss: 93.83871623311656\n",
            "Loss: 93.82281072857619\n",
            "Loss: 93.81964631782945\n",
            "2\n",
            "Loss: 93.9161818068068\n",
            "Loss: 93.83871623311656\n",
            "Loss: 93.82281072857619\n",
            "Loss: 93.81964631782945\n",
            "3\n",
            "Loss: 93.9161818068068\n",
            "Loss: 93.83871623311656\n",
            "Loss: 93.82281072857619\n",
            "Loss: 93.81964631782945\n",
            "4\n",
            "Loss: 93.9161818068068\n",
            "Loss: 93.83871623311656\n",
            "Loss: 93.82281072857619\n",
            "Loss: 93.81964631782945\n"
          ],
          "name": "stdout"
        },
        {
          "output_type": "display_data",
          "data": {
            "image/png": "[encoded data removed]",
            "text/plain": [
              "<Figure size 432x288 with 1 Axes>"
            ]
          },
          "metadata": {
            "tags": [],
            "needs_background": "light"
          }
        }
      ]
    },
    {
      "cell_type": "markdown",
      "metadata": {
        "id": "xOF6zMyXz4BU"
      },
      "source": [
        "# 2 FT модели"
      ]
    },
    {
      "cell_type": "code",
      "metadata": {
        "colab": {
          "base_uri": "https://localhost:8080/",
          "height": 729
        },
        "id": "V3B2j5FoV3a4",
        "outputId": "9b2d76b0-9dcd-4ad1-9b02-70a2784ca9c2"
      },
      "source": [
        "\n",
        "\n",
        "class FT_clf(nn.Module):\n",
        "    def __init__(self,\n",
        "                 vocab_size:int,\n",
        "                 embedding_dim:int,\n",
        "                 embedding_weights_t:torch.Tensor,\n",
        "                 embedding_weights_p:torch.Tensor,\n",
        "                 output_dim:int):\n",
        "        super().__init__()\n",
        "        self.embedding_p = nn.Embedding(vocab_size, embedding_dim).from_pretrained(embedding_weights_p, freeze=True)\n",
        "        self.embedding_t = nn.Embedding(vocab_size, embedding_dim).from_pretrained(embedding_weights_t, freeze=True)\n",
        "        self.fc = nn.Linear(embedding_dim, output_dim)\n",
        "        self.act = nn.Sigmoid()\n",
        "        \n",
        "    def forward(self, text):\n",
        "        embedded_p = self.embedding_p(text)\n",
        "        mean_p = torch.mean(embedded_p, dim=1).unsqueeze(dim=2)\n",
        "        embedded_t = self.embedding_t(text)\n",
        "        mean_t = torch.mean(embedded_t, dim=1).unsqueeze(dim=2)\n",
        "        flat = torch.cat((mean_p, mean_t), dim=2)\n",
        "        mean = torch.mean(flat, dim =2).float()\n",
        "        hidden = self.fc(mean)\n",
        "        out = self.act(hidden)\n",
        "        return out\n",
        "\n",
        "FT_model = FT_clf(len(word2id), 300, trained_weights, pretrained_weights, 1).to(device)\n",
        "optimizer_FT:torch.optim.Optimizer = torch.optim.Adam(FT_model.parameters())\n",
        "\n",
        "accs = []\n",
        "accs_eval = []\n",
        "for i in range(5):\n",
        "    print(i)\n",
        "    accs.append(train(FT_model, training_generator, optimizer_FT, loss_fn))\n",
        "    accs_eval.append(evaluate(FT_model, valid_generator, loss_fn))\n",
        "\n",
        "plt.plot(np.sqrt(accs))\n",
        "plt.plot(np.sqrt(accs_eval))\n",
        "plt.title('model Accuracy')\n",
        "plt.ylabel('Acc')\n",
        "plt.xlabel('epoch')\n",
        "plt.legend(['train', 'val'], loc='upper left')\n",
        "plt.show()"
      ],
      "execution_count": 57,
      "outputs": [
        {
          "output_type": "stream",
          "text": [
            "0\n",
            "Loss: 0.37658834297795435\n",
            "Loss: 0.3132213157316993\n",
            "Loss: 0.27810049670642517\n",
            "Loss: 0.2547839222833138\n",
            "1\n",
            "Loss: 0.1670497890349265\n",
            "Loss: 0.16619499578229663\n",
            "Loss: 0.16429894174802856\n",
            "Loss: 0.16289870735331458\n",
            "2\n",
            "Loss: 0.15632357491596086\n",
            "Loss: 0.15706855979649767\n",
            "Loss: 0.15629121362815185\n",
            "Loss: 0.15577001405391255\n",
            "3\n",
            "Loss: 0.15290624443982337\n",
            "Loss: 0.15380972967095946\n",
            "Loss: 0.15320720208579597\n",
            "Loss: 0.15287739191987748\n",
            "4\n",
            "Loss: 0.1509271163541872\n",
            "Loss: 0.1518869767708144\n",
            "Loss: 0.1513604524509038\n",
            "Loss: 0.1511221239923179\n"
          ],
          "name": "stdout"
        },
        {
          "output_type": "display_data",
          "data": {
            "image/png": "[encoded data removed]",
            "text/plain": [
              "<Figure size 432x288 with 1 Axes>"
            ]
          },
          "metadata": {
            "tags": [],
            "needs_background": "light"
          }
        }
      ]
    }
  ]
}