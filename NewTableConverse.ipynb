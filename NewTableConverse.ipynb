{
  "nbformat": 4,
  "nbformat_minor": 0,
  "metadata": {
    "colab": {
      "name": "NewTableConverse.ipynb",
      "provenance": [],
      "collapsed_sections": []
    },
    "kernelspec": {
      "display_name": "Python 3",
      "language": "python",
      "name": "python3"
    },
    "language_info": {
      "codemirror_mode": {
        "name": "ipython",
        "version": 3
      },
      "file_extension": ".py",
      "mimetype": "text/x-python",
      "name": "python",
      "nbconvert_exporter": "python",
      "pygments_lexer": "ipython3",
      "version": "3.8.3"
    }
  },
  "cells": [
    {
      "cell_type": "markdown",
      "metadata": {
        "id": "BWD_XuvSdvCw"
      },
      "source": [
        "### Импорт библиотек: выполнить 1 раз в начале работы"
      ]
    },
    {
      "cell_type": "code",
      "metadata": {
        "colab": {
          "base_uri": "https://localhost:8080/"
        },
        "id": "AcCkKG7adzaa",
        "outputId": "9cbcc915-bf9a-4ded-f3c6-66cf3e9c0d3c"
      },
      "source": [
        "!pip install bs4\n",
        "!pip install marshmallow\n",
        "!pip install pandas"
      ],
      "execution_count": 18,
      "outputs": [
        {
          "output_type": "stream",
          "text": [
            "Requirement already satisfied: bs4 in /usr/local/lib/python3.7/dist-packages (0.0.1)\n",
            "Requirement already satisfied: beautifulsoup4 in /usr/local/lib/python3.7/dist-packages (from bs4) (4.6.3)\n",
            "Requirement already satisfied: marshmallow in /usr/local/lib/python3.7/dist-packages (3.13.0)\n",
            "Requirement already satisfied: pandas in /usr/local/lib/python3.7/dist-packages (1.1.5)\n",
            "Requirement already satisfied: numpy>=1.15.4 in /usr/local/lib/python3.7/dist-packages (from pandas) (1.19.5)\n",
            "Requirement already satisfied: pytz>=2017.2 in /usr/local/lib/python3.7/dist-packages (from pandas) (2018.9)\n",
            "Requirement already satisfied: python-dateutil>=2.7.3 in /usr/local/lib/python3.7/dist-packages (from pandas) (2.8.1)\n",
            "Requirement already satisfied: six>=1.5 in /usr/local/lib/python3.7/dist-packages (from python-dateutil>=2.7.3->pandas) (1.15.0)\n"
          ],
          "name": "stdout"
        }
      ]
    },
    {
      "cell_type": "code",
      "metadata": {
        "id": "iga73d1Bdzab"
      },
      "source": [
        "import pandas as pd\n",
        "import os\n",
        "import re\n",
        "import shlex\n",
        "from bs4 import BeautifulSoup\n",
        "from abc import ABCMeta, abstractmethod\n",
        "from marshmallow import Schema, ValidationError, fields, validates, validates_schema\n",
        "from collections.abc import Callable\n",
        "from typing import List, Union\n",
        "from collections import OrderedDict"
      ],
      "execution_count": 19,
      "outputs": []
    },
    {
      "cell_type": "markdown",
      "metadata": {
        "id": "C1lBiV0qdzac"
      },
      "source": [
        "### Подгрузить файлы с интервью (левая панель в google colab)\n",
        "### выполнить все ячейки ниже\n",
        "### выполнить функцию main (см. ниже)"
      ]
    },
    {
      "cell_type": "markdown",
      "metadata": {
        "id": "k8D92m_Adzad"
      },
      "source": [
        "## Converters"
      ]
    },
    {
      "cell_type": "code",
      "metadata": {
        "id": "3Ze80Gvzdzad"
      },
      "source": [
        "class Singleton(type):\n",
        "    \"\"\"\n",
        "    Metaclass that ensures only one instance of each converter is present\n",
        "    \"\"\"\n",
        "    _instances = {}\n",
        "    def __call__(cls, *args, **kwargs):\n",
        "        if cls not in cls._instances:\n",
        "            cls._instances[cls] = super(Singleton, cls).__call__(*args, **kwargs)\n",
        "        return cls._instances[cls]"
      ],
      "execution_count": 20,
      "outputs": []
    },
    {
      "cell_type": "code",
      "metadata": {
        "id": "66c4XEGwdzad"
      },
      "source": [
        "def check_args(func:Callable) -> Callable:\n",
        "    \"\"\"\n",
        "    The decorator ensures that the file passed to the converter\n",
        "    1. exists\n",
        "    2. has the correct extension\n",
        "    3. is correctly named\n",
        "    \"\"\"\n",
        "    def wrapper(self, filename:str) -> Callable:\n",
        "        filepath = os.path.join(self.curdir, filename)\n",
        "        if not os.path.isfile(filepath):\n",
        "            raise OSError(\"File not found\")\n",
        "        filename, extension = os.path.splitext(filename)\n",
        "        if extension != self.old:\n",
        "            raise ValueError(\"Invalid file extension\")\n",
        "        if self.prefix not in filename:\n",
        "            raise ValueError(f\"The filename does not contain the required prefix {self.prefix}\")\n",
        "        return func(self, filename)\n",
        "    return wrapper"
      ],
      "execution_count": 31,
      "outputs": []
    },
    {
      "cell_type": "code",
      "metadata": {
        "id": "cQxF-g-ldzae"
      },
      "source": [
        "class AbstractConverter():\n",
        "    \"\"\"Abstract class for all converters\"\"\"\n",
        "    __slots__ = (\"prefix\", \"curdir\", \"old\", \"new\")\n",
        "    \n",
        "    def __init__(self, old:str, new:str, prefix:str=\"\") -> None:\n",
        "        self.prefix = prefix\n",
        "        self.curdir = os.getcwd()\n",
        "        self.old = \".\" + old\n",
        "        self.new = \".\" + new\n",
        "    \n",
        "    def convert(self, filename:str) -> None:\n",
        "        pass"
      ],
      "execution_count": 32,
      "outputs": []
    },
    {
      "cell_type": "code",
      "metadata": {
        "id": "ueb4cI5Pdzaf"
      },
      "source": [
        "class Docx2XmlConverter(AbstractConverter, metaclass=Singleton):\n",
        "    \"\"\"Converter from docx to xml\"\"\"\n",
        "    @check_args\n",
        "    def convert(self, filename:str) -> str:\n",
        "        \"\"\"Convertation method\n",
        "        :param filename str: name of the input file\n",
        "        :returns: name of the produced file\n",
        "        :rtype: str\n",
        "        \"\"\"\n",
        "        file = os.path.join(self.curdir, filename + self.old)\n",
        "        new_path = os.path.join(self.curdir, filename + self.new)\n",
        "        command = \"unzip -oqq %s\" % (shlex.quote(file))\n",
        "        os.system(command)\n",
        "        command_2 = \"mv word/document.xml %s\" % (new_path)\n",
        "        os.system(command_2)\n",
        "        return filename + self.new\n",
        "    \n",
        "class Doc2XmlConverter(AbstractConverter, metaclass=Singleton):\n",
        "    \"\"\"Converter from doc to docbook xml format\"\"\"\n",
        "    @check_args\n",
        "    def convert(self, filename:str) -> str:\n",
        "        \"\"\"Convertation method\n",
        "        :param filename str: name of the input file\n",
        "        :returns: name of the produced file\n",
        "        :rtype: str\n",
        "        \"\"\"\n",
        "        file = os.path.join(self.curdir, filename + self.old)\n",
        "        new_path = os.path.join(self.curdir, filename + self.new)\n",
        "        command = \"antiword -x db %s > %s\" % (shlex.quote(file),\n",
        "                                              shlex.quote(new_path))\n",
        "        return filename + self.new\n",
        "    \n",
        "class Doc2TXtConverter(AbstractConverter, metaclass=Singleton):\n",
        "    \"\"\"Converter from doc to txt format\"\"\"\n",
        "    @check_args\n",
        "    def convert(self, filename:str) -> str:\n",
        "        \"\"\"Convertation method\n",
        "        :param filename str: name of the input file\n",
        "        :returns: name of the produced file\n",
        "        :rtype: str\n",
        "        \"\"\"\n",
        "        file = os.path.join(self.curdir, filename + self.old)\n",
        "        new_path = os.path.join(self.curdir, filename + self.new)\n",
        "        command = \"antiword -t %s > %s\" % (shlex.quote(file),\n",
        "                                           shlex.quote(new_path))\n",
        "        return filename + self.new"
      ],
      "execution_count": 33,
      "outputs": []
    },
    {
      "cell_type": "code",
      "metadata": {
        "id": "_cE-9FWddzag"
      },
      "source": [
        "def convertermaker(old:str, new:str, prefix:str=\"\") -> AbstractConverter:\n",
        "    \"\"\"Factory function for converters\"\"\"\n",
        "    mapping = {\n",
        "        \"docxxml\":Docx2XmlConverter,\n",
        "        \"docxml\":Doc2XmlConverter,\n",
        "        \"doctxt\":Doc2TXtConverter\n",
        "    }\n",
        "    try:\n",
        "        return mapping[old + new](old=old, new=new, prefix=prefix)\n",
        "    except:\n",
        "        raise KeyError(f\"No converter for the file types {old} & {new}\")"
      ],
      "execution_count": 34,
      "outputs": []
    },
    {
      "cell_type": "markdown",
      "metadata": {
        "id": "zbTUYolmdzag"
      },
      "source": [
        "## Validator"
      ]
    },
    {
      "cell_type": "code",
      "metadata": {
        "id": "OCuQxWaxdzag"
      },
      "source": [
        "def validationmaker(true_vil: Union[str, None] = None,\n",
        "                    true_year: Union[str, None] = None) -> Schema:\n",
        "    \"\"\"\n",
        "    Factory function that defines a validation schema\n",
        "    :param true_vil Union[str, None]: village name spelling to be checked\n",
        "    :param true_year Union[str, None]: correct year to be checked\n",
        "    :returns: schema to load the object into\n",
        "    :rtype: Schema\n",
        "    \"\"\"\n",
        "    class ValidationSchema(Schema):\n",
        "        prog = fields.String(required=True)\n",
        "        @validates(\"prog\")\n",
        "        def progval(self, data, **kwargs):\n",
        "            if not bool(\n",
        "            re.match(r\"[IVXa]+\", data)):\n",
        "                raise ValidationError(f\"Incorrect symbols in program: {data}\")\n",
        "        \n",
        "        quest = fields.String(required=True)\n",
        "        @validates(\"quest\")\n",
        "        def questval(self, data, **kwargs):\n",
        "            if not bool(\n",
        "            re.match(r\"[0-9.,а-я]+\", data)):\n",
        "                raise ValidationError(f\"Incorrect symbols in question: {data}\")\n",
        "            if bool(re.search(r\"доп[^.]\", data)) == True:\n",
        "                raise ValidationError(f\"Missing '.' in question: {data}\")\n",
        "        \n",
        "        vil = fields.String(required=True)\n",
        "        @validates(\"vil\")\n",
        "        def vilval(self, data, **kwargs):\n",
        "            if true_vil is not None and data != true_vil:\n",
        "                raise ValidationError(f\"Incorrect village: {data}\")\n",
        "        \n",
        "        year = fields.String(required=True)\n",
        "        @validates(\"year\")\n",
        "        def yearval(self, data, **kwargs):\n",
        "            if true_year is not None and data != str(true_year):\n",
        "                raise ValidationError(f\"Incorrect year: {data}\")\n",
        "        \n",
        "        sob1 = fields.String(required=True)\n",
        "        sob2 = fields.String()\n",
        "        sob3 = fields.String()\n",
        "        sob4 = fields.String()\n",
        "        main = fields.String(required=True)\n",
        "        inf1 = fields.String(required=True)\n",
        "        inf2 = fields.String()\n",
        "        inf3 = fields.String()\n",
        "        inf4 = fields.String()\n",
        "        @validates_schema\n",
        "        def codeval(self, data, **kwargs):\n",
        "            for key in [\"sob1\", \"sob2\", \"sob3\", \"sob4\", \"inf1\", \"inf2\", \"inf3\", \"inf4\"]:\n",
        "                if key in data:\n",
        "                    if bool(re.search(r\"[^А-Я\\-0-9?]\", data[key])) == True:\n",
        "                        raise ValidationError(f\"Incorrect symbols in code {data[key]}\")\n",
        "    return ValidationSchema()"
      ],
      "execution_count": 25,
      "outputs": []
    },
    {
      "cell_type": "markdown",
      "metadata": {
        "id": "39xGb0vLdzai"
      },
      "source": [
        "## Parsers"
      ]
    },
    {
      "cell_type": "code",
      "metadata": {
        "id": "G0E0eaNTdzaj"
      },
      "source": [
        "def extension_check(extension:str) -> Callable:\n",
        "    \"\"\"\n",
        "    The decorator ensures that the file passed to the converter\n",
        "    1. exists\n",
        "    2. has the correct extension (txt/xml)\n",
        "    \"\"\"\n",
        "    def inner_checker(func:Callable) -> Callable:\n",
        "        def wrapper(_, file, *args, **kwargs) -> Callable:\n",
        "            _, file_ext = os.path.splitext(file)\n",
        "            if not file_ext == extension:\n",
        "                raise OSError(f\"Invalid file type: {file_ext}\")\n",
        "            filepath = os.path.join(os.getcwd(), file)\n",
        "            if not os.path.isfile(filepath):\n",
        "                raise OSError(f\"File not found: {file}\")\n",
        "            return func(_, file, *args, **kwargs)\n",
        "        return wrapper\n",
        "    return inner_checker"
      ],
      "execution_count": 26,
      "outputs": []
    },
    {
      "cell_type": "code",
      "metadata": {
        "id": "UzHV6zm4dzak"
      },
      "source": [
        "class Parser(metaclass=ABCMeta):\n",
        "    @abstractmethod\n",
        "    def parse(self, file:str) -> None:\n",
        "        pass\n",
        "    \n",
        "    @staticmethod\n",
        "    def separate(lines: List[str]) -> List[List[str]]:\n",
        "        \"\"\"\n",
        "        Splits the lines into groups\n",
        "        :param List[str] lines: all lines from a file\n",
        "        :return: A list of line groups, corresponding to db entries\n",
        "        :rtype: List[List[str]]\n",
        "        \"\"\"\n",
        "        corr_lines = lines.copy()\n",
        "        for i in range(len(corr_lines)): # transform lines with spaces only into empty lines\n",
        "            expr = re.compile(r\"^[ ]+$\")\n",
        "            if re.match(expr, corr_lines[i]):\n",
        "                corr_lines[i] = \"\"\n",
        "        big_line = \"&\".join(lines)\n",
        "        big_line = re.sub(r\"&&&+\", \"&&\", big_line) # Replace sequences of empty lines with one empty line\n",
        "        big_line = big_line.replace(\"\\\\\\\\\", \"\\\\\") # Replace double accent marks with single ones\n",
        "        raws = [i.split(\"&\") for i in big_line.split(\"&&\")] # Split by empty lines\n",
        "        return raws\n",
        "    \n",
        "    @staticmethod\n",
        "    def analyze(raw:List[str]) -> dict:\n",
        "        \"\"\"\n",
        "        Turn a single line group into a db entry\n",
        "        :param List[str] raw: 5 lines that make a db entry\n",
        "        :returns: A dict that can be used to create a pandas dataframe\n",
        "        :rtype: dict\n",
        "        \"\"\"\n",
        "        output_dict = OrderedDict()\n",
        "        prog, quest = re.split(r\"[–\\-]\", raw[0])\n",
        "        output_dict[\"prog\"], output_dict[\"quest\"] = prog, quest.strip()\n",
        "        vil, year = re.split(r\"['’ʼ‘]\", raw[1])\n",
        "        output_dict[\"vil\"], output_dict[\"year\"] = vil, year.strip()\n",
        "        authors = raw[2].split(\", \")\n",
        "        for idx, key in enumerate([\"sob1\", \"sob2\", \"sob3\", \"sob4\"]):\n",
        "            if idx < len(authors):\n",
        "                output_dict[key] = authors[idx].strip()\n",
        "            else:\n",
        "                output_dict[key] = \"\"\n",
        "        output_dict[\"main\"] = \"\\n\".join(raw[3:-1])\n",
        "        informers = raw[-1].split(\", \")\n",
        "        for idx, key in enumerate([\"inf1\", \"inf2\", \"inf3\", \"inf4\"]):\n",
        "            if idx < len(informers):\n",
        "                output_dict[key] = informers[idx].strip()\n",
        "            else:\n",
        "                output_dict[key] = \"\"        \n",
        "        return output_dict\n",
        "    \n",
        "    def main(self, file:str, validation_schema:Schema) -> None:\n",
        "        all_lines = self.parse(file)\n",
        "        try:\n",
        "            raw_objects = self.separate(all_lines)\n",
        "            objects = []\n",
        "            for obj in raw_objects:\n",
        "                if len(obj) > 3:\n",
        "                    try:\n",
        "                        objects.append(self.analyze(obj))\n",
        "                    except:\n",
        "                        raise Exception(f\"Error parsing object\\n{obj}\")\n",
        "            _ = validation_schema.load(objects, many=True)\n",
        "        except Exception as e:      \n",
        "            print(\"----\")\n",
        "            print(e)\n",
        "            raise Exception(f\"Error processing file {file} (see above)\")\n",
        "        filename, _ = os.path.splitext(file)\n",
        "        dataframe = pd.DataFrame.from_records(objects)\n",
        "        dataframe.to_excel(\"{}.xlsx\".format(filename), index=False)\n",
        "    \n",
        "class TxtParser(Parser):\n",
        "    @extension_check(\".txt\")\n",
        "    def parse(self, file:str) -> List[str]:\n",
        "        with open(file, encoding=\"utf-8-sig\") as content:\n",
        "            text = content.read()\n",
        "        lines = text.splitlines()\n",
        "        return lines\n",
        "        \n",
        "class DocBookParser(Parser):\n",
        "    @extension_check(\".xml\")\n",
        "    def parse(self, file:str) -> List[str]:\n",
        "        with open(file, encoding=\"utf-8\") as content:\n",
        "            text = content.read()\n",
        "        bs = BeautifulSoup(text, \"html.parser\")\n",
        "        paras = [p.text for p in bs.find_all(\"para\")]\n",
        "        return paras\n",
        "    \n",
        "class DocXmlParser(Parser):\n",
        "    @extension_check(\".xml\")\n",
        "    def parse(self, file:str) -> List[str]:\n",
        "        with open(file, encoding=\"utf-8\") as content:\n",
        "            text = content.read()\n",
        "        bs = BeautifulSoup(text, \"html.parser\")\n",
        "        paras = [p.text for p in bs.find_all(\"w:p\")]\n",
        "        return paras"
      ],
      "execution_count": 58,
      "outputs": []
    },
    {
      "cell_type": "code",
      "metadata": {
        "id": "Ee5I4Usmdzam"
      },
      "source": [
        "def parsermaker(option:str) -> Parser:\n",
        "    \"\"\"Factory function to produce a parser of the required type\n",
        "    :param option str: type of parser\n",
        "    :returns: parser of the specified type\n",
        "    :rtype: Parser\n",
        "    \"\"\"\n",
        "    mapping = {\n",
        "        \"txt\":TxtParser,\n",
        "        \"dbxml\":DocBookParser,\n",
        "        \"docxml\":DocXmlParser\n",
        "    }\n",
        "    try:\n",
        "        return mapping[option]()\n",
        "    except:\n",
        "        raise KeyError(f\"No parser for the type {option}\")    "
      ],
      "execution_count": 59,
      "outputs": []
    },
    {
      "cell_type": "markdown",
      "metadata": {
        "id": "P0JpZYDYdzam"
      },
      "source": [
        "## Функция main\n",
        "### Принимает на вход расширение (doc/docx)\n",
        "### Обрабатывает все файлы в данном расширении в текущей папке\n",
        "### Для ошибочных файлов пишет ошибку и пропускает"
      ]
    },
    {
      "cell_type": "code",
      "metadata": {
        "id": "A3zjc1vldzam"
      },
      "source": [
        "def main(extension:str,\n",
        "         true_year:Union[int, None]=None,\n",
        "         true_vil:Union[str, None]=None) -> None:\n",
        "    \"\"\"Function to process the word files in the current directory\n",
        "    :param extension str: doc or docx\n",
        "    :param true_year int: year to validate (if needed)\n",
        "    :param true_vil str: village name to validate (if needed)\n",
        "    \"\"\"\n",
        "    antiword_check = 'if ! [ -x \"$(command -v antiword)\"];then apt install antiword;fi;'\n",
        "    os.system(command=antiword_check)\n",
        "    validator = validationmaker(true_vil=true_vil, true_year=true_year)\n",
        "    if extension == \"docx\":\n",
        "        converter = convertermaker(\"docx\", \"xml\")\n",
        "        parser = parsermaker(\"docxml\")\n",
        "    elif extension == \"doc\":\n",
        "        converter = convertermaker(\"doc\", \"txt\")\n",
        "        parser = parsermaker(\"txt\")\n",
        "    else:\n",
        "        raise ValueError(f\"Incorrect extension: {extension}\")\n",
        "    for file in os.listdir(os.getcwd()):\n",
        "        if file.endswith(extension):\n",
        "            try:\n",
        "                newfile = converter.convert(filename=file)\n",
        "                parser.main(file=newfile, validation_schema=validator)\n",
        "            except Exception as e:\n",
        "                print(e)\n",
        "                continue"
      ],
      "execution_count": 60,
      "outputs": []
    },
    {
      "cell_type": "markdown",
      "metadata": {
        "id": "CvgPtB_7dzan"
      },
      "source": [
        "### Выполнить один раз\n",
        "### Скачать готовые таблицы на компьютер (левая панель в google colab)\n",
        "### Если есть ошибочные файлы:\n",
        "#### 1) Отредактировать\n",
        "#### 2) Выполнить ячейку для удаления всех текущих файлов (вторая снизу)\n",
        "#### 3) Подгрузить файлы заново, выполнить и скачать таблицы"
      ]
    },
    {
      "cell_type": "code",
      "metadata": {
        "colab": {
          "base_uri": "https://localhost:8080/"
        },
        "id": "_FjFo4yUdzan",
        "outputId": "74801002-2f43-44c7-a623-3d59e5cdc9cf"
      },
      "source": [
        "main(\"docx\", true_vil=\"Новолокти\", true_year=2021)"
      ],
      "execution_count": 61,
      "outputs": [
        {
          "output_type": "stream",
          "text": [
            "----\n",
            "Error parsing object\n",
            "['XI-8 г, д, з, доп. Новолокти’2021БАА[Соб.: если хлеб не получался, его выбрасывали?] [ДЮН:] Не. [ДГТ:] Не. [ДЮН:] На сухари\\\\ и у% мешо\\\\чек. [Если хлеб совсем сгорал, что с ним делали?] [ДГТ:] У%о, на у%у\\\\лицу. У нас скоти\\\\на, дък съяду\\\\т и «спаси\\\\бо» ска\\\\жут. [ДЮН:] Ну, поро… порося\\\\там. [ДГТ:] А э\\\\то хоть запе\\\\йся – дак нихуя\\\\ не ска\\\\жут. Ни «спасибо», ни… [А если падает на пол хлеб?] Ну чё – ', 'о\\\\сти бу\\\\дут. [Хлеб надо поднять?] Да. Поцалоу%а\\\\ть. [ДЮН:] Поцалоу%а\\\\ть, да. [И съесть надо?] [ДГТ:] Хошь – ешь, хошь – ня е\\\\шь. Твоё\\\\ де\\\\ло. [ДЮН:] Ну ра\\\\ньше-то… Э\\\\то вот щас вот кро\\\\шки со стола\\\\ раз – и всё, у% ведро\\\\. А ра\\\\ньше кро\\\\шки со стола\\\\... Хлеб поре\\\\жет, у% ладо\\\\шку и… Чтоб вы\\\\бросить хлеб – э\\\\то ', 'рех. Ну, как, ', 'рех. [ДГТ:] Ну, [г]де как ска\\\\жут. [ДЮН:] Х… хлеб-то всему\\\\ ', 'олова\\\\. Э\\\\то уже\\\\... И урони\\\\л на по\\\\л – поды\\\\мешь, поцелу\\\\ешь и… Э\\\\то щас мы с хле\\\\бом… [ДГТ:] Да хоть како\\\\й есть. Е\\\\сли хошь ешь… есть, дак забе\\\\решь бу\\\\лку. [ДЮН:] А ра\\\\ньше – бо\\\\же упаси\\\\. [Если уже ешь кусок, можно было второй брать?] [ДГТ:] Сыро\\\\й? [ДЮН:] Ну, а как? Всё на столе\\\\ стои\\\\т, дък коне\\\\чно. [Можно вторую булку в один день начинать?] [ДГТ:] О_х, Татья\\\\на Па\\\\вловна [знакомая ДГТ] зна\\\\ет, как стря\\\\пать. [Соб.: Угу.] У', 'e\\\\. [Соб. повторяет вопрос.] Ну, а чё нельзя. [ДЮН:] Ну. [ДГТ:] Я вот помочу у% чай... [ДЮН:] Как… как… как нельзя\\\\. Тода\\\\ ж се\\\\мьи бы\\\\ли: и во\\\\семь, и двена\\\\дцать челове\\\\к. [ДГТ:] Всё съеда\\\\ли. [ДЮН:] Ве\\\\чером ста\\\\вят э\\\\ту… Те\\\\сто чтоб поспе\\\\ло, а у\\\\тром, четы\\\\ре часа\\\\, у%от как у нас ба\\\\ба Со\\\\ня б… моя\\\\ ба\\\\бушка. В четы\\\\ре часа\\\\ она\\\\ уже\\\\... [… – Баба Соня умерла 15 лет назад.] А к ней придё\\\\шь… Я у% са\\\\дик не ходи\\\\л, а, э\\\\то, а у% семь часо\\\\в у ей уже\\\\ вся вы\\\\печка на… э\\\\то, вы\\\\ложена. ДГТ, ДЮН']\n",
            "Error processing file DJun_DGT_txt.xml (see above)\n",
            "----\n",
            "{12: {'_schema': ['Incorrect symbols in code ОМС[А вот слышали']}}\n",
            "Error processing file ShLT_txt.xml (see above)\n",
            "----\n",
            "{2: {'_schema': ['Incorrect symbols in code БАА ФЕО']}, 3: {'_schema': ['Incorrect symbols in code БАА ФЕО']}, 4: {'_schema': ['Incorrect symbols in code БАА ФЕО']}, 5: {'_schema': ['Incorrect symbols in code БАА ФЕО']}, 6: {'_schema': ['Incorrect symbols in code БАА ФЕО']}, 7: {'_schema': ['Incorrect symbols in code БАА ФЕО']}}\n",
            "Error processing file KPD_txt.xml (see above)\n",
            "File not found: ZNV_(21.07)_txt.xml\n",
            "----\n",
            "Error parsing object\n",
            "['Va-13 б Новолокти’2021ССП, ДИС, ОМС [Собиратель замечает вербные ветки, лежащие в красном углу. Вопрос: А это к празднику к какому-то?] [ЖНИ:] Я не зна\\\\ю, э\\\\то… Ба\\\\ба [обращаясь к ГЛВ]! Он спра\\\\шивает, у ико\\\\ны э\\\\та ве\\\\рба к Ве\\\\рбному воскресе\\\\нью или чё? [ГЛВ:] А', 'а\\\\. Э\\\\то вот деу%чо\\\\нка, э\\\\то Ви\\\\ка. [ЖНИ:] А', 'а\\\\. [ГЛВ:] Че\\\\рез доро\\\\', 'у. [ЖНИ:] Да-да. [ГЛВ:] Прино\\\\сит мне, ну как, то Серё\\\\жка Живуно\\\\у% приу%но\\\\сить мне, го… Ну, я у%зяла\\\\ да и поста\\\\вила. Пуска\\\\й сто\\\\ить, что она\\\\, меша\\\\еть? [ЖНИ:] А', 'а\\\\. Да-да. [ГЛВ:] А… а стикотворе\\\\нье како\\\\е - я не зна\\\\ю [ранее у ГЛВ спрашивали, какие тексты пели во время голошения, она не знала]. Э\\\\то хоть Ви\\\\ка пришла\\\\, принесла\\\\, ну така\\\\я вот, как вы, ско\\\\лько вам годо\\\\у% - и ей уже\\\\ подходя\\\\. Вот. ЖНИ, ГЛВ']\n",
            "Error processing file ZhNI_GLV_txt.xml (see above)\n",
            "----\n",
            "Error parsing object\n",
            "['Новолокти’2021', 'АМА, РЕВ, ФЕЕ', '[Кем пугали детей, чтобы они никуда не лазили?] [ДГД:] Ну ка\\\\к [смеется]… [ДИА:] Бу\\\\кой! [Кем?] Бу\\\\ка! [Бука?] Бу\\\\кой пуга\\\\ли [смеется]. [А что это такое?] А кто\\\\ ж его\\\\ зна\\\\ет [смеются]. ', 'ДИА, ДГД    ']\n",
            "Error processing file DAI_DGD_DIA_txt.xml (see above)\n",
            "File not found: ZNV_ZLA_(27.07)_txt.xml\n",
            "----\n",
            "{19: {'prog': ['Incorrect symbols in program:  VIa']}, 14: {'vil': ['Incorrect village: Новолкти']}}\n",
            "Error processing file ZhNI_txt.xml (see above)\n",
            "----\n",
            "Error parsing object\n",
            "['XIII-4 доп.Новолокти’21ЗАЛ, ДИС, НАЮ[Соб.: ФГВ рассказывала, что вы с ней в детстве куда-то шли, и вас свинья погнала.] [... –у ФГВ в доме БИФ в основном и была в детстве, они дружили.] [А историю про свинью-то помните?] По\\\\мню. [Соб.: Расскажите!] Ну, сви\\\\н_я подня\\\\у%ши была\\\\, ей на\\\\до бы\\\\ло… хряка\\\\, как сказа\\\\ть, ну\\\\, в охо\\\\те была\\\\. Ну она\\\\ и бежа\\\\ла за кем попа\\\\ло, а мы ду\\\\мали, что э\\\\то кто\\\\-то перяоде\\\\у%ши, сде\\\\лау%ши свиньё\\\\й, и на\\\\с ', 'оня\\\\ет. А хто\\\\... Мальчи\\\\шки на э\\\\то… на у', 'лы\\\\ зала\\\\зили [смеётся] на и\\\\збах, а мы убе', 'а\\\\ли: «Карау\\\\л! А_\\\\! Бяжи\\\\т!» [А вы думали, это кто-то сделался свиньёй?] Да, мы ду\\\\мали, что о\\\\боротень. [На кого-то конкретного думали?] Да _чёрт ее\\\\ зна\\\\еть, я уже тяпе\\\\рь не по\\\\мню, у%от у Га\\\\ли [ФГВ] и спроси\\\\, она\\\\ тэ и расска\\\\жет, она\\\\ те\\\\ бо\\\\льше расска\\\\жет. [… - через некоторое время разговор возвращается к теме.] [А чем детей здесь пугали, если вредничали?] Я пу', 'ли\\\\вая была\\\\, боязли\\\\вая – я %ся', 'о\\\\ боя\\\\лась. А_ у%сяо\\\\: мыше\\\\й боя\\\\лась – так вот но\\\\', 'и подко\\\\рчивши сяде\\\\ла. Дак вот. [А какими-нибудь фантастическими..?] Не. [Вот оборотнями?] Ну, вот э\\\\то вот тада\\\\ вот, по… побе\\\\', 'ала э\\\\та свин_я\\\\ за нам и у%сё. [Смеётся.] Она\\\\ в охо\\\\те была\\\\ свин_я\\\\, подня\\\\у%ши. Ей жениха\\\\ на\\\\до бы\\\\ло, а не мы. Мы на что\\\\ ей?БИФ']\n",
            "Error processing file BIF_txt.xml (see above)\n",
            "----\n",
            "Error parsing object\n",
            "[\"XXVI-1 а, б, 2 а, б, 8 а, доп.Новолокти'2021БАА, ФЕЕ\", '[Соб. ранее спрашивает о страшных местах в округе, информанты показывают на школу. Соб.: а что там?] [СЮВ:] Там то\\\\же гво\\\\зди, но мы иногда\\\\ ве… на ве\\\\тки встаём, а ве\\\\тки па\\\\дают же, отпа\\\\дывают. [Встаёте, когда по деревьям лазаете?] Да. [Вы так играете?] Да, мы игра\\\\ем. [Что за игра, в которой надо на ветки вставать?] Ну, мы иногда\\\\ пря\\\\чемся, бе\\\\гаем. [А как это называется?] Пря\\\\тки. Игра\\\\ем. [Как?] Ну, мы счита\\\\ем, пото\\\\м пря\\\\чемся. [СМВ:] Мы счита\\\\ем до пяти\\\\. [СЮВ:] А пото\\\\м уже\\\\ нас и\\\\щут. [Как называется человек, который ищет?] Челове\\\\к? Ну… [Одновременно СМВ:] Ну, и на\\\\до говори\\\\ть, там, «ту\\\\ки-ту\\\\ки Ке\\\\ша», там, наприме\\\\р. [Когда так говорят?] Когда\\\\ нашёл кого\\\\-то и э\\\\то. [Ты говоришь «ту\\\\ки-ту\\\\ки Ке\\\\ша»?] Да. [И что потом происходит?] [СЮВ:] Ну, пото\\\\м происхо\\\\дит, ну, нас нашли, нас нашли\\\\, и мы тепе\\\\рь счита\\\\ем. Кого\\\\-то ти\\\\па… Кого-\\\\то там зага\\\\сим, наприме\\\\р, и он во\\\\да. [Что значит загасить?] Зага\\\\сить? Мы игра\\\\ем в га\\\\сики. Га\\\\сики. [Одновременно СМВ:] Га\\\\сики. [Что это значит?] [СЮВ:] Ну, га\\\\сики – э\\\\то так, что\\\\бы мы, наприме\\\\р, бе\\\\гали там на поля\\\\нке, там на поля\\\\нке, пото\\\\м кого\\\\-то, вот, наприме\\\\р, Мари\\\\ну зага\\\\сили, и она\\\\ во\\\\да. Пото\\\\м мы бежи\\\\м-беж\\\\им, зага\\\\сили, и вот, тепе\\\\рь мы не игра\\\\ем. [То есть как догонялки?] Да. [Есть игра, когда надо и прятаться, и догонять?] Да, есть. [Как она называется?] Ну, мы иногда\\\\ игра\\\\ем в са\\\\лочки, они\\\\ весёлые. [Это как?] Ну, Мари\\\\на зна\\\\ет, как игра\\\\ть, расскажи\\\\. Ну, вы же в са\\\\дике игра\\\\ете. [СМВ:] Ну, ка\\\\мушек кида\\\\ешь, так пры\\\\гаешь и вот. Кла\\\\ссики. [И это называется салочки?] Да. Ну, до деся\\\\тки, наприме\\\\р. Ну, на ци\\\\форку вот так кида\\\\ешь на каку\\\\ю-нибудь, а пото\\\\м допры\\\\гиваешь вот так, и всё. [Одновременно СЮВ:] Ну, до деся\\\\тки, наприме\\\\р, на каку\\\\ю ци\\\\фру ки\\\\нул, а пото\\\\м допры\\\\гиваешь, и всё. [А если камушек лёг между цифорками?] Ме\\\\жду ци\\\\ферками? То\\\\же так же, наприме\\\\р… [Одновременно СМВ:] Нет, выхо\\\\дишь сра\\\\зу из игры\\\\. [СЮВ:] Наприме\\\\р вот так вот… Встаёшь, вот тут вот ка\\\\мушек кида\\\\ешь, и вот тут вот на ци\\\\форку вста\\\\нешь. [То есть выходишь из игры, если камушек упал на линию?] [СЮВ:] Да. [СМВ утвердительно мычит.] [А если камушек упал за поле?] [СМВ:] То\\\\же выхо\\\\дишь из игры\\\\. [СЮВ:] Быва\\\\ет, но ты выз… выбыва\\\\ешь из игры\\\\. [СМВ:] Совсе\\\\м. [То есть надо всё время бросать на цифру?] Да. [И прыгать?] Да. [И кто выиграет?] [СЮВ:] Ну, кто вы\\\\играет, тот победи\\\\тель. Тому\\\\ приз достаётся. [СМВ утвердительно мычит.] [Что за приз?] [СЮВ:] Ну там, игру\\\\шки. [Одновременно СМВ:] Жева\\\\чка. Татуиро\\\\вки. [СЮВ:] Вся\\\\кие игру\\\\шки там… Мя\\\\гкие игру\\\\шки там, рези\\\\новые у\\\\точки там… Там, поп-ы\\\\ты вся\\\\кие… [СМВ:] Симпл-ди\\\\мпл… [Есть тот, кто постоянно выигрывает?] [СЮВ:] Да, есть. [СМВ:] Я. [У тебя есть прозвище?] Нет. [А у тебя?] [СЮВ:] Не\\\\ту. [А вообще есть у кого-нибудь прозвища?] Не\\\\ту ни у кого\\\\. Про\\\\сто е\\\\сли… Е\\\\сли у кого\\\\-то не получа\\\\ется, они\\\\ средо... средото\\\\чатся и начина\\\\ют игра\\\\ть, уже\\\\ присоединя\\\\ются с на\\\\ми игра\\\\ть. [СМВ:] Я на второ\\\\м ме\\\\сте. [СЮВ:] Например, там в мя\\\\чик ки\\\\нул. Там в о\\\\бруче… О\\\\бруч покру\\\\тишь с… Там попры\\\\гаешь, поигра\\\\ешь в тви\\\\стер. [Что это?] Э\\\\то како\\\\й ц… там цвет, выбира\\\\ешь. Ска\\\\жет: ле\\\\вая нога\\\\, там, пра\\\\вая… И вот так ста\\\\вишь, и вот так вот, ста\\\\вишь, ста\\\\вишь. [А кто говорит?] Ну, говори\\\\т, э… [СМВ:] Веду\\\\щий. [СЮВ:] Веду\\\\щий говори\\\\т. […] [Как выбираете водящего?] Ну, наприме\\\\р, мы игра\\\\ем на су-е-фа\\\\, там, кто бу\\\\дет вот так… [Хором:] Су\\\\-е-фа\\\\. [Покажите?] Ну, вот так вот: [хором, демонстрируют] су-е-фа\\\\. Ну, вот та\\\\к вот. Су-е-фа\\\\. И, пото\\\\м, кто проигра\\\\л, тот и ком… [Как можно выбросить пальцы? Какие есть варианты?] Вариа\\\\нты? [Как можно выбросить пальцы?] Мо\\\\жно ка\\\\мень. [Одновременно СМВ:] Мо\\\\жно ка\\\\мень… [СЮВ:] Бума\\\\гу, но\\\\жницы и… всё. [И всё?] Да. [СМВ утвердительно мычит.] [По-другому можно? Что-то ещё выбросить?] [СЮВ:] Ну, нет, по-друго\\\\му незя\\\\. Есть… [СМВ:] Каранда\\\\ш. [СЮВ:] Есть така\\\\я: каранда\\\\ш, ого\\\\нь, вода\\\\ и желе\\\\зная рука\\\\. Есть так вот. [Покажите.] [СЮВ:] Э\\\\то, наприме\\\\р… [СМВ:] Ну, наприме\\\\р, коло\\\\дец вот так вот. [Показывает кулак.] [СМВ:] Да вот… [А что такое карандаш?] [Хором:] Каранда\\\\ш – э\\\\то… [СЮВ:] Вот так вот па\\\\лец ты ста\\\\вишь. [Показывает указательный палец.] [СМВ:] Е\\\\сли ка\\\\мень, то вот так вот де\\\\лаешь. [СЮВ:] Да, вот та\\\\к вот. [А огонь?] А ого\\\\нь мы, ти\\\\па вот так вот де\\\\лаем, вот так. [Вытягивает руки вперёд и шевелит пальцами.] [А вода?] Вода\\\\ – во\\\\лны. [Делает «волну» одной рукой.] [Что кого бьёт?] [СМВ:] Ого\\\\нь… Ну, коро\\\\че, вода\\\\ вот ого\\\\нь зату\\\\шивает. [СЮВ:] Да. [А огонь что побеждает?] [СЮВ:] А ого\\\\нь побежда\\\\ет во\\\\лны. Он ту\\\\шит их. [А карандаш?] Каранда\\\\ш… Ка\\\\мень лома\\\\ет каранда\\\\ш. [Карандаш кого-нибудь побеждает?] Нет, каранда\\\\ш никого\\\\. [Никого не побеждает?] Да. [СМВ:] Его\\\\ потому\\\\ что лома\\\\ют. [СЮВ:] Ну, каранда\\\\ш рису\\\\ет. [Ещё можно как-то выбрать водящего?] Бо\\\\льше не\\\\ту. [На считалки, может быть?] [СМВ:] Ну, счита\\\\лки мы так и де\\\\лаем. Е\\\\хал Лу\\\\нтик на теле\\\\жке, продава\\\\л он всем оре\\\\шки. Кому\\\\ два, кому\\\\ три, дирижёром бу\\\\дешь ты. [Повтори, пожалуйста.] Е\\\\хал Лу\\\\нтик на теле\\\\жке, продава\\\\л он всем оре\\\\шки. Кому\\\\ два, кому\\\\ три, дирижёром бу\\\\дешь ты. [СЮВ:] Ну, вот так приме\\\\рно. [Ещё есть какие-то?] Не\\\\ту. [СМВ:] У нас то\\\\лько одна\\\\. [Если кто-то не хочет кем-то быть?] [СЮВ:] Ну, ну, мы не зна\\\\ем, е\\\\сли кто\\\\-то не хо\\\\чет игра\\\\ть, то мы са\\\\ми игра\\\\ем, нам ску\\\\чно – мы са\\\\ми и', 'ра\\\\ем. [СМВ одновременно:] Мы са\\\\ми игра\\\\ем. [Говорите «чур не я»?] [СЮВ:] Ну, ну да, говори\\\\м. [СМВ:] Говори\\\\м. [СЮВ:] Вот, как Мари\\\\на де\\\\лает. «Чур не я», вот так вот. [СМВ:] Чур не я. [Закрывает нос одним пальцем.] На\\\\до на нос показа\\\\ть? [СЮВ:] Да. [СМВ:] Да. Чур не я. [Нужно на скорость сказать?] [СЮВ:] Да. [СМВ соглашается.] [СЮВ:] Кто быстре\\\\е ска\\\\жет «чур не я»… [Присаживаться надо?] Нет, приса\\\\живаться не на\\\\до. [А дразните друг друга?] Ну, иногда\\\\. Дра\\\\зним. [А как дразните?] Ну там, чё\\\\-то ты пока\\\\жешь друзья\\\\м, друзья\\\\ у тя заберу\\\\т… [СМВ кривляется.] [СЮВ:] Там подра\\\\знят, всё, и пото\\\\м мы им отдаём наза\\\\д. [… – дразнилок с именами нет, СЮВ вспоминает:] Ну, меня\\\\ сестра\\\\ всегда\\\\ бьёт, а пото\\\\м обзыва\\\\ет. [А как обзывает?] Ну… [СМВ:] Малы\\\\шка. [Как?] [СЮВ:] Малы\\\\шка. [Да?] Да [смеется.] Хотя\\\\ я щас бу\\\\ду учи\\\\ться в пя\\\\том кла\\\\ссе, [указывая на СМВ] она\\\\ у меня\\\\ то\\\\ко в пе\\\\рвый пойдё\\\\т. [Соб., указывая на СМВ: А её как зовут, её ты называешь как-нибудь?] Ну, я называ\\\\ю её первокла\\\\шкой… кака\\\\шкой. [Смеются.] Ну, так незя\\\\ говори\\\\ть. Нам так говори\\\\ли уже\\\\ в пе\\\\рвом кла\\\\ссе. [А почему нельзя?] Ну, потому\\\\ что е\\\\сли ты на кого\\\\-то ска\\\\жешь так, вам… вам бу\\\\дет пло\\\\хо. Стано\\\\вится пло\\\\хо. Тому\\\\ что… [СМВ:] И сты\\\\дно. [СЮВ:] Да. [Вы ссоритесь?] Да. [СМВ:] Да, а пото\\\\м ми\\\\римся. [СМВ:] Да. [А как миритесь?] А вот та\\\\к вот. [Берутся мизинцами. Соб. начинает снимать процесс.] [СЮВ:] Мири\\\\сь-мири\\\\сь-мири\\\\сь и бо\\\\льше не дери\\\\сь, а е\\\\сли бу\\\\дешь дра\\\\ться, и я начну\\\\ куса\\\\ться, а куса\\\\ться не при чём… [СМВ:] Потому\\\\ что [хором] мы друзья\\\\. [Обнимаются.] [СЮВ:] Вот так. [Говорят о том, как ласково называют друг друга. – Соб.: А уроки у вас называют по-особому, смешно?] А, ну, есть. [СМВ:] Есть. [СЮВ:] Смеши\\\\лка называ\\\\ется. [Расскажи.] [СМВ:] Я коро\\\\ль, ты говно\\\\. [Смеются.] [Как?] [СЮВ:] Я коро\\\\ль, а ты говно\\\\. [Когда так говорят?] Ну, когда\\\\, наприме\\\\р, ты игра\\\\ешь, там, в са\\\\лочки, наприме\\\\р, там, говори\\\\шь: «Я коро\\\\ль…», – на гора\\\\х там сиди\\\\шь, наприме\\\\р. Я коро\\\\ль, а ты говно\\\\. Вот так вот говоря\\\\т. [Смеются.] Иногда\\\\ на\\\\ши друзья\\\\ так говоря\\\\т. [Что значит «на горах сидишь»?] Э\\\\то игра\\\\ называ\\\\ется «на гора\\\\х сиди\\\\шь», коро\\\\ль на гора\\\\х. [Как в неё играть?] Ну, коро\\\\ль их выгоня\\\\ет. То есть коро\\\\ль сиди\\\\т на гора\\\\х… [Одновременно СМВ:] Я коро\\\\ль, ты говно\\\\. [СЮВ:] И коро\\\\ль говори\\\\т: «Иди\\\\», – и, кто са\\\\мый гла\\\\вный, мы так же выбира\\\\ем и\\\\мя, и вот э\\\\то всё. [Кто становится королём?] Ну, чьё и\\\\мя назовём, тот и королём. Наприме\\\\р, Мари\\\\на – она\\\\ коро\\\\ль. Мы должны\\\\ побе\\\\... Пока\\\\ Мари\\\\на не закро\\\\ет глаза\\\\, мы должны\\\\ ей хоро\\\\шие слова\\\\ сказа\\\\ть, а пото\\\\м уже\\\\ Мари\\\\на откро\\\\ет глаза\\\\, а мы на горе\\\\, и она\\\\ нас всех пуга\\\\ет, ка[к] бу\\\\[д]то… [СМВ изображает рык.] [СЮВ:] Да, вот так вот. Как привиде\\\\ние. Пуга\\\\ет, и мы по всей поля\\\\не бе\\\\гаем. [От неё?] От неё. [Она вас догоняет?] Да, она\\\\ нас догоня\\\\ет. [До того, как король закроет глаза, нужно сказать хорошие слова?] [СМВ:] Да. [Какие?] [СЮВ:] Хоро\\\\шие слова\\\\, наприме\\\\р, там люби\\\\мая, хоро\\\\шая, вот так вот. [СМВ одновременно:] Ну любы\\\\е. [Потом король закрывает глаза?] Да. [Вы разбегаетесь?] Да. [Она вас ловит?] Да, она\\\\ нас ло\\\\вит. [А когда поймала?] Когда пойма\\\\ла, тот и во\\\\да бу\\\\дет. [СМВ:] Тот и во\\\\да. [У вас есть привидения?] Не\\\\ту. Да, не\\\\ту. У нас не существу\\\\ет их вообще. [Рассказывали какие-нибудь истории страшные?] Расска\\\\зывали. [СЮВ:] Ну, мне расска\\\\зывали уже\\\\ в шко\\\\ле. [СМВ:] В одно\\\\м чёрном-чёрном до\\\\ме... Ну, там не по\\\\мню да\\\\льше. [А тебе что рассказывали?] [СЮВ:] Мне расска\\\\зывали, что, ти\\\\па, волк где-то хо\\\\дит в лесу\\\\ у нас, а его\\\\ не существу\\\\ет, они про\\\\сто, ти\\\\па, издева\\\\ются над на\\\\ми, что, ти\\\\па, волк щесуще… существу\\\\ет в лесу\\\\. У нас ещё и лиса\\\\, там, на на\\\\шей у\\\\лице Зелёной. Её… она\\\\ то\\\\ко но\\\\чью выхо\\\\дит. [СМВ утвердительно мычит.] [Что за лиса?] [СЮВ:] Залиса\\\\ така\\\\я, ры\\\\женькая, и у неё пёстрый хво\\\\стик тако\\\\й. [Да?] Да. И она\\\\ выхо\\\\дит иногда\\\\. [СМВ:] Мы её бои\\\\мся. [Почему?] [СЮВ:] Вот там вот, как на\\\\ш дом, и вот ещё прямо\\\\й. Вот там. Вот тут вот, во\\\\зле нас вот. Здесь мы, а тут на\\\\ши колёсики, вот тут, вот так вот пря\\\\мо стоя\\\\т, и там вон прохо\\\\дишь, и там лиса\\\\ ры\\\\женькая така\\\\я ви\\\\дится. [Видится?] Да, она\\\\ в темноте\\\\ да\\\\же глаза\\\\ми све\\\\тится. [Она страшная?] Да. [СМВ:] Да. [СЮВ:] Мо\\\\жет укуси\\\\ть иногда\\\\. ', 'СЮВ, СМВ']\n",
            "Error processing file SJuV_SMV_txt.xml (see above)\n",
            "----\n",
            "Error parsing object\n",
            "['де-то у% ', 'о\\\\роде Черка\\\\ссе ', 'Ста\\\\рый дом, пуши\\\\стая ветла\\\\, ', 'Пионе\\\\рка шесто\\\\', 'о кла\\\\сса', 'Де\\\\вочка Людми\\\\ла там жила.', 'Яна\\\\ прие\\\\хала, мы дава\\\\й э\\\\ту. Хоро\\\\шая пе\\\\сня! Ну дык… дык… так, хто услы\\\\шит, и всё. [Декламирует:]']\n",
            "Error processing file FGV_KVM_txt.xml (see above)\n",
            "----\n",
            "{5: {'prog': ['Incorrect symbols in program: ХIII']}}\n",
            "Error processing file MOI_KMV_KAM_txt.xml (see above)\n",
            "----\n",
            "Error parsing object\n",
            "['овори\\\\ли вам э\\\\ту? [Соб.: Нет.] [Продолжает декламировать:]', '– Брось, моя\\\\ де\\\\точка, брось, моя\\\\ ми\\\\лая, ', 'Брось, переста\\\\нь ты грусти\\\\ть. [Поёт:] ', 'Вре\\\\мя придё\\\\т, ты сполю\\\\бишь друго\\\\гоИ бу\\\\дешь счастли\\\\во с ним жить. ', 'Ой, то\\\\лько сказа\\\\ть, сто\\\\лько пе\\\\сен, не зна\\\\ю, ну, они\\\\ у%се… Их не по… не доста\\\\ть уже\\\\ – забы\\\\ты. [...] «За реко\\\\й удало\\\\й два цвето\\\\чка цвело\\\\...» [ШОА перебивает:] Ма\\\\ма, я э\\\\того не зна\\\\ю. [БВК:] Вот я им. [Поёт:] «Два цвето\\\\чка ц’вело\\\\, бе\\\\лый, ро\\\\зо…» [ШОА, перебивая:] Мама\\\\, ма\\\\ма, не то. [БВК:] Я ем. [Соб.: Нам такую песню тоже интересно послушать.] [ШОА:] Дак а она\\\\ то\\\\же её\\\\ си\\\\льно не споё\\\\т. […] [БВК декламирует:] «…Не оди\\\\н я их рвал, всех друзе\\\\й собира\\\\л». [ШОА перебивает:] Мам! [БВК:] А? [ШОА:] Ку\\\\шай. [БВК:] Чё? [ШОА:] Ты поку\\\\шай, пото\\\\м мы споё\\\\м, хорошо\\\\? [БВК:] А я пото\\\\м забу\\\\ду. [ШОА:] А я тебе\\\\ напо\\\\мню. [Поёт:] «Собира\\\\лись казаче\\\\ньки…» [Прерывается:] Нет, мам, пое\\\\шь, внача\\\\ле ешь. [БВК поёт:] «У\\\\тром ра\\\\но на заре\\\\...» [ШОА перебивает:] Ма\\\\ма, ешь! [БВК:] Ем. [ШОА:] Ма\\\\ма, ешь, пото\\\\м я пото\\\\м опя\\\\ть бу\\\\ду от… Вот поку\\\\шаешь, пото\\\\м бу\\\\дем петь, девчо\\\\нки поку\\\\шают, а пото\\\\м бу\\\\дем рабо\\\\тать, да, де\\\\вочки? [… – Информанты уговаривают собирателей поесть. Заходит ШНС.] [ШОА:] А зна\\\\ете, как он поё\\\\т мне «Це\\\\пи»? [Напевает:] «Не расстра\\\\ивай, ма\\\\ма, ты меня\\\\...» [Говорит:] Зна\\\\ете, как он? Э_, ещё\\\\ тот кре\\\\ндель. [… – Отвлекаются от темы. У БВК три дочери и сын. Через некоторое время возвращаются к песням. ШОА начинает петь, БВК потом присоединяется:] ', 'Не\\\\бо тё\\\\мно-си\\\\нее, ', 'Ве\\\\чер к но\\\\чи кло\\\\нится,', 'Не послу\\\\шать се\\\\рдце ли…', '[БВК говорит:] Кто бу\\\\дет тяну\\\\ть? [ШОА:] Ты. [Продолжают петь:]', 'Не пойти\\\\ око\\\\лицей?', 'Мо\\\\жет быть и встре\\\\тимся ', 'Под берё\\\\зкой бе\\\\ло…', '[БВК говорит:] А ты чё? [ШОА поёт одна:] «…белою\\\\. Мо\\\\жет быть…» [Говорит:] А, тебе\\\\ тяжело? [БВК:] Ты чё? Ты чё? А чё ты не тя\\\\нешь? [ШОА:] Дак мам, я никогда\\\\, ты мне сказа\\\\ла петь вторы\\\\м го\\\\лосом. Вот, девчо\\\\нки, нас вот, вот Лю\\\\ба, Тама\\\\ра [МТА] [две сестры ШОА, дочери БВК], я. Я всегда\\\\ пою\\\\, как она\\\\ [показывает на БВК], вторы\\\\м го\\\\лосом. [БВК поёт:] «Мо\\\\жет быть и встре\\\\тимся…» [ШОА:] Вот, и я так пою\\\\. Начина\\\\ем с ней петь… [БВК:] Тяни\\\\. [Поёт:] «Зна\\\\ю, что зара\\\\нее…» [ШОА:] Мам, я не уме\\\\ю тяну\\\\ть, у нас тя\\\\нет Лю\\\\ба и Тама\\\\ра. [Продолжают петь вместе:]', 'Ты пришё\\\\л, нахму\\\\рившись:', '«Ны\\\\нче заседа\\\\ние!»', 'Заседа\\\\нье ко\\\\нчится, ', 'Но не с ме\\\\ньшим рве\\\\нием', 'Просиди\\\\шь до но\\\\чи ты ', 'Над постановле\\\\нием.', '[БВК говорит:] Ёб твою\\\\ мать! Ни так, ни так. Ни б… ни ма\\\\... и ни ни\\\\жским [оговорилась – низким], ни большо\\\\м. Дава\\\\й начина\\\\й, ни под… подыма\\\\й. А ты и э\\\\то не мо… [ШОА:] Дак ты тя\\\\нешь, мам. Я не уме\\\\ю тяну\\\\ть, ты меня\\\\ всю жизнь приучи\\\\ла: тя\\\\нет Тама\\\\рка и Лю\\\\бка, а т… я пою\\\\, как ты, я не уме\\\\ю тяну\\\\ть. [БВК:] А счас я… Вот сча… [ШОА:] Вот, де\\\\вочки, вот так мы всегда\\\\ и поё\\\\м. [БВК:] Мо\\\\же, я щас начну\\\\, а ты тяни\\\\. [Начинает петь:] Мо\\\\жеть быть, и встре\\\\тимся… [ШОА:] Я не уме\\\\ю тяну\\\\ть. Мо\\\\жет, дава\\\\й я, а ты тяни\\\\. [Начинает петь, БВК присоединяется:]', 'Мо\\\\жет быть и встре\\\\тимся ', 'Под берё\\\\зкой… [ШОА прекращает петь.] ', '[БВК:] [нрзб. – 00:29:43,106] Да я не зара\\\\нею.', 'Мо\\\\жет быть и встре\\\\тимсе ', 'Ны\\\\нче… ны\\\\нча заседа\\\\ние! [Декламирует:] ', 'Заседа\\\\нье ко\\\\нчится, ', 'Но не с ме\\\\ньше вре\\\\мени', 'Просиди\\\\м до но\\\\чи ты ', 'Над постановле\\\\нием.', 'Дава\\\\й другу\\\\ю каку\\\\ю-нибудь, ну\\\\ её\\\\, на\\\\ хуй. [ШОА:] Мама\\\\, не матери\\\\сь при де\\\\вочках. [Соб.: Очень красиво поёте.] [БВК:] Хорошо\\\\. «Ай, заче\\\\м э\\\\та ночь». [ШОА:] Да, ма, ты уже\\\\ пе\\\\ла её\\\\. [БВК:] Не зна\\\\ю. [ШОА:] Ты руководи\\\\телю её\\\\ пе\\\\ла. [См. XXIa-9, Соб. АБМ, ОМС.] [БВК:] Не зна\\\\ю. [ШОА:] Дак а он приходи\\\\л, а ты на ла\\\\вочке пе\\\\ла э\\\\то. [БВК:] Не, я не е\\\\ту. [ШОА:] А каку\\\\ю? [БВК:] «Заче\\\\м э\\\\та но\\\\чка была\\\\ хороша\\\\...» [ШОА:] Да коне\\\\чно, ты э\\\\ту и пе\\\\ла. [БВК:] А я мужика\\\\м. [ШОА:] Не на\\\\до, мужика\\\\м ты и пе\\\\ла, да на\\\\до стари\\\\нную, пей [оговорилась – пой]. [БВК поёт:]', 'В го\\\\роде [О]де\\\\ссе,', 'На прекра\\\\сном ме\\\\сте, на го\\\\рке,', 'Ой-ох, зум-зум.', 'На прекра\\\\сном ме\\\\сте.', '[Говорит:] Ла\\\\дно, ей не бу\\\\…удем [?]. Там, «А заче\\\\м…». Не зна\\\\ю. Ну, ', 'овори\\\\ ты, их до хера\\\\. [Смеётся.] [Декламирует:] «Ма\\\\монька ро\\\\дная, се\\\\рдце разби\\\\тое…» [ШОА:] Ма\\\\ма, я её\\\\ не зна\\\\ю. [БВК продолжает:] «Ми\\\\лый не хо\\\\чет люби\\\\ть…» [ШОА:] Не, мам, дава\\\\й «На ре\\\\йде у мо\\\\ря». [Поют:]', 'На ре\\\\йде у мо\\\\ря есми\\\\нец стоя\\\\л,', 'Матро\\\\сы с родны\\\\ми проща\\\\лися.', 'Мо\\\\ре таи\\\\ло поко\\\\й красоты\\\\', 'И где\\\\-то вдали\\\\ исчеза\\\\ло.', 'Мо\\\\ре таи\\\\ло поко\\\\й красоты\\\\', 'И где\\\\-то вдали\\\\ исчеза\\\\ло.', '[БВК говорит:] Вот так. [Продолжают петь:] ', 'А там во лесо\\\\чке, где пел солове\\\\й. [ШОА поёт «во лесо\\\\чке», БВК – «во садо\\\\чке».]', 'Он пел свою\\\\ пе\\\\сню игра\\\\я,', 'С девчо\\\\нкой проща\\\\лся моря\\\\к молодо\\\\й,', 'Надо\\\\лго её покида\\\\я.', 'С девчо\\\\нкой проща\\\\лся моря\\\\к молодо\\\\й,', 'Надо\\\\лго её покида\\\\я.', '[БВК:] Хва\\\\тит. [Кашляет, потом декламирует:]', 'Он снял беказ… бескозы\\\\рку, ру\\\\ку пожа\\\\л,', '– Проща\\\\й, доро', 'а\\\\я Мару\\\\ся,', 'Я ве\\\\рю… тебя\\\\ не верну\\\\сь я… А? ', '[ШОА:] Наза\\\\д. [БВК:] «Я мё\\\\ртвым найду\\\\ тебя\\\\...» Не, не так. [ШОА:] Ма\\\\ма, е\\\\сли б мы пе\\\\ли, всё норма\\\\льно бы бы\\\\ло. [БВК:] А', 'а\\\\. [А дальше как?] [ШОА:] А всё, она\\\\ бо\\\\льше петь не бу\\\\дет. Вот мы так и поё\\\\м пе\\\\сни. [БВК:] «Ах, заче\\\\м э\\\\та ночка была\\\\...» [ШОА:] Не на\\\\до она\\\\ мне. [БВК:] Я зна\\\\ю. [А какую-нибудь старинную ещё?] [ШОА начинает петь:] «С горы\\\\ мы…» [ШОА:] Дава\\\\й. [БВК:] Как? [ШОА:] «С горы\\\\ мы бежа\\\\ли». [БВК:] «И гро… крича\\\\ли»? [ШОА:] У', 'у\\\\. Дава\\\\й. [БВК:] Не\\\\хуй де\\\\лать. А как… [ШОА:] Ма\\\\ма! Ну, некраси\\\\во, при девчо\\\\нках хоть не матери\\\\сь. [БВК:] Матери\\\\тесь, де\\\\у%ки, э\\\\то хорошо\\\\. [ШОА:] Ма\\\\ма, ну, некраси\\\\во. [ШОА начинает петь:] Уе\\\\ду… [БВК одновременно:] На ре\\\\йде… [ШОА:] Нет. «Уе\\\\ду, уе\\\\ду» дава\\\\й [нрзб. – 00:34:02,775]. [ШОА:] А', 'а\\\\. [Поют вместе:] Уе\\\\ду, уе\\\\ду, из до\\\\му далё\\\\кой уе\\\\ду… [ШОА:] Ну чё ты, ма\\\\ма? [БВК:] Кака\\\\я-то не ху%ата\\\\ет. [Продолжает петь:] Я жи\\\\ть навсе… Опя\\\\ть я… [… – Заходит ШНС и отвлекает информантов. Потом поют следующую песню – см. видео ShOA-BVK-Novolokti-Pesni-01.mp4.]', '– Живи\\\\, моя\\\\ ра\\\\дость, ', 'Живи\\\\, дорога\\\\я, ', 'Живи\\\\, наслажда\\\\йся одна\\\\.', 'С горы\\\\ мы бежа\\\\ли,', '«Ура\\\\» у%се крича\\\\ли,', 'Там мно\\\\гой оста\\\\лось кале\\\\к. ', 'Оста\\\\лись безру\\\\ки,', 'Оста\\\\лись безно\\\\ги…', '[БВК говорит:] «Оста\\\\лись страда\\\\ть навсегда\\\\». [Кашляет.] Я вон ка\\\\шляю. [ШОА:] Ма\\\\ма, воды\\\\ налью\\\\ тё\\\\плой. [БВК декламирует:] «Заче\\\\м меня\\\\ пу\\\\ля так ра\\\\но проби\\\\ла, на зе\\\\млю свали\\\\ла…» [… – ШНС обращается к собирателям, показывает им растение кровохлёбку. Затем возвращаются к песням. ШОА:] Ма\\\\ма, дава\\\\й па\\\\пкину споё\\\\м? [БВК:] Дава\\\\й. [ШНС:] «Спаси\\\\бо Ста\\\\лину»? [ШОА:] У', 'у\\\\. […] [ШОА поёт:] Собира\\\\лись ка\\\\за… [Говорит:] Мам, дава\\\\й, прожё\\\\вывай, мам. [… –  Отвлекаются. Начинают петь вместе с ШНС, который после нескольких строк уходит (см. видео ShOA-BVK-Novolokti-Pesni-02.mp4):]Собира\\\\лись казаче\\\\нькиУ\\\\тром ра\\\\но на заре\\\\,Ду\\\\му ду\\\\мали большу\\\\юОй, на… на колхо\\\\зном на дворе\\\\.Ду\\\\му ду\\\\мали большу\\\\юОй, на… на колхо\\\\зном на дворе\\\\.', '[БВК говорит:] Ой, у меня\\\\ ба\\\\тька пел. [Поют:] ', 'Как бы нам сейча\\\\с, ребя\\\\та,В го\\\\сти Ста\\\\лина позва\\\\ть.Приезжа\\\\й, това\\\\рищ Ста\\\\лин,При… Приезжа\\\\й, оте\\\\ц родно\\\\й.', 'Бу\\\\дешь е\\\\хать ми\\\\мо по\\\\ля –Полюбу\\\\йся красото\\\\й,Как хлеба\\\\ стоя\\\\т волно\\\\ю,', 'У_… Умыва\\\\ются росо\\\\й.Как хлеба\\\\ стоя\\\\т волно\\\\ю,', 'У_… Умыва\\\\ются росо\\\\й».[БВК говорит:] Всё, хва\\\\тит. [Поют:] ', 'На большо\\\\м пиру\\\\ каза\\\\чьем', 'На\\\\ши де\\\\вушки спою\\\\т,', 'Разукра\\\\сят самолё\\\\ты,Шёл… шёлком не\\\\бо обошью\\\\т.Разукра\\\\сят самолё\\\\ты,Шёл… шёлком не\\\\бо обошью\\\\т.', '[БВК:] Всё, Лю\\\\ба, да\\\\льше, О\\\\ля, не… не могу\\\\. [ШОА:] Ну, вот щас она\\\\ сдала\\\\. Ра\\\\ньше-то она\\\\ вон балала\\\\йкой игра\\\\ла и часту\\\\шки пе\\\\ла. [БВК:] И щас бы е\\\\то спе\\\\ла, дак… [ШОА:] И чё? [ШНС:] А балала\\\\йка где? [БВК:] Балала\\\\йки нет. [ШОА:] А балала\\\\ечка где у тебя\\\\? [ШНС:] А чё, балала\\\\йка там? [БВК:] Не зна\\\\ю я, как она\\\\ у%зяла\\\\, так и ляжи\\\\т. [ШНС:] Чё «не зна\\\\ю»? «Не зна\\\\ю, не зна\\\\ю». [БВК начинает петь частушку, ШОА присоединяется:]', 'Ба\\\\лалайка не моя\\\\,', 'Мо\\\\я до\\\\ма но\\\\вая,', 'Э\\\\та шма\\\\ра не моя\\\\,', 'Мо\\\\я чернобро\\\\вая.', '[ШОА поёт следующую частушку:] Не ходи\\\\, маши\\\\на, ле\\\\сом,', 'Не расстра\\\\ивай меня\\\\', '[Поют вместе:] Ты сама\\\\, маши\\\\на, зна\\\\ешь,', 'Что лесна\\\\я сторона\\\\ [БВК поёт «чужая сторона», ШОА – «лесная»]. [Cм. видео ShOA-BVK-Novolokti-Pesni-03.mp4.] ', '[БВК поёт:] Я иду\\\\, меня\\\\ опу\\\\талаТрава\\\\ мали\\\\нова,Не трава\\\\ меня\\\\ опу\\\\тала,Изме\\\\на ми\\\\лого.', '[Поёт следующую частушку:] Ты изме\\\\на, не любоу% ', 'Е\\\\сли ты меня\\\\ [мне] изме\\\\нишь,', 'То могилу пригото\\\\у%...', '[Поёт следующую частушку:] Я люблю\\\\… [запинается] люби\\\\ла и люблю\\\\', 'Солда\\\\тика вое\\\\нного,', 'Ни\\\\когда не изменю\\\\ ', 'Своё\\\\ва сло\\\\ва ве\\\\рного.', '[ШОА:] Девчо\\\\нки, пе\\\\рвый раз, пе\\\\рвый раз слы\\\\шу. [ШНС начинает петь частушку:]', 'Эх, тё\\\\ща моя\\\\,', 'Ве\\\\чная плуто\\\\у%ка,', 'Ухвати\\\\лася за…  ', 'Ду\\\\мала муто\\\\у%ка, хей! ', '[БВК одновременно:] Эх, тё\\\\ща моя\\\\,', 'Ху\\\\же лихора\\\\дки,', 'Щи вари\\\\ла, пролила\\\\,', 'Зя\\\\тю на запя\\\\тки.', '[ШНС:] Мам, ты чё? [БВК:] Как да\\\\льше? – «Ох, тё\\\\ща моя, Ху\\\\же лихо…» А там? [ШНС:] «Ху\\\\же лихора\\\\дки». [… – Прерываются на обсуждение балалайки БВК, потом БВК продолжает петь:]', 'Я игра\\\\ю, не теря\\\\ю,', 'Тро\\\\сточку грана\\\\тую, ', 'Никада\\\\ не променя\\\\ю', 'Бе\\\\дну на бога\\\\таю.', '[Поёт следующую частушку:] Поигра\\\\й ты, играчо\\\\к,', 'Хо\\\\рошо игра\\\\... [Прерывается.] [...] ', '[Поёт следующую частушку:] Говоря\\\\т моря\\\\ горя\\\\т', 'Горя\\\\т на мо\\\\ре ло\\\\дочки,', 'Тре\\\\тий го\\\\дик я не ви\\\\жу.', 'Бо\\\\риной похо\\\\дочки. […] ', '[Поёт следующую частушку:] Моя\\\\ ми\\\\лочка-крути\\\\лочка,', 'Круто\\\\е колесо\\\\,', 'Закрути\\\\ла, мне голо\\\\вушку,', 'И ду\\\\мать хоро…', '[… – БВК успела много попеть и потанцевать до замужества. Обсуждают местный хор «Сударушка», БВК жалеет, что они больше не собираются.] Я бы и щас ходи\\\\ла. [ШОА:] Так ходи\\\\. [БВК:] Куды\\\\? [ШОА:] Туда\\\\. Там же есть хоры\\\\. [БВК:] А кто поё\\\\т? [ШОА:] Все. [БВК:] Нихто\\\\ не поё\\\\т. [ШОА:] Да как «не пою\\\\т», пою\\\\т. [БВК поёт:] ', 'Пе\\\\ла я, реве\\\\ла я,', 'По ле\\\\су раздава\\\\лося,', 'Все мои\\\\ подру\\\\ги зна\\\\ли,', 'С кем я расстава\\\\лася.', '[ШОА одновременно говорит о еде.] О_х, как. [ШОА:] А, дава\\\\й твою\\\\ пе\\\\сню споё\\\\м люби\\\\мую? [БВК:] Какую? [ШОА:] «Ах, заче\\\\м э\\\\та ночь…» [БВК:] А_... [ШОА:] Дава\\\\й. [Cм. видео ShOA-BVK-Novolokti-Pesni-04.mp4.] [Поют:]', 'Ай, заче\\\\м э\\\\та ночьТак была\\\\ хороша\\\\!', 'Не боле\\\\ла бы грудь,Не страда\\\\ла б душа\\\\.', 'Полюби\\\\л я её\\\\,', 'Полюби\\\\л горячо\\\\,', 'Но она\\\\ на любо\\\\вьСмо\\\\трит так холодна\\\\.', 'Арома\\\\тной весно\\\\йПовстреча\\\\лся я с ней.Расцвета\\\\ли цветы\\\\,Гро\\\\мко пел солове\\\\й.', 'Не внима\\\\я мольба\\\\мИ жела\\\\ньям мои\\\\м,', 'Вдруг пошла\\\\ под вене\\\\цНе со мной, а с други\\\\м.', 'Не вида\\\\ла она\\\\, ', 'Как я в це\\\\ркви стоя\\\\л,Прислони\\\\вшись к стене\\\\,Ти\\\\хо-ти\\\\хо рыда\\\\л.', 'Ах, заче\\\\м э\\\\та ночь', 'Так была\\\\ хороша\\\\!', 'Не боле\\\\ла бы грудь,Не страда\\\\ла б душа\\\\.', '[БВК хлопает в ладоши.] Сла\\\\ва Бо\\\\', 'у. [ШОА:] Ма\\\\мкина люби\\\\мая пе\\\\сня. [Соб.: Очень красиво.] [БВК:] Ох, де\\\\у%ки, ско\\\\лько пе\\\\сен-то бы\\\\ло ра\\\\ньше – прие\\\\хали. [… – ШОА рассказывает, что помнит, как БВК «растила» нить – скручивала вместе несколько нитей, чтобы она была толще. ШНС привёз балалайку, БВК уходит ее настраивать. Через какое-то время возвращается.] [ШОА:] Чё, ма\\\\ма? [БВК:] Де\\\\у%ки, настро\\\\ила, не настро\\\\ила – ну, всё пизде\\\\ц, пропа\\\\ло. [ШОА начинает петь частушку:]', 'Не ходи\\\\ маши\\\\на ле\\\\сом... [Поют вместе:] ', 'Не расстра\\\\ивай меня\\\\', 'Ты сама\\\\ маши\\\\на зна\\\\ешь,', 'Что чужа\\\\я сторона\\\\. [ШОА поёт «лесная сторона», БВК – «чужая».]', '[ШОА говорит:] Дава\\\\й, ма\\\\ма. [БВК начинает играть на балалайке. ШОА встает и начинает притопывать в такт музыке. Поют частушки под аккомпанемент балалайки:]', 'Я, быва\\\\ло, запева\\\\ла,', 'За подру\\\\гу Ле\\\\ночку,', 'А тепе\\\\рь и за себя\\\\', 'Иду\\\\ [? – 00:56:46,181] помале\\\\нечку. [Cм. видео ShOA-BVK-Novolokti-Pesni-05.mp4.] [ШОА поёт:]', 'Эх,\\xa0то\\\\пну\\xa0ного\\\\й,\\xa0', 'Да\\xa0прито\\\\пну\\xa0друго\\\\й.\\xa0', 'Ско\\\\лько я ни топочу\\\\, ', 'Все ра\\\\вно пляса\\\\ть хочу\\\\.', '[БВК поёт:]', 'Я пляса\\\\ла да уста\\\\ла,', 'По\\\\лечка, глото\\\\чка дай,', 'Я всё, ми\\\\ленькой, да,\\xa0ми\\\\ленький,', 'А ты како\\\\й-то стал.', '[После проигрыша продолжает петь:]', 'А подру\\\\га на поми\\\\не,', '[У] ме\\\\ня не\\\\ту си\\\\лушки,', 'До\\\\вели нас ухажё\\\\ры', 'До\\\\ сыро\\\\й моги\\\\лушки.', '[После проигрыша продолжает петь:]', 'Ох,\\xa0то\\\\пни\\xa0нога\\\\\\xa0', 'И\\xa0прито\\\\пни\\xa0друга\\\\.\\xa0', 'Ско\\\\лько я ни топочу\\\\, ', 'Все ра\\\\вно пляса\\\\ть хочу\\\\.', '[Говорит:] Деу%чо\\\\нки, у%сё забы\\\\ла. [Соб.: Да как это. Всё играете, всё поёте.] [ШОА:] В девяно\\\\сто два\\\\ балала\\\\йку настра\\\\ивает. [БВК снова начинает играть на балалайке:] Ёб твою\\\\, слета\\\\ет еш_о\\\\, блядь. [Смеётся] [ШОА:] Держи\\\\, ма\\\\ма. [БВК снова играет на балалайке.] Вы\\\\ше [нрзб. – 00:57:57,420]. [ШОА:] Мам, ты про\\\\сто отвы\\\\кла. [БВК:] Коне\\\\чно, отвы\\\\кла. [Продолжает играть, потом поёт частушку:]', 'Я када\\\\-то вы\\\\йду за\\\\муж,', 'Хоть родна\\\\я мать убе\\\\й.', 'Ка\\\\рты в ру\\\\ки, шаль на пле\\\\чи', 'И обма\\\\нывать люде\\\\й.', '[После проигрыша говорит:] Не, ничё\\\\ не выхо\\\\дит у меня\\\\. [ШОА:] Мам, норма\\\\льно. Для твои\\\\х лет э\\\\то норма\\\\льно. Вот я вообще\\\\ не уме\\\\ю. Девчо\\\\нкам дай, они\\\\ вообще\\\\ не уме\\\\ют. Ма\\\\ма, а «Сара\\\\това»? [БВК:] А Са…? [ШОА:] Да, «Сара\\\\това» сыгра\\\\й. [БВК смеётся.] Попро\\\\буй «Сара\\\\това». [БВК:] Да не настро\\\\ить еш_о\\\\. [Пытается настроить балалайку.] [ШОА:] Да ла\\\\дно часту\\\\шки, а «Сара\\\\това»? [БВК:] Не, деу%ки, ничё\\\\ не выхо\\\\дит, ёб твою\\\\. [ШОА:] «Сара\\\\това»… Э\\\\то вот то, что она\\\\ щас игра\\\\ла, э\\\\то бы\\\\ло часту\\\\шки, а «Сара\\\\това» – э\\\\то совсе\\\\м друго\\\\е. Она\\\\ часту\\\\шки, но по-друго\\\\му оно\\\\ шло. [БВК пробует снова играть:] Ёб твою\\\\ мать, чё ты не слу\\\\шаесс_я? [ШОА:] Мам, не матери\\\\сь. [БВК:] А кого\\\\ де\\\\лать? [Cм. видео ShOA-BVK-Novolokti-Pesni-06.mp4.]  [Поёт:]', 'Пе\\\\ла я, реве\\\\ла я,', 'По ле\\\\су раздава\\\\лося,', 'Все мои\\\\ подру\\\\ги зна\\\\ли,', 'Что… [говорит:] с чем я расстава\\\\лася. Нет, деу%ки, е\\\\того. [ШОА:] Ну, нет, ну. [В окно с внешней стороны стучит ШНС.] [БВК:] Чё, Ко\\\\ля? [Обращается к ШОА:] Откро\\\\й. [ШНС:] Балала\\\\йка где? [ШОА:] Вот она\\\\, у ба\\\\бушки. [ШНС:] Я не слы\\\\шу, чтоб она\\\\ игра\\\\ла. [ШОА:] Да она\\\\ настра\\\\ивает её\\\\. [ШНС:] Не\\\\хуй настра\\\\ивать. [БВК:] Нет, на\\\\до с умо\\\\м. [ШОА одновременно:] Не матери\\\\сь. [ШНС:] [нрзб. – 01:00:08,519] [БВК:] Кого\\\\ ему\\\\? [ШОА:] Чтоб ты игра\\\\ла. [БВК:] А он пляса\\\\л? [ШОА:] Да. [БВК смеётся:] Айда\\\\, пляши\\\\. [… – Настраивает балалайку. ШНС входит в комнату] [ШНС:] Шо? Вдохнове\\\\ния нет, и\\\\ли чё? [БВК:] Настро\\\\й, Ко\\\\ля. [ШНС:] А', 'а\\\\. Ко\\\\ля как настро\\\\ит, так тебе\\\\ и… [БВК снова пробует играть:] Ничё\\\\ не полу\\\\чается у меня\\\\. [ШНС:] Получа\\\\ется. Игра\\\\й. Игра\\\\й. Игра\\\\й, сказа\\\\л. [ШОА:] Игра\\\\й, игра\\\\й, всё получа\\\\ется. [БВК снова пытается играть:] Балала\\\\йка и та и не дё\\\\ржится. [ШОА:] Девяно\\\\сто два го\\\\да и слух, а', 'а\\\\. [ШНС:] Игра\\\\й, сказа\\\\л! [БВК:] Прика\\\\з. [ШНС:] Игра\\\\й, сказа\\\\л! [ШОА:] Оп. [БВК играет и вместе с ШОА поют:]', 'Ба\\\\лалайка не моя\\\\,', 'Мо\\\\я до\\\\ма но\\\\вая,', 'Э\\\\то шма\\\\ра не моя\\\\,', 'Мо\\\\я чернобро\\\\вая. [Cм. видео ShOA-BVK-Novolokti-Pesni-07.mp4.]', '[БВК говорит:] Чё у мене\\\\ балала\\\\йка не ста\\\\ла держа\\\\ться, ёб твою\\\\. [ШОА:] Так, ма\\\\ма, пла\\\\тье убери\\\\. [БВК:] Всё скли\\\\зко. [ШОА:] Вот, скли\\\\зко, убери\\\\ пла\\\\тье и всё. [БВК:] Да я убра\\\\ла, до', 'ола\\\\ разде\\\\ться? [ШОА:] Нет. [ШНС:] Мам, не на\\\\до. Не пуга\\\\й дете\\\\й. [БВК играет.] [ШНС:] Не, не то. [БВК:] Не, ребя\\\\т ничё\\\\ не получа\\\\ется. [ШНС:] Не то. Не то. Не то. [ШОА:] Расстро\\\\ена вообще\\\\ балала\\\\йка. [ШНС:] Совсе\\\\м не то. [БВК:] На, дак поста\\\\у%, Ко\\\\ля. [ШНС:] Не… не поста\\\\вь. [БВК:] Ты пои', 'ра\\\\ешь? [ШНС:] Кто, я? [БВК:] А', 'а\\\\. А чё ты не научи\\\\лся? [ШНС:] Я игра\\\\ю то\\\\лько на волося\\\\нке. [ШОА:] Ко\\\\ля, Коль… [ШНС пытается настроить балалайку.] [БВК:] Чё там, ну\\\\-ка дай. Куда\\\\ ты кру\\\\тишь? Щас во\\\\все не на… Щас во\\\\все не настро\\\\ить, ёб твою\\\\ мать, открути\\\\л. [ШОА:] Дак чё? Ну, игра\\\\й. [ШНС одновременно:] Ну, игра\\\\й. [БВК:] Он открути\\\\л и всё\\\\, на\\\\хуй. [ШНС:] Я на\\\\хуй ничё\\\\ не крути\\\\л. [ШОА:] Ко\\\\ля. [БВК:] Была\\\\ б я жива\\\\я, настро… [ШНС:] А то ты мё\\\\ртвая сиди\\\\шь, ёб твою\\\\ диви\\\\зию. [БВК:] Настро\\\\ила б путё\\\\м. [ШНС:] Ве\\\\ра Кондра\\\\тьевна, сы', 'ра\\\\йте девчо\\\\нкам. [БВК дёргает струны.] Вот так, да? [ШОА:] Всё\\\\-таки ты винова\\\\т бу\\\\дешь. [ШНС:] Да мне всё равно\\\\. [БВК:] Блядь, никого\\\\ нет, чтоб настро\\\\ил. [… – БВК дальше пытается настроить балалайку. Говорит, что БВК научилась играть на балалайке у соседей. Через время возвращаются к песням.] [БВК:] Дай пе\\\\сню поё\\\\м. [ШОА:] Дава\\\\й, мам. [БВК:] Ну, ой, Аль… «Пое\\\\хали Алё\\\\шу хорони\\\\ть». [ШОА:] Како\\\\го? [БВК:] «Двена\\\\дцать часо\\\\у%, тё\\\\мной но\\\\чью брели\\\\...» [ШОА:] Ма\\\\ма, я э\\\\ту пе\\\\сню пе\\\\рвый раз то\\\\лько услы\\\\шала. [ШНС:] Ма\\\\ма [БВК:] А? [ШНС:] Э\\\\ту пе\\\\сню дава\\\\й не бу\\\\дем. «Пое\\\\хали Лё\\\\шу хорони\\\\ть». Ты чё? [ШОА:] Я ни ра\\\\зу не слы\\\\шала. [БВК:] «Ма\\\\монька ро\\\\дная, се\\\\рдце разьби\\\\то…» [ШОА:] А мы э\\\\то пе\\\\ли. [БВК:] «Ах, где э\\\\та но\\\\чка была\\\\ холодна\\\\». [ШОА:] Мы э\\\\ту то\\\\же пе\\\\ли. [БВК:] «Не боле\\\\ла бы ', 'рудь, не страда\\\\ла б…». [ШОА:] Да, э\\\\то пе\\\\ли. [БВК:] «За… за реко\\\\й удало\\\\й два цвето\\\\чка цвета\\\\ли». [ШОА:] А, э\\\\то ты пей… пой, я э\\\\ту пе\\\\сню не зна\\\\ю, а ты пой. [БВК:] Я одна\\\\ бу\\\\ду петь? [ШОА:] Вы с Луговс… с Луговско\\\\й [ЛК, сестра БВК] по\\\\йте, Луговска\\\\я хорошо\\\\ поё\\\\т. За лес… [БВК:] Дак щас же на\\\\до. [ШОА:] Дак а я её\\\\ не зна\\\\ю. И про ча\\\\йки вы поё\\\\те с ней. [БВК:] Ну, дава\\\\й, к… их. [ШОА:] Я то\\\\же их не зна\\\\ю. [БВК:] Ну, каку\\\\ю дашь, ёб твою\\\\ мать. Ко\\\\ля, скажи\\\\ каку\\\\ю? [ШОА:] «На… на ре\\\\йде у мо\\\\ря» мы пе\\\\ли, де\\\\вочки? [Соб.: Да.] [БВК:] «Есми\\\\нец стоя\\\\л…» [ШОА:] Так, подожди\\\\, а по… э\\\\то… [Начинает петь, БВК присоединяется (см. видео ShOA-BVK-Novolokti-Pesni-08.mp4):] ', 'По доро\\\\жке, по круто\\\\й тропи\\\\нке,', 'Я сошла\\\\ с круто\\\\го бережка\\\\.Обнима\\\\ла, целова\\\\ла не\\\\жноСвоего\\\\ люби\\\\мого дружка\\\\!', '[БВК говорит:] Ты ка\\\\к-то не… [ШОА:] Ма\\\\ма, потому\\\\ что мы с тобо\\\\й поё\\\\м всегда\\\\ вторы\\\\м го\\\\лосом, а Лю\\\\бы нет, кото\\\\рая поё\\\\т пе\\\\рвым го\\\\лосом. [БВК напевает:] «И тогда\\\\ же я в бою\\\\ жесто\\\\ком…» [ШНС:] Мам! [БВК:] А? [ШНС:] Я пою\\\\ четвё\\\\ртым го\\\\лосом. [БВК:] Ты четвё\\\\ртым, ну, пой пя\\\\тым. [ШНС:] И пя\\\\тым, и шесты\\\\м. [БВК поёт:] ', 'Бу\\\\ду бить отча\\\\янно врага\\\\', 'И тогда\\\\ на Ро\\\\дине далё\\\\кой,', 'Не забу\\\\ду я, де\\\\вушка, тебя\\\\.', 'И тогда\\\\ на Ро\\\\дине далё\\\\кой,', 'Не забу\\\\ду я, де\\\\вушка, тебя\\\\', '[БВК говорит:] Тяну\\\\ть ста\\\\ла, ёб твою\\\\ мать. [ШНС:] Да. Да ты давно\\\\ тя\\\\нешь. [БВК смеётся.] [ШОА продолжает петь, БВК присоединяется:]', 'Се\\\\рдце кро\\\\вью вдруг окамене\\\\ло,', 'Он сказа\\\\л: «Родна\\\\я не забу\\\\дь».', 'Ча\\\\с от ча\\\\са вре\\\\мя уходи\\\\ло,', 'Пе\\\\ред ним откры\\\\лся да\\\\льний путь.', 'Ча\\\\са от ча\\\\са вре\\\\мя уходи\\\\ло,', 'Пе\\\\ред ним откры\\\\лся да\\\\льний путь.', '[БВК говорит:] Чё, хва\\\\тит? [ШОА:] Хва\\\\тит. [БВК декламирует:]', 'И тогда\\\\ же я в бою\\\\ жесто\\\\ком', 'Бу\\\\ду бить отча\\\\янно врага,', 'И тогда\\\\ на Ро\\\\дине далё\\\\кой', 'Не забу\\\\ду, де\\\\вушка, тебя', 'Ча\\\\са от ча\\\\су вре\\\\мя уходи\\\\...', '[ШОА:] Мы э\\\\то спе\\\\ли. [БВК:] «И тогда\\\\ же я в бою\\\\...» [ШОА:] Мы э\\\\то спе\\\\ли, ма\\\\ма. [БВК вздыхает.] [БВК:] «С горы\\\\ мы бежа\\\\ли, “ура\\\\” все крича\\\\ли», как? [ШОА:] То\\\\же пе\\\\ли. [БВК:] Ах, ма… [ШОА:] «Уе\\\\ду, уе\\\\ду из до\\\\ма…» [нрзб. – 01:11:12,843], и мы э\\\\ту пе\\\\ли. [… – БВК снова пробует настроить балалайку. Начинает петь частушки без аккомпанемента.]', 'Ба\\\\лалайка не моя\\\\,', 'Да мо\\\\я до\\\\ма но\\\\вая,', 'На э\\\\то шма\\\\ра не моя\\\\,', 'Но мо\\\\я чернобро\\\\вая.', '[Поёт следующую частушку:] Ой-ой, ретиво\\\\е,', 'Ой а ритиви\\\\тики,', 'Ме\\\\ня ми\\\\ленькой броса\\\\ет,', 'Всё из-за поли\\\\тики.', '[Поёт следующую частушку:] Ба\\\\лалаечка, ори\\\\,', 'Ори\\\\ до са\\\\мой до зари\\\\,', 'Бу\\\\ду с ми\\\\лым расстава\\\\ться,', 'Никому\\\\ не говори\\\\.', '[Поёт следующую частушку:] Бу\\\\ду с ми\\\\лым расстава\\\\ться,', 'Лей воды… [Задумывается.]', 'Бу\\\\ду с ми\\\\лым расстава\\\\ться,', 'Ты, подру\\\\жка, со мной будь,', 'Бу\\\\дет се\\\\рдце разрыва\\\\ться', 'Лей воды\\\\ на бе\\\\лу грудь. ', '[ШНС:] Мам, мам, на балала\\\\ечке ма\\\\ленько [нрзб. – 01:11:12,843] наебни\\\\, и всё. [БВК:] Ко\\\\ля, сыгра\\\\ла бы, ну. [… – Собиратели и информанты вместе пытаются настроить балалайку. ШНС и ШОА снова зовут собирателей в гости. Предлагают собирателям дать с собой домашние соленья и варенье из смородины. БВК вспоминает частушку:]', 'Чё\\\\рная сморо\\\\дина,', 'В стака\\\\не размочё\\\\нная,', 'Два\\\\дцать пятого ию\\\\ля', 'Бу\\\\дет бу\\\\ря чё\\\\рная. ', '[ШОА и ШНС уходят, оставляют собирателей общаться с БВК.]', 'БВК, ШОА, ШНС']\n",
            "Error processing file BVK_ShOA_ShNS_txt.xml (see above)\n",
            "----\n",
            "{11: {'_schema': ['Incorrect symbols in code ли\\\\. [Могли они прялку трогать?] А не зна\\\\ю. [Они оставляли рисунки на прялках?] Не']}}\n",
            "Error processing file DGD_DAI_SEV_DIA_txt.xml (see above)\n",
            "File not found: ZNV_ZLA_(18.07)_txt.xml\n",
            "----\n",
            "Error parsing object\n",
            "['XXV-6 а Новолокти’2021БАА, ФЕЕ', '[Ранее говорят о том, что раньше гуляли компаниями.] [ГТИ:] То[г]да\\\\ быу%а\\\\ло по суббо\\\\там, каж... ка\\\\ждую суббо\\\\ту соб… скла\\\\дыу%ались, а щас чё. [ГСН:] Стря\\\\пали пельме\\\\ни, приходи\\\\ли все ро\\\\дственники. [ГТИ:] Да, да. [ГСН:] Щас э\\\\того уже\\\\ не\\\\ту. [ГТИ:] Да ка[к] бу\\\\дто бы в Ревя\\\\гино вся дере\\\\вня ', 'уля\\\\ла в одно\\\\й компа\\\\нии. [ГСН:] Потому\\\\ что там б… одни\\\\ ро\\\\дственники бы\\\\ли. Куда\\\\ ни су\\\\нься, то бли\\\\зкие, то да\\\\льние. А здесь щас… [ГТИ:] Ну, там же в основно\\\\м все свои\\\\ бы\\\\ли, а щас-то с...', 'ГСН, ГТИ']\n",
            "Error processing file GSN_GTI_NMI_KLI_txt.xml (see above)\n",
            "----\n",
            "{13: {'_schema': ['Incorrect symbols in code о\\\\нит – та у\\\\лица бу\\\\дет бере\\\\менна.']}, 23: {'_schema': ['Incorrect symbols in code ДИС[Были какие-то действия']}}\n",
            "Error processing file KIL_KVI_txt.xml (see above)\n",
            "----\n",
            "{8: {'vil': ['Incorrect village: Новлокти']}}\n",
            "Error processing file KIL_2_txt.xml (see above)\n",
            "----\n",
            "{0: {'year': ['Incorrect year: 2021ФЕЕ, БАА']}, 1: {'year': ['Incorrect year: 2021ФЕЕ, БАА']}, 2: {'year': ['Incorrect year: 2021ФЕЕ, БАА']}, 3: {'year': ['Incorrect year: 2021ФЕЕ, БАА']}}\n",
            "Error processing file PEE_NLT_txt.xml (see above)\n",
            "----\n",
            "{16: {'prog': ['Incorrect symbols in program: ХХIIа']}}\n",
            "Error processing file MAeG_txt.xml (see above)\n",
            "----\n",
            "Error parsing object\n",
            "['Va-18 доп., доп.Новолокти’2021КЕА, БАА, ФЕО[А про Покров слышали?] Э\\\\то… Тогда\\\\ мы никаки\\\\х ни Покро\\\\у%оу%, ни… ничего\\\\ не понима\\\\ли, не зна\\\\ли, и э\\\\то… ', 'о\\\\с_поди! Чё тут ', 'овори\\\\ть. Нихто\\\\... нихто\\\\ никоу%о\\\\. И ра\\\\ньше… Э\\\\то у%же\\\\ м… ну мам… моя\\\\ ма\\\\ма, она\\\\ уже\\\\... единоли\\\\чно жи\\\\ли тада\\\\ у%с\\\\ё\\\\ э\\\\то. Ну, зна\\\\ючи все э\\\\то, пра\\\\здники, всё чи\\\\сто. У нас и це\\\\рьква была\\\\, я по\\\\мню, ма\\\\ленькая, э\\\\то, ходи\\\\ли туда\\\\, где э\\\\та це\\\\рьквъ, а пото\\\\м суши\\\\лку там устро\\\\или. Переворо\\\\т был. А чё я понима\\\\ю? Никаки\\\\х пра\\\\здникоу%. Мы убира\\\\ли, ну, у% дому\\\\ так у%от. Девя\\\\того ма\\\\я. Ну, и тут э\\\\ти… э\\\\то… Девя\\\\того ма\\\\я, а пото\\\\м… Па\\\\ска э\\\\та, Па\\\\ска тут же де\\\\ э\\\\та… Ну, у%от, при… прихо\\\\дють к нам полномо\\\\ченный, от сове\\\\та прихо\\\\дить: «О, убира\\\\ете! Э… к Па\\\\ске убира\\\\ете?» А ма\\\\ма ', 'овори\\\\т: «А неизве\\\\стно: то ли к Па\\\\ске, то ли к Пе\\\\ру%ому ма\\\\ю. О, каки\\\\е были\\\\, э\\\\то, таки\\\\е у%от злоде\\\\и. Е\\\\жели к Па\\\\ске – зна\\\\чит, у%сё. А вот, к Пе\\\\рвом… А яна\\\\ ', 'овори\\\\ть: «А нель… нез… неизве\\\\стно». Ну, страшнова\\\\то ж говори\\\\ть. Неизве\\\\стно: то ли к Па\\\\ске, то ли к Пе\\\\ру%ому ма\\\\ю. Ну, а… а вот сейча\\\\с ъпя\\\\ть переворо\\\\т, пра\\\\вда? И Па\\\\ска, Пе… и Пе\\\\рвое ма\\\\я, и всё тако\\\\е и э\\\\то... И… и э\\\\то, дивятна\\\\дцатое, э\\\\то, января\\\\... Дивятна\\\\дцатое января\\\\ – э\\\\то, како\\\\й это пра\\\\здник? Хряшче\\\\ння. У%от. И Хряшче\\\\нья не зна\\\\ли, ничего\\\\, а пото\\\\м и всё, и Хряш_е\\\\нья ста\\\\ли тяпе\\\\рь, хо… я у%от у% чи\\\\сленнике по', 'ляжу\\\\ э\\\\ту… ', 'о\\\\споди, всё… всё стари\\\\нные, всё. Скрути\\\\лось, сверте\\\\лось. [… - Рассказывает, как ездила в Сургут на лесозаготовки. Соб.: Вы сказали, перед Пасхой надо убираться?] Пе\\\\ред Па\\\\ской? [Соб.: Да.] Ну, тада\\\\ ра\\\\ньше убира\\\\ли пе\\\\ред Па\\\\ской, ну и сейча\\\\с убира\\\\ют. [А в какой день?] Ну, я не зна\\\\ю. [В субботу?] Не зна\\\\ю, деу%чо\\\\нки, ничего\\\\ я не зна\\\\ю, ни… не собру… лудала [оговорилась], не соблюда\\\\ла я никаки\\\\е пра\\\\здники, не соблюда\\\\ла. [Что старые люди в Пасху делали?] И день Па\\\\ски… мы и рабо\\\\тали [усмехается.] [А мама ваша?] Рабо\\\\тала, всё. И ма\\\\ма рабо\\\\тала. [Можно работать в праздники?] Рабо\\\\тали и всё. Деу%чонки, ничё я не зна\\\\ю. Переу%оро\\\\т, и переу%оро\\\\т, и переу%оро\\\\т… По\\\\няли? Вот я се [же] расска\\\\зывау%ала, что прихо\\\\дить… Мы убира\\\\ем, э\\\\то, в дому\\\\, прихо\\\\дить ъполномо\\\\чанный, ну, от сове\\\\та. [Передаёт его речь:] «О, убира\\\\ете, к Па\\\\ске?» А ма\\\\ма ', 'овори\\\\ть… Она\\\\ у%же\\\\ и... Как, у%же\\\\ и пожила\\\\я. Ну, э\\\\то, зако\\\\н у%же зна\\\\ет, что как чуть – су\\\\дють и у%сё. Попро\\\\буй сказа\\\\ть чё – осу\\\\дють и расстреля\\\\ють. [… - Через некоторое время упоминает Державную икону Божьей Матери, о явлении которой вычитала в газете.] Не ста\\\\ли боя\\\\ться, что арасту\\\\ють, а то, ви\\\\дите, вам говори\\\\л, что пришё\\\\л [уполномоченный]: «А, убира\\\\ете? К Па\\\\ске убира\\\\ете?» Не ста\\\\ли тепе\\\\рь боя\\\\ться. У%от. Всё перевярну\\\\лося. У%от так у%от.', 'ГЛВ']\n",
            "Error processing file GLV_txt.xml (see above)\n",
            "----\n",
            "{6: {'prog': ['Incorrect symbols in program: ХХа']}}\n",
            "Error processing file IVD_txt.xml (see above)\n",
            "----\n",
            "{12: {'prog': ['Incorrect symbols in program: ХIII']}, 14: {'prog': ['Incorrect symbols in program: ХХа']}}\n",
            "Error processing file MOI_MVA_txt.xml (see above)\n",
            "----\n",
            "{18: {'prog': ['Incorrect symbols in program: ХХа']}, 0: {'year': ['Incorrect year: 2021ССП, ОМС, ЯСС']}}\n",
            "Error processing file BLA_BVA_txt.xml (see above)\n",
            "----\n",
            "Error parsing object\n",
            "['о\\\\споди, сла\\\\ва тебе\\\\.', '[Смеётся.] Не забы\\\\ла! [Не переодевались ни в кого, когда ходили?] Ну, как одева\\\\ли? А у% кого\\\\ одева\\\\ться? Када\\\\ жи\\\\ли… [Может маски надевали?] Не, не, не, никого\\\\ тада\\\\ не\\\\ было, бе\\\\дно жи\\\\ли мы. [Их надо было угостить?] Како\\\\е угош_е\\\\ние? [Дети славили, или взрослые?] Де\\\\ти, да. [Они спели, что дальше?] Ну, подаю\\\\т, да. [Что подают?] Ну, что есть, када\\\\ э\\\\тот… Чё спечё\\\\нное и\\\\ли… [Если им не подашь, могли спеть что-то оскорбительное?] Всё равно\\\\... Нет! Всё равно\\\\ подади\\\\шь чё-нибу\\\\дь: и\\\\ли ме\\\\лочи, де\\\\не', ', и\\\\ли… Э\\\\то-то я уже\\\\ зна\\\\ю. [Где они пели?] У поро\\\\ге. Как зайдё\\\\т – у поро\\\\', 'е пе\\\\ли. [На пороге?] Да. [Дверь открывает и поёт?] Да, зайдё\\\\т в и\\\\збу и… [… – Разговор на постороннюю тему.] [Взрослые могли ходить?] Да, пе\\\\ли взро\\\\слые. Ра\\\\ньше, я еш_ё\\\\ ма\\\\ленькая была\\\\, када\\\\ бе\\\\дно ши\\\\бко жи\\\\ли, ходи\\\\ли и взро\\\\слые. [Они пели что-то другое?] А бог е[г]о\\\\  зна\\\\ет, не зна\\\\ю, ребя\\\\т. [Не пели «Сею, сею, посеваю…»?] ', 'С Но\\\\у%ым ', 'о\\\\дом проздравля\\\\ю.', 'Вам пшани\\\\чкой ро\\\\жь,', 'Нам копе\\\\ечкой грошь.', 'Э\\\\то к Но\\\\у%ому ', 'о\\\\ду. [Ага.] Всё. [А что сеяли?] А не зна\\\\ю, рука\\\\ми ма\\\\шут. [… – Разговор на постороннюю тему.] [Это тоже делали дети?] Да не, взро\\\\слые, да. [И они прямо сеяли зерно?] Не, прям так. По… по… э\\\\то, посме\\\\ивались ходи\\\\ли к… к сосе\\\\дям. Э\\\\то «се\\\\ю-посева\\\\ю» еш_ё\\\\ до нас уже\\\\ бы\\\\ло. Нас еш_ё\\\\ не\\\\ было\\\\. ', 'БВК']\n",
            "Error processing file BVK_txt.xml (see above)\n",
            "----\n",
            "Error parsing object\n",
            "['', 'XVIII-7, 19', 'Новолокти‘2021', 'ФЕО, ЭАБ', '[Можно ли разорять гнездо ласточки?] [Е:]: Ну, э\\\\то вообще\\\\, по\\\\мню, к несча\\\\стью же счита\\\\ется. Нельзя\\\\ разоря\\\\ть гнё\\\\зда. […] [Каким ещё птицам нельзя вреда причинять?] [НБ:] Не зна\\\\ю, ла\\\\сточке то\\\\чно, по\\\\-моему, чё\\\\-то нельзя\\\\ чё\\\\-то вот, ну... [Е:] Никаки\\\\м нельзя\\\\ пти\\\\цам [смеётся] вреда\\\\ приноси\\\\ть.', 'НБ, Е']\n",
            "Error processing file NB_E_txt.xml (see above)\n",
            "----\n",
            "{0: {'year': ['Incorrect year: 2021БАА, ФЕЕ']}, 1: {'year': ['Incorrect year: 2021БАА, ФЕЕ']}}\n",
            "Error processing file DVO_DAO_ZhAV_GJaA_KAA_MAJu_DKO_txt.xml (see above)\n",
            "----\n",
            "{0: {'prog': ['Incorrect symbols in program: ХХIа']}, 7: {'prog': ['Incorrect symbols in program: ХХIIа']}}\n",
            "Error processing file NGZh_ZhVI_txt.xml (see above)\n",
            "----\n",
            "{12: {'prog': ['Incorrect symbols in program: ХIII']}, 13: {'prog': ['Incorrect symbols in program: ХХа']}}\n",
            "Error processing file FMP_txt.xml (see above)\n",
            "----\n",
            "{5: {'prog': ['Incorrect symbols in program: ХIII']}, 18: {'prog': ['Incorrect symbols in program: ХIII']}, 38: {'prog': ['Incorrect symbols in program: ХIII']}, 39: {'prog': ['Incorrect symbols in program: ХХа']}}\n",
            "Error processing file KMV_txt.xml (see above)\n",
            "File not found: ZNV_(17.07)_txt.xml\n",
            "----\n",
            "Error parsing object\n",
            "['о\\\\споди, сла\\\\ва тебе\\\\. ', 'А щас: «У… уведу\\\\... [Вспоминает.] Не дади\\\\те пирога\\\\, уведу\\\\ коро\\\\ву за рога\\\\!» У', 'у\\\\. Я говорю\\\\: «Веди\\\\!» «Не дашь лепё\\\\шку, вы\\\\бью око\\\\шко», – я говорю\\\\: – «Да что там!» ', 'СМФ']\n",
            "Error processing file SMF_SAA_1_txt.xml (see above)\n",
            "----\n",
            "Error parsing object\n",
            "['Ia-1, 8 в, 11 а, доп., 9 а, доп.Новолокти’2021', 'ЮВК, ШАА', '[Во сколько лет вы вышли замуж?] [КНН:] Я молода\\\\я, в девятна\\\\дцать лет вы\\\\шла. [Мужа сами выбирали или родители?] По любви\\\\. [А в девятнадцать это считалось рано или поздно?] Ра\\\\но. От ча\\\\сто по на\\\\шим поня\\\\тиям старико\\\\вским. [… - Приходит БСВ, сожитель КНН, спрашивает о цели беседы. Ранее БСВ сказала, что скоро будет свадьба у её внука.] [КНН, обращаясь к БСВ:] Я им объясня\\\\ю, что вот бу\\\\дет два\\\\дцать тре\\\\тьего [июля] у вну\\\\ка сва\\\\дьба. [КНН:] У вну\\\\ка, ну, сва\\\\дьба бу\\\\дет. [Соб.: А они празднуют уже как…] [БСВ:] Нет, они\\\\ то\\\\лько бу… сва\\\\дьба у них бу\\\\дет. [А они праздновать ее будут здесь или где-то?] [КНН:] Ну, в го\\\\роде. [БСВ:] В го\\\\роде. [КНН одновременно:] В го\\\\роде. [КНН:] Бу\\\\дут, э\\\\то… регистра\\\\ция у них, вот ме\\\\сяц, как они\\\\ пода\\\\ли заявле\\\\ние. [А у них как, по традициям все будет или просто распишутся?] [КНН:] Ой, я ничё… Ну, дак… [БСВ:] По тради\\\\циям… Сва\\\\дьба бу\\\\дет, обыкнове\\\\нная сва\\\\дьба. [А невесту там будут выкупать?] [БСВ:] Ну коне\\\\чно, ну э\\\\то как всегда\\\\, тради\\\\ция. [КНН:] Ну, дак у них там в го\\\\роде бу\\\\дет. [Соб.: Мы не знаем, как всегда, поэтому хотим, чтобы вы нам рассказали.] [БСВ:] Ну э\\\\то тради\\\\ции, ру\\\\сские тради\\\\ции, всю жизнь… Ну… [КНН:] Зади\\\\те к… поумне\\\\й кото\\\\рые, сва\\\\дьбы ны\\\\нешные веду\\\\т. [КНН:] Я сама\\\\… [БСВ:] Щас они\\\\… Щас… [То есть они будут венчаться в церкви?] [КНН:] Нет… [БСВ:] Нет, они\\\\... Распи\\\\сывают… Ну… [КНН:] Про\\\\сто регистра\\\\ция, там у нас же го\\\\род Иши\\\\м, ну э\\\\то, бракосочета\\\\ние. [БСВ:] Ну… [… - КНН советует зайти к ее снохе и расспросить ее про свадьбу, и объясняет дорогу к её дому. Через некоторое время возвращаются к разговору. Соб.: А вы сами когда замуж выходили, вас выкупали?] Ну, я выходи\\\\ла за\\\\муж, у меня\\\\ неру\\\\сский был, каза\\\\х. На коня\\\\х… [По их обычаям?] По и\\\\хным. [А можете рассказать, как все проходило по их обычаям?] Да ак чё… Пришли\\\\ мы в се\\\\льский сове\\\\т, на рука\\\\х, ло\\\\шади запряжённы\\\\е... [смеётся]. [То есть прям на лошадях приехали к ЗАГСу?] [БСВ:] Ну тро\\\\йка, да. [КНН:] На каре\\\\те, коне\\\\чно… [БСВ:] Ра\\\\ньше на лошадя\\\\х. [КНН:] На лошадя\\\\х, три коня\\\\, колоко\\\\льчики, в сельсове\\\\те зарегистри\\\\ровались, ну сва\\\\дьба, и\\\\хняя родня\\\\ да на\\\\ша. [А кто был на свадьбе?] Ма\\\\ма. [А из родни ещё?] А и\\\\хны… Ну, сестра\\\\ была\\\\. Таки\\\\е, бо\\\\лее-ме\\\\нее, а те уж ста\\\\рые бы\\\\ли, никого\\\\ в живы\\\\х нет щас. [А застолье было?] Ну, дере\\\\вня… сфотографи\\\\ровали нас в сва\\\\дебном наря\\\\де. То\\\\же бе\\\\ло пла\\\\тье у меня\\\\ бы\\\\ло. А чё, уж се\\\\мьдесят тре\\\\тий год вот, от него\\\\ и роди\\\\ла сы\\\\на, он у меня в Тюме\\\\ни уже\\\\ взро\\\\слый, со\\\\рок шесть. Вот его\\\\ сын щас жени\\\\тся вот два\\\\дцать тре\\\\тьего. [Это получается, вы во сколько сына родили?] В два\\\\дцать оди\\\\н. [Сразу после свадьбы?] Нет, э\\\\то я по\\\\здно, ага... Как привы\\\\кла к не… ну, не по любви\\\\. Снача\\\\ла вро\\\\де как дружи\\\\ли, а пото\\\\м наси\\\\ловал. [… – В комнату возвращается БСВ, жалуется на погоду.] [КНН:] Туда\\\\ звал, ма\\\\ма не отпусти\\\\ла к каза\\\\хам а то у него\\\\ б прожи\\\\ли, пото\\\\м он уе\\\\хал и [сей]час вообще потеря\\\\лся. [… – Через некоторое время возвратились к той же теме. Соб.: Вы рассказывали, что на свадьбу вас везли на карете? Крытая была карета?] Ну, с\\\\ани. [То есть открытые сани?] Откры\\\\тые, ковё\\\\р, в бе\\\\лых ту\\\\фельках, в сва\\\\дебном пла\\\\тье. [Свадьба была зимой?] Ну, да, и на рука\\\\х сиди\\\\т... [Было обязательно нести невесту на руках?] Да там снег круго\\\\м. [Смеётся.] Ту\\\\фли. Ду\\\\мал... до сельсове\\\\та недалё\\\\ко – се\\\\ли да пое\\\\хали. А там на\\\\до же идти\\\\ по сне\\\\гу, а ту\\\\фель не сни\\\\мешь, каблуки\\\\, ва\\\\ленки переобува\\\\ться. На\\\\ руки, и донё\\\\с, поста\\\\вил там, записа\\\\лись, свиде\\\\тельство о бра\\\\ке да\\\\ли. [Жених за вами домой заехал?] Да, там, в дере\\\\вне, он киномеха\\\\ником рабо\\\\тал, а я касси\\\\ром, биле\\\\ты продава\\\\ла, вот и встре\\\\тились. Вот и... встре\\\\тились, он тако\\\\й же был, как здесь... Э\\\\то се\\\\мьдесят тре\\\\тий год. [И вы вышли замуж в 19 лет?] Девятна\\\\дцать – вы\\\\шла, в два\\\\дцать оди\\\\н родила\\\\. Пока\\\\ привы\\\\кла к э\\\\той... жи\\\\зни. До\\\\лго не могла\\\\, сра\\\\зу на\\\\до забере\\\\менеть. Вот шестна\\\\дцать, семна\\\\дцать. [… – Через некоторое время снова заходит разговор о свадьбе. Мать КНН была против брака с казахом, но потом разрешила. КНН:] Он на рабо\\\\ту устро\\\\ился киномеха\\\\ником, и тут рабо\\\\тали, и тут реши\\\\ли пожени\\\\ться, всё. А ме\\\\сяц ждать, э\\\\то в го\\\\роде сельсове\\\\т хоть... «Сейча\\\\с, - говори\\\\т, - поезжа\\\\й и сра\\\\зу». Родстве\\\\нники ему\\\\ вы\\\\слали ты\\\\сячу, ещё\\\\ в то… СССР-то. Пошё\\\\л, трёх коне\\\\й… Подъезжа\\\\ет на колоко\\\\льчиках: «Собира\\\\йся». Сва\\\\дебное пла\\\\тье гото\\\\во уже\\\\ бы\\\\ло. В райо\\\\не купи\\\\ли ко\\\\льца, в Бердю\\\\жье э\\\\то. Я говорю\\\\, здесь ро\\\\дина-то моя\\\\ бли\\\\зко. [Выкуп за вас не платил?] Нет. Е\\\\сли б я у них, там бы по-сво\\\\ему, у каза\\\\хов. А здесь... [А приданое у вас было, когда замуж выходили?] Ну, они\\\\ привози\\\\ли, там... Ну, что\\\\-то из тря\\\\пок – каза\\\\хи. Посу\\\\ду, посу\\\\ду. [А своё приданое было?] Ну, ма\\\\ма ковё\\\\р подари\\\\ла хоро\\\\ший. Трюмо\\\\ нам – мы же отде\\\\льно жи\\\\ли пото\\\\м. [Вы сами ничего не шили себе в приданое?] Не\\\\а. Всё, чё да\\\\ли, чё да\\\\ли, то и... Мать хоро\\\\ший ковё\\\\р нам. Сам\\\\а, говори\\\\т, им по\\\\льзовалася. Всё, ду\\\\мает: «Кто вы\\\\йдет за\\\\муж пе\\\\рвый у меня?» Ещё\\\\ сестра\\\\ была\\\\. Сестра\\\\ боле\\\\ла, умерла\\\\. [Решалось, кто первая выйдет замуж, той и приданое?] Ну.', 'КНН, БСВ']\n",
            "Error processing file KNN_BSV_txt.xml (see above)\n",
            "----\n",
            "{3: {'prog': ['Incorrect symbols in program: ХХIIа']}, 18: {'prog': ['Incorrect symbols in program: ХХIIа']}}\n",
            "Error processing file GLP_txt.xml (see above)\n",
            "----\n",
            "{9: {'quest': [\"Missing '.' in question: 2 доп, 5\"]}}\n",
            "Error processing file MFS_ZhNI_txt.xml (see above)\n",
            "----\n",
            "{2: {'_schema': ['Incorrect symbols in code [Беременную женщину водой не обливали во время засухи?] Нет']}}\n",
            "Error processing file IVD_1_txt.xml (see above)\n",
            "----\n",
            "{5: {'quest': ['Incorrect symbols in question: a, 11, 12 a, б']}}\n",
            "Error processing file NTI_txt.xml (see above)\n"
          ],
          "name": "stdout"
        }
      ]
    },
    {
      "cell_type": "code",
      "metadata": {
        "id": "wDqiaqncdzao"
      },
      "source": [
        "!rm -r ./*"
      ],
      "execution_count": 57,
      "outputs": []
    },
    {
      "cell_type": "code",
      "metadata": {
        "id": "LmOEeV1fdvDv"
      },
      "source": [
        "# name = \"C:\\\\Users\\\\я\\\\cmd\\\\\" + files[0]\n",
        "# cols = [i for i in range(1,15)]\n",
        "# table = pd.read_excel(io=name, sheet_name=0, usecols=cols)\n",
        "# table"
      ],
      "execution_count": null,
      "outputs": []
    },
    {
      "cell_type": "code",
      "metadata": {
        "id": "86N3Eic4dvD2"
      },
      "source": [
        "# book = xlrd.open_workbook(file_path)\n",
        "# sheet = book.sheet_by_index(0)\n",
        "# Labels = book.row_values(1, start_colx=0, end_colx=None)"
      ],
      "execution_count": null,
      "outputs": []
    },
    {
      "cell_type": "markdown",
      "metadata": {
        "id": "w-lVZUjLdzao"
      },
      "source": [
        "## old part"
      ]
    },
    {
      "cell_type": "code",
      "metadata": {
        "id": "VEdkmlrDgw_e"
      },
      "source": [
        "# class fileTable:\n",
        "#     def __init__(self, name, num):\n",
        "#         self.name = name\n",
        "#         self.num = num\n",
        "\n",
        "#     def create(self):\n",
        "#         new = open(file=self.name, mode=\"r\", encoding=\"utf-8\")\n",
        "#         indexes = [i for i in range(self.num)]\n",
        "#         self.table = pd.DataFrame(index=indexes, \n",
        "#                                     columns=[\"программа\", \"вопрос\", \\\n",
        "#                                                         \"село\", \"год\", \\\n",
        "#                                                         \"соб.1\", \"соб.2\", \\\n",
        "#                                                         \"соб.3\", \"соб.4\", \\\n",
        "#                                                         \"текст\", \"инф.1\", \"инф.2\", \\\n",
        "#                                                         \"инф.3\", \"инф.4\", \"\"])\n",
        "#         self.informants = set()\n",
        "#         self.researchers = set()\n",
        "#         for i in indexes:\n",
        "#             line1 = new.readline().replace(\"\\n\",\"\").split(\"-\")\n",
        "#             self.table.iloc[i, 0]=line1[0]\n",
        "#             self.table.iloc[i, 1]=line1[1]\n",
        "#             del line1\n",
        "#             line1 = new.readline().replace(\"\\n\",\"\")\n",
        "#             if \"'\" in line1:\n",
        "#                 line1 = line1.split(\"'\") #обрабатываем 2 типа апострофов\n",
        "#             elif \"’\" in line1:\n",
        "#                 line1 = line1.split(\"’\")\n",
        "#             self.table.iloc[i, 2]=line1[0]\n",
        "#             self.table.iloc[i, 3]=line1[1]\n",
        "#             del line1\n",
        "#             line1 = new.readline().replace(\"\\n\",\"\").split(\", \")\n",
        "#             for n in range(len(line1)):\n",
        "#                 if not line1[n] in self.researchers:\n",
        "#                     self.researchers.add(line1[n])\n",
        "#                 col = 4 + n\n",
        "#                 self.table.iloc[i, col]=line1[n]\n",
        "#             del col\n",
        "#             del line1\n",
        "#             newline = \"\"\n",
        "#             line = \"\"\n",
        "#             while newline != \"\\n\":\n",
        "#                 newline = new.readline()\n",
        "#                 newline2 = newline.replace(\"\\n\",\"\")\n",
        "#                 line = line + newline2 + \"@\"\n",
        "#                 if line[-2:] == \"@@\":\n",
        "#                     break\n",
        "#             line = line[:len(line)-2]\n",
        "#             line2 = line[line.rfind(\"@\") + 1:].split(\", \") #extracting informants\n",
        "#             line = line[:line.rfind(\"@\")] # selecting text deleted +1\n",
        "#             for n in range(len(line2)):\n",
        "#                 if not line2[n] in self.informants:\n",
        "#                     self.informants.add(line2[n])\n",
        "#                 col = 9 + n\n",
        "#                 self.table.iloc[i, col]=line2[n]#appending informants\n",
        "#             self.table.iloc[i,8] = line #appending text to the column\n",
        "#         new.close()\n",
        "\n",
        "#     def visualize(self):\n",
        "#         return self.table\n",
        "\n",
        "#     def showHead(self):\n",
        "#         print(self.table.head(10))\n",
        "\n",
        "#     def write(self):\n",
        "#         excelName = self.name.rstrip(\".txt\") + \".xlsx\"\n",
        "#         self.table.to_excel(excelName, index=False)\n",
        "#         del excelName\n"
      ],
      "execution_count": null,
      "outputs": []
    },
    {
      "cell_type": "code",
      "metadata": {
        "id": "FhZqkDEZgcN4"
      },
      "source": [
        "# files = [x for x in filter(lambda x : \".txt\" in x, os.listdir(os.getcwd()))]\n",
        "# for file in files:\n",
        "#     filename = file;\n",
        "#     num = int(re.search(r'\\d+', filename).group(0)) if re.search(r'\\d+', filename) else 0\n",
        "#     try:\n",
        "#         this = fileTable(filename, num)\n",
        "#         this.create()\n",
        "#         this.write()\n",
        "#     except Exception as e:\n",
        "#         print(f\"Exception has occured while processing the file {filename}:\")\n",
        "#         print(e)\n",
        "#     del this"
      ],
      "execution_count": null,
      "outputs": []
    }
  ]
}