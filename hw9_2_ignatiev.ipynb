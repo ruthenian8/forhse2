{
  "nbformat": 4,
  "nbformat_minor": 0,
  "metadata": {
    "accelerator": "GPU",
    "colab": {
      "name": "Copy of P100.ipynb",
      "provenance": [],
      "collapsed_sections": [],
      "machine_shape": "hm"
    },
    "kernelspec": {
      "display_name": "Python 3",
      "name": "python3"
    }
  },
  "cells": [
    {
      "cell_type": "code",
      "metadata": {
        "colab": {
          "base_uri": "https://localhost:8080/"
        },
        "id": "pJbYXou6chZf",
        "outputId": "4ac4e7ba-a9c2-40df-bf2c-f97e61e706a5"
      },
      "source": [
        "!nvidia-smi"
      ],
      "execution_count": null,
      "outputs": [
        {
          "output_type": "stream",
          "text": [
            "Thu Mar 18 08:30:47 2021       \n",
            "+-----------------------------------------------------------------------------+\n",
            "| NVIDIA-SMI 460.56       Driver Version: 460.32.03    CUDA Version: 11.2     |\n",
            "|-------------------------------+----------------------+----------------------+\n",
            "| GPU  Name        Persistence-M| Bus-Id        Disp.A | Volatile Uncorr. ECC |\n",
            "| Fan  Temp  Perf  Pwr:Usage/Cap|         Memory-Usage | GPU-Util  Compute M. |\n",
            "|                               |                      |               MIG M. |\n",
            "|===============================+======================+======================|\n",
            "|   0  Tesla P100-PCIE...  Off  | 00000000:00:04.0 Off |                    0 |\n",
            "| N/A   42C    P0    27W / 250W |      0MiB / 16280MiB |      0%      Default |\n",
            "|                               |                      |                  N/A |\n",
            "+-------------------------------+----------------------+----------------------+\n",
            "                                                                               \n",
            "+-----------------------------------------------------------------------------+\n",
            "| Processes:                                                                  |\n",
            "|  GPU   GI   CI        PID   Type   Process name                  GPU Memory |\n",
            "|        ID   ID                                                   Usage      |\n",
            "|=============================================================================|\n",
            "|  No running processes found                                                 |\n",
            "+-----------------------------------------------------------------------------+\n"
          ],
          "name": "stdout"
        }
      ]
    },
    {
      "cell_type": "code",
      "metadata": {
        "id": "nbBh4s-5Q05o"
      },
      "source": [
        "import pandas as pd\n",
        "with open(\"avito_cars.txt\", encoding=\"utf-8\") as file:\n",
        "    text = file.read()\n",
        "    lines = text.splitlines()\n",
        "data = pd.Series(lines, dtype=\"U\")"
      ],
      "execution_count": 4,
      "outputs": []
    },
    {
      "cell_type": "code",
      "metadata": {
        "id": "5fEKCDQfRW6O"
      },
      "source": [
        "!mv cars_test.txt test.txt\n",
        "!mv cars_train.txt train.txt\n",
        "!mv cars_valid.txt valid.txt"
      ],
      "execution_count": 7,
      "outputs": []
    },
    {
      "cell_type": "code",
      "metadata": {
        "id": "EdzhbdPwQaka"
      },
      "source": [
        "!pip install deeppavlov"
      ],
      "execution_count": null,
      "outputs": []
    },
    {
      "cell_type": "code",
      "metadata": {
        "id": "JqB_dqOeQffY"
      },
      "source": [
        "!pip install tensorflow==1.15.0"
      ],
      "execution_count": null,
      "outputs": []
    },
    {
      "cell_type": "code",
      "metadata": {
        "id": "mo0WQgBxRMzr"
      },
      "source": [
        "!apt-get --yes install git"
      ],
      "execution_count": null,
      "outputs": []
    },
    {
      "cell_type": "code",
      "metadata": {
        "id": "oQy0ReqFRSKT"
      },
      "source": [
        "!pip install git+https://github.com/deepmipt/bert.git@feat/multi_gpu"
      ],
      "execution_count": null,
      "outputs": []
    },
    {
      "cell_type": "code",
      "metadata": {
        "id": "20YipvODRhyO"
      },
      "source": [
        "import json\n",
        "from deeppavlov import configs, build_model, train_model\n",
        "\n",
        "with configs.ner.ner_ontonotes_bert_mult.open(encoding='utf8') as f:\n",
        "    ner_config = json.load(f)\n",
        "\n",
        "ner_config['dataset_reader']['data_path'] = './'  # directory with train.txt, valid.txt and test.txt files\n",
        "ner_config['metadata']['variables']['NER_PATH'] = './'\n",
        "ner_config['metadata']['download'] = [ner_config['metadata']['download'][-1]]  # do not download the pretrained ontonotes model\n"
      ],
      "execution_count": 8,
      "outputs": []
    },
    {
      "cell_type": "code",
      "metadata": {
        "colab": {
          "base_uri": "https://localhost:8080/"
        },
        "id": "4Ezf9UxXRmEn",
        "outputId": "9e5fef2b-5f88-4333-b567-3265c28abacd"
      },
      "source": [
        "ner_model = train_model(ner_config, download=True)"
      ],
      "execution_count": 21,
      "outputs": [
        {
          "output_type": "stream",
          "text": [
            "2021-04-03 10:47:17.605 INFO in 'deeppavlov.core.trainers.fit_trainer'['fit_trainer'] at line 68: NNTrainer got additional init parameters ['pytest_max_batches', 'pytest_batch_size'] that will be ignored:\n",
            "2021-04-03 10:47:18.14 INFO in 'deeppavlov.core.data.simple_vocab'['simple_vocab'] at line 115: [loading vocabulary from /content/tag.dict]\n",
            "2021-04-03 10:47:18.22 INFO in 'deeppavlov.core.data.simple_vocab'['simple_vocab'] at line 101: [saving vocabulary to /content/tag.dict]\n",
            "2021-04-03 10:47:46.637 INFO in 'deeppavlov.core.models.tf_model'['tf_model'] at line 51: [loading model from /content/model]\n"
          ],
          "name": "stderr"
        },
        {
          "output_type": "stream",
          "text": [
            "INFO:tensorflow:Restoring parameters from /content/model\n"
          ],
          "name": "stdout"
        },
        {
          "output_type": "stream",
          "text": [
            "2021-04-03 10:47:51.302 INFO in 'deeppavlov.core.trainers.nn_trainer'['nn_trainer'] at line 199: Initial best ner_f1 of 95.2381\n"
          ],
          "name": "stderr"
        },
        {
          "output_type": "stream",
          "text": [
            "{\"valid\": {\"eval_examples_count\": 10, \"metrics\": {\"ner_f1\": 95.2381, \"ner_token_f1\": 97.6744}, \"time_spent\": \"0:00:02\", \"epochs_done\": 0, \"batches_seen\": 0, \"train_examples_seen\": 0, \"impatience\": 0, \"patience_limit\": 100}}\n"
          ],
          "name": "stdout"
        },
        {
          "output_type": "stream",
          "text": [
            "2021-04-03 10:48:41.579 INFO in 'deeppavlov.core.trainers.nn_trainer'['nn_trainer'] at line 212: Did not improve on the ner_f1 of 95.2381\n"
          ],
          "name": "stderr"
        },
        {
          "output_type": "stream",
          "text": [
            "{\"train\": {\"eval_examples_count\": 16, \"metrics\": {\"ner_f1\": 100.0, \"ner_token_f1\": 100.0}, \"time_spent\": \"0:00:52\", \"epochs_done\": 9, \"batches_seen\": 20, \"train_examples_seen\": 300, \"head_learning_rate\": 0.009999999776482582, \"bert_learning_rate\": 1.9999999552965164e-05, \"loss\": 0.2101347567513585}}\n",
            "{\"valid\": {\"eval_examples_count\": 10, \"metrics\": {\"ner_f1\": 70.0, \"ner_token_f1\": 90.0}, \"time_spent\": \"0:00:52\", \"epochs_done\": 9, \"batches_seen\": 20, \"train_examples_seen\": 300, \"impatience\": 1, \"patience_limit\": 100}}\n"
          ],
          "name": "stdout"
        },
        {
          "output_type": "stream",
          "text": [
            "2021-04-03 10:49:22.144 INFO in 'deeppavlov.core.trainers.nn_trainer'['nn_trainer'] at line 212: Did not improve on the ner_f1 of 95.2381\n"
          ],
          "name": "stderr"
        },
        {
          "output_type": "stream",
          "text": [
            "{\"train\": {\"eval_examples_count\": 16, \"metrics\": {\"ner_f1\": 100.0, \"ner_token_f1\": 100.0}, \"time_spent\": \"0:01:33\", \"epochs_done\": 19, \"batches_seen\": 40, \"train_examples_seen\": 600, \"head_learning_rate\": 0.009999999776482582, \"bert_learning_rate\": 1.9999999552965164e-05, \"loss\": 0.11471020691096782}}\n",
            "{\"valid\": {\"eval_examples_count\": 10, \"metrics\": {\"ner_f1\": 90.0, \"ner_token_f1\": 97.6744}, \"time_spent\": \"0:01:33\", \"epochs_done\": 19, \"batches_seen\": 40, \"train_examples_seen\": 600, \"impatience\": 2, \"patience_limit\": 100}}\n"
          ],
          "name": "stdout"
        },
        {
          "output_type": "stream",
          "text": [
            "2021-04-03 10:50:02.789 INFO in 'deeppavlov.core.trainers.nn_trainer'['nn_trainer'] at line 212: Did not improve on the ner_f1 of 95.2381\n"
          ],
          "name": "stderr"
        },
        {
          "output_type": "stream",
          "text": [
            "{\"train\": {\"eval_examples_count\": 16, \"metrics\": {\"ner_f1\": 100.0, \"ner_token_f1\": 100.0}, \"time_spent\": \"0:02:13\", \"epochs_done\": 29, \"batches_seen\": 60, \"train_examples_seen\": 900, \"head_learning_rate\": 0.009999999776482582, \"bert_learning_rate\": 1.9999999552965164e-05, \"loss\": 0.42372039476754253}}\n",
            "{\"valid\": {\"eval_examples_count\": 10, \"metrics\": {\"ner_f1\": 85.7143, \"ner_token_f1\": 95.4545}, \"time_spent\": \"0:02:14\", \"epochs_done\": 29, \"batches_seen\": 60, \"train_examples_seen\": 900, \"impatience\": 3, \"patience_limit\": 100}}\n"
          ],
          "name": "stdout"
        },
        {
          "output_type": "stream",
          "text": [
            "2021-04-03 10:50:04.730 INFO in 'deeppavlov.core.data.simple_vocab'['simple_vocab'] at line 115: [loading vocabulary from /content/tag.dict]\n",
            "2021-04-03 10:50:33.503 INFO in 'deeppavlov.core.models.tf_model'['tf_model'] at line 51: [loading model from /content/model]\n"
          ],
          "name": "stderr"
        },
        {
          "output_type": "stream",
          "text": [
            "INFO:tensorflow:Restoring parameters from /content/model\n",
            "{\"valid\": {\"eval_examples_count\": 10, \"metrics\": {\"ner_f1\": 95.2381, \"ner_token_f1\": 97.6744}, \"time_spent\": \"0:00:02\"}}\n",
            "{\"test\": {\"eval_examples_count\": 10, \"metrics\": {\"ner_f1\": 78.2609, \"ner_token_f1\": 88.8889}, \"time_spent\": \"0:00:01\"}}\n"
          ],
          "name": "stdout"
        },
        {
          "output_type": "stream",
          "text": [
            "2021-04-03 10:50:38.840 INFO in 'deeppavlov.core.data.simple_vocab'['simple_vocab'] at line 115: [loading vocabulary from /content/tag.dict]\n",
            "2021-04-03 10:51:07.548 INFO in 'deeppavlov.core.models.tf_model'['tf_model'] at line 51: [loading model from /content/model]\n"
          ],
          "name": "stderr"
        },
        {
          "output_type": "stream",
          "text": [
            "INFO:tensorflow:Restoring parameters from /content/model\n"
          ],
          "name": "stdout"
        }
      ]
    },
    {
      "cell_type": "code",
      "metadata": {
        "id": "LRiOkghgUwEG"
      },
      "source": [
        "from tqdm import tqdm"
      ],
      "execution_count": 13,
      "outputs": []
    },
    {
      "cell_type": "code",
      "metadata": {
        "colab": {
          "base_uri": "https://localhost:8080/"
        },
        "id": "P8TNdiBtRvks",
        "outputId": "ef0990c9-0904-45b1-95e9-e00a574b9df8"
      },
      "source": [
        "marked = []\n",
        "\n",
        "for text in tqdm(data[:5000]):\n",
        "    # BERT имеет лимит на длину текста в 512 слов, возьмем даже еще меньше\n",
        "    if len(text.split()) > 100:\n",
        "        continue\n",
        "    pred = ner_model([text])\n",
        "    sent, tags = pred[0][0], pred[1][0]\n",
        "    \n",
        "    # достанем только тексты с сущностями\n",
        "    if len(set(tags[0])) > 1:\n",
        "        marked.append(list(zip(sent,tags)))"
      ],
      "execution_count": 23,
      "outputs": [
        {
          "output_type": "stream",
          "text": [
            "100%|██████████| 5000/5000 [05:42<00:00, 14.59it/s]\n"
          ],
          "name": "stderr"
        }
      ]
    },
    {
      "cell_type": "code",
      "metadata": {
        "colab": {
          "base_uri": "https://localhost:8080/"
        },
        "id": "rYX_0IEEUJsp",
        "outputId": "5c4a8d46-d882-4e61-83a5-65fd6e7ba449"
      },
      "source": [
        "len(marked)"
      ],
      "execution_count": 24,
      "outputs": [
        {
          "output_type": "execute_result",
          "data": {
            "text/plain": [
              "2802"
            ]
          },
          "metadata": {
            "tags": []
          },
          "execution_count": 24
        }
      ]
    },
    {
      "cell_type": "markdown",
      "metadata": {
        "id": "4NIdyFejUMdm"
      },
      "source": [
        "## Данные не из разметки"
      ]
    },
    {
      "cell_type": "markdown",
      "metadata": {
        "id": "qxTyZ_MpUhuz"
      },
      "source": [
        "### 1 хонда"
      ]
    },
    {
      "cell_type": "code",
      "metadata": {
        "colab": {
          "base_uri": "https://localhost:8080/"
        },
        "id": "u2gTX23RULQS",
        "outputId": "a11f94d7-b0f6-4f4e-de1a-1f0f54b30d02"
      },
      "source": [
        "marked[175]"
      ],
      "execution_count": 25,
      "outputs": [
        {
          "output_type": "execute_result",
          "data": {
            "text/plain": [
              "[('HONDA', 'B-AUT'),\n",
              " ('FIT', 'I-AUT'),\n",
              " ('2002г', 'O'),\n",
              " (',', 'O'),\n",
              " ('в', 'O'),\n",
              " ('России', 'O'),\n",
              " ('с', 'O'),\n",
              " ('2008г', 'O'),\n",
              " ('мощность', 'O'),\n",
              " ('двигателя', 'O'),\n",
              " ('86', 'O'),\n",
              " ('л', 'O'),\n",
              " ('.', 'O'),\n",
              " ('с', 'O'),\n",
              " ('.', 'O'),\n",
              " (',', 'O'),\n",
              " ('объем', 'O'),\n",
              " ('1', 'O'),\n",
              " ('.', 'O'),\n",
              " ('3', 'O'),\n",
              " ('отличное', 'O'),\n",
              " ('техническое', 'O'),\n",
              " ('состояние', 'O'),\n",
              " (',', 'O'),\n",
              " ('пробег', 'O'),\n",
              " ('100', 'O'),\n",
              " ('тыс', 'O'),\n",
              " ('км', 'O'),\n",
              " (',', 'O'),\n",
              " ('зимняя', 'O'),\n",
              " ('и', 'O'),\n",
              " ('летняя', 'O'),\n",
              " ('резина', 'O'),\n",
              " (',', 'O'),\n",
              " ('сигнализация', 'O'),\n",
              " (',', 'O'),\n",
              " ('комплект', 'O'),\n",
              " ('запасных', 'O'),\n",
              " ('ключей', 'O'),\n",
              " (',', 'O'),\n",
              " ('экономный', 'O'),\n",
              " ('расход', 'O'),\n",
              " ('топлива', 'O'),\n",
              " (',', 'O'),\n",
              " ('отличный', 'O'),\n",
              " ('вариант', 'O'),\n",
              " ('для', 'O'),\n",
              " ('начинающей', 'O'),\n",
              " ('водить', 'O'),\n",
              " ('машину', 'O'),\n",
              " (',', 'O'),\n",
              " ('девушки', 'O'),\n",
              " ('.', 'O')]"
            ]
          },
          "metadata": {
            "tags": []
          },
          "execution_count": 25
        }
      ]
    },
    {
      "cell_type": "markdown",
      "metadata": {
        "id": "kgnV57N3Ukt-"
      },
      "source": [
        "### 2 суперавто"
      ]
    },
    {
      "cell_type": "code",
      "metadata": {
        "colab": {
          "base_uri": "https://localhost:8080/"
        },
        "id": "55NOUkcQbaVo",
        "outputId": "263b8adb-60fd-45fe-df3b-0184b41945fe"
      },
      "source": [
        "marked[-9]"
      ],
      "execution_count": 47,
      "outputs": [
        {
          "output_type": "execute_result",
          "data": {
            "text/plain": [
              "[('Superavto', 'B-AUT'),\n",
              " ('97', 'I-AUT'),\n",
              " ('л', 'O'),\n",
              " ('.', 'O'),\n",
              " ('с', 'O'),\n",
              " ('.', 'O'),\n",
              " ('Машина', 'B-AUT'),\n",
              " ('в', 'O'),\n",
              " ('идеальном', 'O'),\n",
              " ('состоянии', 'O'),\n",
              " (',', 'O'),\n",
              " ('не', 'O'),\n",
              " ('битая', 'O'),\n",
              " (',', 'O'),\n",
              " ('не', 'O'),\n",
              " ('крашеная', 'O'),\n",
              " ('100', 'O'),\n",
              " ('%', 'O'),\n",
              " ('(', 'O'),\n",
              " ('любые', 'O'),\n",
              " ('проверки', 'O'),\n",
              " (')', 'O'),\n",
              " (',', 'O'),\n",
              " ('чистая', 'O'),\n",
              " (',', 'O'),\n",
              " ('в', 'O'),\n",
              " ('машине', 'O'),\n",
              " ('не', 'O'),\n",
              " ('курили', 'O'),\n",
              " ('.', 'O'),\n",
              " ('Зимняя', 'O'),\n",
              " ('резина', 'O'),\n",
              " ('бу', 'O'),\n",
              " ('один', 'O'),\n",
              " ('сезон', 'O'),\n",
              " (',', 'O'),\n",
              " ('летняя', 'O'),\n",
              " ('бу', 'O'),\n",
              " ('2', 'O'),\n",
              " ('мес', 'O'),\n",
              " ('.', 'O'),\n",
              " ('Не', 'O'),\n",
              " ('требует', 'O'),\n",
              " ('никаких', 'O'),\n",
              " ('вложений', 'O'),\n",
              " ('.', 'O')]"
            ]
          },
          "metadata": {
            "tags": []
          },
          "execution_count": 47
        }
      ]
    },
    {
      "cell_type": "markdown",
      "metadata": {
        "id": "Wqz1t4wpUmDv"
      },
      "source": [
        "### 3 жучок"
      ]
    },
    {
      "cell_type": "code",
      "metadata": {
        "colab": {
          "base_uri": "https://localhost:8080/"
        },
        "id": "Lr40CtmrUmv3",
        "outputId": "8ea8bcef-1a7a-4178-c190-e0329a9afdb6"
      },
      "source": [
        "marked[39]"
      ],
      "execution_count": 38,
      "outputs": [
        {
          "output_type": "execute_result",
          "data": {
            "text/plain": [
              "[('Бодрый', 'B-AUT'),\n",
              " ('жучек', 'I-AUT'),\n",
              " ('с', 'O'),\n",
              " ('подогревом', 'O'),\n",
              " ('и', 'O'),\n",
              " ('всеми', 'O'),\n",
              " ('делами', 'O'),\n",
              " ('кожаный', 'B-AUT'),\n",
              " ('салон', 'I-AUT'),\n",
              " (',', 'O'),\n",
              " ('состоянее', 'O'),\n",
              " ('ходовой', 'O'),\n",
              " ('хорошое', 'O'),\n",
              " ('все', 'O'),\n",
              " ('сделано', 'O'),\n",
              " ('сел', 'O'),\n",
              " ('и', 'O'),\n",
              " ('поехал', 'O'),\n",
              " ('.', 'O')]"
            ]
          },
          "metadata": {
            "tags": []
          },
          "execution_count": 38
        }
      ]
    },
    {
      "cell_type": "markdown",
      "metadata": {
        "id": "7hZPG8hdURHM"
      },
      "source": [
        "## Ошибки (5):"
      ]
    },
    {
      "cell_type": "markdown",
      "metadata": {
        "id": "V8u45UlhUVEA"
      },
      "source": [
        "### 1 датчик кислорода зимняя резина"
      ]
    },
    {
      "cell_type": "code",
      "metadata": {
        "colab": {
          "base_uri": "https://localhost:8080/"
        },
        "id": "1iG47yuTaIl8",
        "outputId": "c2a86707-2290-4c76-c611-6b37d6d06451"
      },
      "source": [
        "marked[300]"
      ],
      "execution_count": 26,
      "outputs": [
        {
          "output_type": "execute_result",
          "data": {
            "text/plain": [
              "[('Авто', 'B-AUT'),\n",
              " ('в', 'O'),\n",
              " ('отличном', 'O'),\n",
              " ('состоянии', 'O'),\n",
              " (',', 'O'),\n",
              " ('не', 'O'),\n",
              " ('битый', 'O'),\n",
              " (',', 'O'),\n",
              " ('не', 'O'),\n",
              " ('крашенный', 'O'),\n",
              " (',', 'O'),\n",
              " ('гаражного', 'O'),\n",
              " ('хранения', 'O'),\n",
              " ('.', 'O'),\n",
              " ('Новые', 'O'),\n",
              " ('опорные', 'O'),\n",
              " ('подшипники', 'O'),\n",
              " (',', 'O'),\n",
              " ('тормозные', 'B-AUT'),\n",
              " ('колодки', 'O'),\n",
              " (',', 'O'),\n",
              " ('троса', 'O'),\n",
              " ('стояночного', 'O'),\n",
              " ('тормоза', 'O'),\n",
              " (',', 'O'),\n",
              " ('датчик', 'B-AUT'),\n",
              " ('кислорода', 'I-AUT'),\n",
              " ('.', 'O'),\n",
              " ('Летняя', 'O'),\n",
              " ('резина', 'O'),\n",
              " ('(', 'O'),\n",
              " ('амтел', 'B-AUT'),\n",
              " (')', 'O'),\n",
              " (',', 'O'),\n",
              " ('на', 'O'),\n",
              " ('литых', 'O'),\n",
              " ('дисках', 'O'),\n",
              " ('.', 'O'),\n",
              " ('С', 'O'),\n",
              " ('машиной', 'O'),\n",
              " ('продаю', 'O'),\n",
              " (',', 'O'),\n",
              " ('комплект', 'O'),\n",
              " ('зимней', 'B-AUT'),\n",
              " ('резины', 'I-AUT'),\n",
              " ('(', 'O'),\n",
              " ('йокохама', 'B-AUT'),\n",
              " (')', 'O'),\n",
              " ('на', 'O'),\n",
              " ('литых', 'O'),\n",
              " ('дисках', 'O'),\n",
              " ('.', 'O'),\n",
              " ('Подробности', 'O'),\n",
              " ('по', 'O'),\n",
              " ('телефону', 'O'),\n",
              " ('(', 'O'),\n",
              " ('Вячеслав', 'B-AUT'),\n",
              " (')', 'O'),\n",
              " ('.', 'O')]"
            ]
          },
          "metadata": {
            "tags": []
          },
          "execution_count": 26
        }
      ]
    },
    {
      "cell_type": "markdown",
      "metadata": {
        "id": "NWNDi_QRUa4x"
      },
      "source": [
        "### 2 дтп гарантия"
      ]
    },
    {
      "cell_type": "code",
      "metadata": {
        "colab": {
          "base_uri": "https://localhost:8080/"
        },
        "id": "P0JLEwY1Ulp0",
        "outputId": "41dfdb25-7733-415b-a24f-f1cda2645ff1"
      },
      "source": [
        "marked[25]"
      ],
      "execution_count": null,
      "outputs": [
        {
          "output_type": "execute_result",
          "data": {
            "text/plain": [
              "[('Автомобиль', 'B-AUT'),\n",
              " ('в', 'O'),\n",
              " ('идеальном', 'O'),\n",
              " ('состоянии', 'O'),\n",
              " (',', 'O'),\n",
              " ('100', 'O'),\n",
              " ('%', 'O'),\n",
              " ('без', 'O'),\n",
              " ('ДТП', 'B-AUT'),\n",
              " ('.', 'O'),\n",
              " ('ПТС', 'B-AUT'),\n",
              " ('оригинал', 'O'),\n",
              " ('1', 'O'),\n",
              " ('хозяин', 'O'),\n",
              " (',', 'O'),\n",
              " ('2012', 'O'),\n",
              " ('год', 'O'),\n",
              " (',', 'O'),\n",
              " ('эксплуатация', 'O'),\n",
              " ('с', 'O'),\n",
              " ('2013', 'O'),\n",
              " ('года', 'O'),\n",
              " (',', 'O'),\n",
              " ('сервисная', 'O'),\n",
              " ('книжка', 'O'),\n",
              " (',', 'O'),\n",
              " ('обслуживание', 'O'),\n",
              " ('у', 'O'),\n",
              " ('оф', 'O'),\n",
              " ('.', 'O'),\n",
              " ('дилера', 'O'),\n",
              " (',', 'O'),\n",
              " ('ГАРАНТИЯ', 'B-AUT'),\n",
              " ('до', 'O'),\n",
              " ('2018', 'O'),\n",
              " ('года', 'O'),\n",
              " (',', 'O'),\n",
              " ('два', 'O'),\n",
              " ('комплекта', 'O'),\n",
              " ('ключей', 'O'),\n",
              " (',', 'O'),\n",
              " ('сигнализация', 'O'),\n",
              " ('с', 'O'),\n",
              " ('автозапуском', 'B-AUT'),\n",
              " ('.', 'O'),\n",
              " ('резина', 'O'),\n",
              " ('зима', 'O'),\n",
              " ('лето', 'O'),\n",
              " ('.', 'O'),\n",
              " ('Автомобиль', 'B-AUT'),\n",
              " ('вложений', 'O'),\n",
              " ('не', 'O'),\n",
              " ('требует', 'O'),\n",
              " ('.', 'O'),\n",
              " ('Торг', 'O'),\n",
              " ('.', 'O')]"
            ]
          },
          "metadata": {
            "tags": []
          },
          "execution_count": 28
        }
      ]
    },
    {
      "cell_type": "markdown",
      "metadata": {
        "id": "lo-ixZaTUcpn"
      },
      "source": [
        "### 3 торг, автомобиль"
      ]
    },
    {
      "cell_type": "code",
      "metadata": {
        "colab": {
          "base_uri": "https://localhost:8080/"
        },
        "id": "K5LqGL4ZapUE",
        "outputId": "5ac9ae7d-851e-48a1-a068-8aff8c82fe48"
      },
      "source": [
        "marked[10]"
      ],
      "execution_count": null,
      "outputs": [
        {
          "output_type": "execute_result",
          "data": {
            "text/plain": [
              "[('Хороший', 'B-AUT'),\n",
              " ('автомобиль', 'I-AUT'),\n",
              " ('в', 'O'),\n",
              " ('отличном', 'O'),\n",
              " ('состоянии', 'O'),\n",
              " (',', 'O'),\n",
              " ('весь', 'O'),\n",
              " ('в', 'O'),\n",
              " ('заводской', 'O'),\n",
              " ('краске', 'O'),\n",
              " (',', 'O'),\n",
              " ('также', 'O'),\n",
              " ('есть', 'O'),\n",
              " ('сервисная', 'O'),\n",
              " ('книжка', 'O'),\n",
              " ('с', 'O'),\n",
              " ('отметками', 'O'),\n",
              " ('.', 'O'),\n",
              " ('/', 'O'),\n",
              " ('Я', 'O'),\n",
              " ('собственник', 'O'),\n",
              " ('не', 'O'),\n",
              " ('автодилер', 'O'),\n",
              " ('.', 'O'),\n",
              " ('Торг', 'B-AUT'),\n",
              " ('.', 'O')]"
            ]
          },
          "metadata": {
            "tags": []
          },
          "execution_count": 29
        }
      ]
    },
    {
      "cell_type": "markdown",
      "metadata": {
        "id": "WT446jmsUeaB"
      },
      "source": [
        "### 4 мотор"
      ]
    },
    {
      "cell_type": "code",
      "metadata": {
        "colab": {
          "base_uri": "https://localhost:8080/"
        },
        "id": "36OFQ7yvayg5",
        "outputId": "ca3354d1-7182-46bc-a910-e11c29abf943"
      },
      "source": [
        "marked[14]"
      ],
      "execution_count": null,
      "outputs": [
        {
          "output_type": "execute_result",
          "data": {
            "text/plain": [
              "[('Машина', 'B-AUT'),\n",
              " ('в', 'O'),\n",
              " ('не', 'O'),\n",
              " ('плохом', 'O'),\n",
              " ('состояние', 'O'),\n",
              " ('.', 'O'),\n",
              " ('не', 'O'),\n",
              " ('требует', 'O'),\n",
              " ('вложений', 'O'),\n",
              " ('.', 'O'),\n",
              " ('Мотор', 'B-AUT'),\n",
              " ('прошёл', 'O'),\n",
              " ('после', 'O'),\n",
              " ('полу', 'O'),\n",
              " ('ремонта', 'O'),\n",
              " ('30ты', 'O'),\n",
              " ('поршня', 'O'),\n",
              " ('стоят', 'O'),\n",
              " ('с', 'O'),\n",
              " ('проточкай', 'O'),\n",
              " ('16кл', 'O'),\n",
              " ('.', 'O'),\n",
              " ('Сцепление', 'O'),\n",
              " ('прошло', 'O'),\n",
              " ('15ты', 'O'),\n",
              " ('.', 'O'),\n",
              " ('Остольная', 'B-AUT'),\n",
              " ('информация', 'O'),\n",
              " ('по', 'O'),\n",
              " ('телефону', 'O'),\n",
              " ('.', 'O'),\n",
              " ('/', 'O'),\n",
              " ('ТОРГ', 'O')]"
            ]
          },
          "metadata": {
            "tags": []
          },
          "execution_count": 32
        }
      ]
    },
    {
      "cell_type": "markdown",
      "metadata": {
        "id": "qjrVwJTWUfmd"
      },
      "source": [
        "### 5 салон кредит банк"
      ]
    },
    {
      "cell_type": "code",
      "metadata": {
        "id": "GubWYg0rbCsp",
        "colab": {
          "base_uri": "https://localhost:8080/"
        },
        "outputId": "d6bd37c2-63a5-413f-aff7-0f5b953dfee3"
      },
      "source": [
        "marked[20]"
      ],
      "execution_count": null,
      "outputs": [
        {
          "output_type": "execute_result",
          "data": {
            "text/plain": [
              "[('Автосалон', 'B-AUT'),\n",
              " ('работает', 'O'),\n",
              " ('ежедневно', 'O'),\n",
              " ('/', 'O'),\n",
              " ('/', 'O'),\n",
              " ('с', 'O'),\n",
              " ('8', 'O'),\n",
              " ('-', 'O'),\n",
              " ('00', 'O'),\n",
              " ('до', 'O'),\n",
              " ('22', 'O'),\n",
              " ('-', 'O'),\n",
              " ('00', 'O'),\n",
              " ('!', 'O'),\n",
              " ('/', 'O'),\n",
              " ('/', 'O'),\n",
              " ('Данный', 'O'),\n",
              " ('автомобиль', 'O'),\n",
              " ('попадает', 'O'),\n",
              " ('под', 'O'),\n",
              " ('действие', 'O'),\n",
              " ('кредитной', 'O'),\n",
              " ('программы', 'O'),\n",
              " ('«', 'O'),\n",
              " ('БЦР', 'B-AUT'),\n",
              " ('Selected', 'I-AUT'),\n",
              " ('»', 'O'),\n",
              " (',', 'O'),\n",
              " ('которая', 'O'),\n",
              " ('включает', 'O'),\n",
              " (':', 'O'),\n",
              " ('/', 'O'),\n",
              " ('/', 'O'),\n",
              " ('-', 'O'),\n",
              " ('процентную', 'O'),\n",
              " ('ставку', 'O'),\n",
              " ('как', 'O'),\n",
              " ('на', 'O'),\n",
              " ('новый', 'O'),\n",
              " ('автомобиль', 'O'),\n",
              " ('(', 'O'),\n",
              " ('от', 'O'),\n",
              " ('20', 'O'),\n",
              " ('%', 'O'),\n",
              " ('-', 'O'),\n",
              " ('АО', 'O'),\n",
              " ('ЮниКредит', 'B-AUT'),\n",
              " ('Банк', 'I-AUT'),\n",
              " (')', 'O'),\n",
              " ('/', 'O'),\n",
              " ('/', 'O'),\n",
              " ('-', 'O'),\n",
              " ('первоначальный', 'O'),\n",
              " ('взнос', 'O'),\n",
              " ('от', 'O'),\n",
              " ('15', 'O'),\n",
              " ('%', 'O'),\n",
              " ('/', 'O'),\n",
              " ('/', 'O'),\n",
              " ('-', 'O'),\n",
              " ('срок', 'O'),\n",
              " ('кредита', 'O'),\n",
              " ('от', 'O'),\n",
              " ('1', 'O'),\n",
              " ('до', 'O'),\n",
              " ('5', 'O'),\n",
              " ('лет', 'O'),\n",
              " ('(', 'O'),\n",
              " ('с', 'O'),\n",
              " ('возможностью', 'O'),\n",
              " ('досрочного', 'O'),\n",
              " ('погашения', 'O'),\n",
              " (')', 'O'),\n",
              " ('/', 'O'),\n",
              " ('/', 'O'),\n",
              " ('-', 'O'),\n",
              " ('быстрое', 'O'),\n",
              " ('рассмотрение', 'O'),\n",
              " ('заявки', 'O'),\n",
              " ('/', 'O'),\n",
              " ('/', 'O'),\n",
              " ('-', 'O'),\n",
              " ('весь', 'O'),\n",
              " ('процесс', 'O'),\n",
              " ('сделки', 'O'),\n",
              " ('от', 'O'),\n",
              " ('одного', 'O'),\n",
              " ('часа', 'O'),\n",
              " ('/', 'O'),\n",
              " ('/', 'O'),\n",
              " ('-', 'O'),\n",
              " ('индивидуальный', 'O'),\n",
              " ('подход', 'O'),\n",
              " ('к', 'O'),\n",
              " ('клиенту', 'O')]"
            ]
          },
          "metadata": {
            "tags": []
          },
          "execution_count": 33
        }
      ]
    }
  ]
}