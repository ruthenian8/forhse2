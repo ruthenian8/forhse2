{
  "nbformat": 4,
  "nbformat_minor": 0,
  "metadata": {
    "colab": {
      "name": "Ignatiev_BigARTM.ipynb",
      "provenance": [],
      "toc_visible": true
    },
    "kernelspec": {
      "display_name": "Python 3",
      "language": "python",
      "name": "python3"
    },
    "language_info": {
      "codemirror_mode": {
        "name": "ipython",
        "version": 3
      },
      "file_extension": ".py",
      "mimetype": "text/x-python",
      "name": "python",
      "nbconvert_exporter": "python",
      "pygments_lexer": "ipython3",
      "version": "3.5.2"
    }
  },
  "cells": [
    {
      "cell_type": "markdown",
      "metadata": {
        "id": "DGYYCeQh0YFl"
      },
      "source": [
        "## Домашнее задание"
      ]
    },
    {
      "cell_type": "markdown",
      "metadata": {
        "id": "-Gg8h2Ek0YFl"
      },
      "source": [
        "Основаная задача - **построить хорошую тематическую модель с интерпретируемыми топиками с помощью BigARTM**.\n",
        "\n",
        "1) сделайте нормализацию (если pymorphy2 работает долго используйте mystem или попробуйте установить быструю версию - `pip install pymorphy2[fast]`, можно использовать какой-то другой токенизатор) \n",
        "\n",
        "2) добавьте нграммы (в тетрадке есть закомменченая ячейка с Phrases, можно также попробовать другие способы построить нграммы); \n",
        "\n",
        "3) сохраните тексты .vw формате;\n",
        "\n",
        "4) сделайте хороший словарь (отфильтруйте слишком частотные и редкие слова, попробуйте удалить стоп-слова, сохраните словарь и посмотрите на него, вдруг что-то плохое сразу будет заметно - из словаря можно просто вручную или правилом удалять строки, при загрузке ничего не сломается); \n",
        "\n",
        "5) постройте несколько ARTM моделей (переберите количество тем, поменяйте значения tau у регуляризаторов), если получаются плохие темы, поработайте дополнительно над предобработкой и словарем; \n",
        "\n",
        "6) для самой хорошей модели в отдельной ячейке напечатайте 3 хороших (на ваш вкус) темы\n",
        "\n",
        "7) в другой ячейке нарисуйте график обучения этой модели \n",
        "\n",
        "8) в третьей ячейки опишите какие параметры (количество тем, регуляризаторы, их tau) вы использовали и как обучали (например, после скольки проходов добавили регуляризатор разрежнивания тем (Phi), добавляли ли разреженность документам (Theta) и когда, как повышали значения, сколько итерации модель продожала улучшаться (снижалась перплексия, росли другие метрики);\n",
        "\n",
        "Сохраните тетрадку с экспериментами и положите её на гитхаб, ссылку на неё укажите в форме.\n",
        "\n",
        "**Оцениваться будут главным образом пункты 6, 7 и 8. (3, 1, 4 баллов соответственно). Чтобы заработать остальные 2 балла, нужно хотя бы немного изменить мой код на промежуточных этапах (добавить что-то, указать другие параметры и т.д). **"
      ]
    },
    {
      "cell_type": "code",
      "metadata": {
        "id": "nZE9rYop14he"
      },
      "source": [
        ""
      ],
      "execution_count": null,
      "outputs": []
    },
    {
      "cell_type": "markdown",
      "metadata": {
        "id": "fAA_Q5jy14he"
      },
      "source": [
        "### Установка BigARTM\n",
        "Все точно как в инструкции на их сайте, только без установки питона и пипа."
      ]
    },
    {
      "cell_type": "code",
      "metadata": {
        "id": "onayCA5_0bOP"
      },
      "source": [
        "!apt-get --yes install git make cmake build-essential libboost-all-dev"
      ],
      "execution_count": null,
      "outputs": []
    },
    {
      "cell_type": "code",
      "metadata": {
        "id": "RUiaLQ520oZH"
      },
      "source": [
        "!pip install protobuf tqdm wheel"
      ],
      "execution_count": null,
      "outputs": []
    },
    {
      "cell_type": "code",
      "metadata": {
        "id": "XUB9Dk0-05fi"
      },
      "source": [
        "!git clone --branch=stable https://github.com/bigartm/bigartm.git"
      ],
      "execution_count": null,
      "outputs": []
    },
    {
      "cell_type": "code",
      "metadata": {
        "colab": {
          "base_uri": "https://localhost:8080/"
        },
        "id": "C7ARp6n4081Q",
        "outputId": "4b9aae40-3ae3-4ed5-ae1b-a9c298dec059"
      },
      "source": [
        "cd bigartm"
      ],
      "execution_count": 4,
      "outputs": [
        {
          "output_type": "stream",
          "text": [
            "/content/bigartm\n"
          ],
          "name": "stdout"
        }
      ]
    },
    {
      "cell_type": "code",
      "metadata": {
        "id": "Gy3B--b40_X0"
      },
      "source": [
        "mkdir build"
      ],
      "execution_count": 5,
      "outputs": []
    },
    {
      "cell_type": "code",
      "metadata": {
        "colab": {
          "base_uri": "https://localhost:8080/"
        },
        "id": "FNqpGY4_1C4n",
        "outputId": "43f805f8-5a77-4d38-f464-8664db9f792d"
      },
      "source": [
        "cd build"
      ],
      "execution_count": 7,
      "outputs": [
        {
          "output_type": "stream",
          "text": [
            "[Errno 2] No such file or directory: 'build'\n",
            "/content/bigartm/build\n"
          ],
          "name": "stdout"
        }
      ]
    },
    {
      "cell_type": "code",
      "metadata": {
        "id": "ol4bRDUD1EDN"
      },
      "source": [
        "!cmake .."
      ],
      "execution_count": null,
      "outputs": []
    },
    {
      "cell_type": "code",
      "metadata": {
        "id": "AcxbRUrQ1IKk"
      },
      "source": [
        "!make"
      ],
      "execution_count": null,
      "outputs": []
    },
    {
      "cell_type": "code",
      "metadata": {
        "id": "lMaKS0DQ4zSE"
      },
      "source": [
        "!pip install python/bigartm*.whl -U"
      ],
      "execution_count": null,
      "outputs": []
    },
    {
      "cell_type": "markdown",
      "metadata": {
        "id": "f2PVN5q014hg"
      },
      "source": [
        "Вернемся в изначальную папку."
      ]
    },
    {
      "cell_type": "code",
      "metadata": {
        "id": "rO_Tezz714hg",
        "colab": {
          "base_uri": "https://localhost:8080/"
        },
        "outputId": "6847a40e-d30e-4e6f-a9d7-82aab379f98e"
      },
      "source": [
        "cd ../.. "
      ],
      "execution_count": 11,
      "outputs": [
        {
          "output_type": "stream",
          "text": [
            "/content\n"
          ],
          "name": "stdout"
        }
      ]
    },
    {
      "cell_type": "code",
      "metadata": {
        "id": "P6Ay2Ayx3v3W"
      },
      "source": [
        "!pip install pymorphy2[fast] nltk gensim"
      ],
      "execution_count": null,
      "outputs": []
    },
    {
      "cell_type": "code",
      "metadata": {
        "id": "syGkglti0YFf"
      },
      "source": [
        "import artm\n",
        "%matplotlib inline\n",
        "import glob\n",
        "import os, re\n",
        "import matplotlib.pyplot as plt\n",
        "from collections import defaultdict, Counter\n",
        "from nltk.corpus import stopwords\n",
        "import string\n",
        "import numpy as np\n",
        "from pymorphy2 import MorphAnalyzer\n",
        "import gensim, nltk\n",
        "morph = MorphAnalyzer()\n",
        "from nltk.tokenize import word_tokenize\n",
        "nltk.download('punkt')\n",
        "nltk.download('stopwords')\n",
        "stops = set(stopwords.words('russian'))"
      ],
      "execution_count": null,
      "outputs": []
    },
    {
      "cell_type": "markdown",
      "metadata": {
        "id": "a2N1FJT6TDDx"
      },
      "source": [
        "## Предобработка"
      ]
    },
    {
      "cell_type": "code",
      "metadata": {
        "id": "1hLw-SVu0YFm"
      },
      "source": [
        "def opt_normalize(texts, top=None):\n",
        "    uniq = Counter()\n",
        "    for text in texts:\n",
        "        uniq.update(text)\n",
        "    \n",
        "    norm_uniq = {word:morph.parse(word.replace(':', ''))[0].normal_form for word, _ in uniq.most_common(top)}\n",
        "    \n",
        "    norm_texts = []\n",
        "    for text in texts:\n",
        "        \n",
        "        norm_words = [norm_uniq.get(word) for word in text]\n",
        "        norm_words = [word for word in norm_words if word and word not in stops]\n",
        "        norm_texts.append(norm_words)\n",
        "        \n",
        "    return norm_texts\n",
        "\n",
        "def tokenize(text):\n",
        "    words = re.findall(r\"[а-яА-ЯёЁ]+-*[а-яА-ЯёЁ]*\", text)\n",
        "    return words"
      ],
      "execution_count": 27,
      "outputs": []
    },
    {
      "cell_type": "code",
      "metadata": {
        "id": "mp_zp-zR5PJq"
      },
      "source": [
        "!wget https://github.com/mannefedov/compling_nlp_hse_course/raw/master/data/wiki_data.txt.zip"
      ],
      "execution_count": null,
      "outputs": []
    },
    {
      "cell_type": "code",
      "metadata": {
        "id": "COMPndhTAX1M",
        "colab": {
          "base_uri": "https://localhost:8080/"
        },
        "outputId": "a981a2db-1c8a-4547-b351-f995acb9a221"
      },
      "source": [
        "!unzip wiki_data.txt.zip"
      ],
      "execution_count": 16,
      "outputs": [
        {
          "output_type": "stream",
          "text": [
            "Archive:  wiki_data.txt.zip\n",
            "  inflating: wiki_data.txt           \n",
            "  inflating: __MACOSX/._wiki_data.txt  \n"
          ],
          "name": "stdout"
        }
      ]
    },
    {
      "cell_type": "code",
      "metadata": {
        "id": "NDHkAaPb0YFp"
      },
      "source": [
        "texts = open('wiki_data.txt').read().splitlines()\n",
        "texts = opt_normalize([tokenize(text.lower()) for text in texts], 25000)"
      ],
      "execution_count": 31,
      "outputs": []
    },
    {
      "cell_type": "markdown",
      "metadata": {
        "id": "B8BK8YGHS4zt"
      },
      "source": [
        "#### Порог PMI подобран экспериментально, составляет 0.4"
      ]
    },
    {
      "cell_type": "code",
      "metadata": {
        "id": "o_yHUX490YFr"
      },
      "source": [
        "ph = gensim.models.Phrases(texts, scoring='npmi', threshold=0.4, \\\n",
        "                           common_terms=set(stopwords.words('russian')))\n",
        "p = gensim.models.phrases.Phraser(ph)\n",
        "ngrammed_texts = p[texts]"
      ],
      "execution_count": 49,
      "outputs": []
    },
    {
      "cell_type": "code",
      "metadata": {
        "id": "SZD1bmhR0YFw"
      },
      "source": [
        "f = open('wiki_texts.vw', 'w')\n",
        "\n",
        "for i, text in enumerate(ngrammed_texts):\n",
        "    c = Counter(text)\n",
        "    doc = 'doc_'+ str(i) + ' '\n",
        "    vw_text = ' '.join([x+':'+str(c[x]) for x in c])\n",
        "    \n",
        "    f.write(doc + vw_text  + '\\n')\n",
        "f.close()\n",
        "\n"
      ],
      "execution_count": 51,
      "outputs": []
    },
    {
      "cell_type": "code",
      "metadata": {
        "id": "xchX4sBs0YFz"
      },
      "source": [
        "def print_measures(model_artm):\n",
        "    print('Sparsity Phi: {0:.3f} ARTM)'.format(\n",
        "        model_artm.score_tracker['SparsityPhiScore'].last_value)\n",
        ")\n",
        "    print('Sparsity Theta: {0:.3f} (ARTM)'.format(\n",
        "        model_artm.score_tracker['SparsityThetaScore'].last_value))\n",
        "\n",
        "    print('Kernel contrast: {0:.3f} (ARTM)'.format(\n",
        "        model_artm.score_tracker['TopicKernelScore'].last_average_contrast))\n",
        "\n",
        "    print('Kernel purity: {0:.3f} (ARTM)'.format(\n",
        "        model_artm.score_tracker['TopicKernelScore'].last_average_purity))\n",
        "\n",
        "    print('Perplexity: {0:.3f} (ARTM)'.format(\n",
        "        model_artm.score_tracker['PerplexityScore'].last_value)\n",
        ")\n",
        "    plt.plot(range(model_artm.num_phi_updates), model_artm.score_tracker['PerplexityScore'].value, 'r--', linewidth=2)\n",
        "    plt.xlabel('Iterations count')\n",
        "    plt.ylabel(' ARTM perp. (red)')\n",
        "    plt.grid(True)\n",
        "    plt.show()\n",
        "    "
      ],
      "execution_count": 53,
      "outputs": []
    },
    {
      "cell_type": "code",
      "metadata": {
        "id": "NhIADC8O0YF2"
      },
      "source": [
        "batch_vectorizer = artm.BatchVectorizer(data_path='wiki_texts.vw',  # название файла\n",
        "                                        data_format='vowpal_wabbit', # формат файла, у нас vw\n",
        "                                        target_folder='batches', # название папки в которую положаться батчи\n",
        "                                       batch_size=1000) # размер батча, подбирайте под свою память"
      ],
      "execution_count": 54,
      "outputs": []
    },
    {
      "cell_type": "code",
      "metadata": {
        "id": "AG7xR0gu0YF6"
      },
      "source": [
        "batch_vectorizer = artm.BatchVectorizer(data_path='batches', # название папки с батчами\n",
        "                                        data_format='batches') # указываем формат - батчи"
      ],
      "execution_count": 55,
      "outputs": []
    },
    {
      "cell_type": "markdown",
      "metadata": {
        "id": "LgOCfWjDTcCz"
      },
      "source": [
        "## Генерация словаря"
      ]
    },
    {
      "cell_type": "code",
      "metadata": {
        "id": "Qe0-ERcn0YF8"
      },
      "source": [
        "# инициализируем словарь, чтобы сделать модель\n",
        "dictionary = artm.Dictionary()"
      ],
      "execution_count": 56,
      "outputs": []
    },
    {
      "cell_type": "markdown",
      "metadata": {
        "id": "Fumz2K_7Mqkv"
      },
      "source": [
        "#### Снизим минимальный и максимальный пороги частотностей, рассмотрим результаты"
      ]
    },
    {
      "cell_type": "code",
      "metadata": {
        "colab": {
          "base_uri": "https://localhost:8080/"
        },
        "id": "S6nXvdOq0YGA",
        "outputId": "4ba321c1-d7f1-4623-c21a-879ed90576da"
      },
      "source": [
        "dictionary.gather(data_path='batches')\n",
        "dictionary.filter(class_id='@default_class',\n",
        "                  min_df=5, max_df=1800)"
      ],
      "execution_count": 58,
      "outputs": [
        {
          "output_type": "execute_result",
          "data": {
            "text/plain": [
              "artm.Dictionary(name=ad459260-a033-4b0b-87d8-fde2424b957d, num_entries=16822)"
            ]
          },
          "metadata": {
            "tags": []
          },
          "execution_count": 58
        }
      ]
    },
    {
      "cell_type": "code",
      "metadata": {
        "id": "I273a14r0YGC"
      },
      "source": [
        "dictionary.save_text('dict.txt')\n",
        "# dictionary = artm.Dictionary()\n",
        "# dictionary.load_text('dict.txt')"
      ],
      "execution_count": 59,
      "outputs": []
    },
    {
      "cell_type": "code",
      "metadata": {
        "colab": {
          "base_uri": "https://localhost:8080/"
        },
        "id": "y0NzGEIgMTgE",
        "outputId": "1a434f70-7576-4ded-9947-4fcee35252b5"
      },
      "source": [
        "!head -n 15 dict.txt"
      ],
      "execution_count": 63,
      "outputs": [
        {
          "output_type": "stream",
          "text": [
            "name: ad459260-a033-4b0b-87d8-fde2424b957d num_items: 20002\n",
            "token, class_id, token_value, token_tf, token_df\n",
            "лихтенштейн_зимний, @default_class, 5.9329399846319575e-06, 14.0, 14.0\n",
            "сезон_отчаянный, @default_class, 2.5426886622881284e-06, 6.0, 6.0\n",
            "кувейт_принимать, @default_class, 4.237814209773205e-06, 10.0, 10.0\n",
            "тобаго_принимать, @default_class, 7.204284429462859e-06, 17.0, 17.0\n",
            "бускеруда_норвегия, @default_class, 8.051847544265911e-06, 19.0, 19.0\n",
            "провинция_тукумать, @default_class, 1.0170754649152514e-05, 24.0, 12.0\n",
            "боковский, @default_class, 2.9664699923159787e-06, 7.0, 7.0\n",
            "игра_лихтенштейн, @default_class, 4.6615955398010556e-06, 11.0, 11.0\n",
            "область_чудновский, @default_class, 1.567991239426192e-05, 37.0, 37.0\n",
            "черняховский_р-н, @default_class, 2.9664699923159787e-06, 7.0, 7.0\n",
            "находиться_черняховский, @default_class, 2.1189071048866026e-05, 50.0, 50.0\n",
            "ружинский_р-н, @default_class, 2.1189071048866026e-06, 5.0, 5.0\n",
            "ружинский_район, @default_class, 4.6615955398010556e-06, 11.0, 11.0\n"
          ],
          "name": "stdout"
        }
      ]
    },
    {
      "cell_type": "code",
      "metadata": {
        "colab": {
          "base_uri": "https://localhost:8080/"
        },
        "id": "JanKa-CwM0oQ",
        "outputId": "e689c86b-6915-4f76-8e11-060fd5399070"
      },
      "source": [
        "!tail -n 15 dict.txt"
      ],
      "execution_count": 64,
      "outputs": [
        {
          "output_type": "stream",
          "text": [
            "отделка, @default_class, 9.746972864377312e-06, 23.0, 20.0\n",
            "самоходный, @default_class, 2.9664699923159787e-06, 7.0, 5.0\n",
            "сдать_эксплуатация, @default_class, 3.390251322343829e-06, 8.0, 7.0\n",
            "страна_баск, @default_class, 5.085377324576257e-06, 12.0, 7.0\n",
            "тайный_голосование, @default_class, 4.237814209773205e-06, 10.0, 6.0\n",
            "набор_инструмент, @default_class, 3.390251322343829e-06, 8.0, 8.0\n",
            "перевод_библия, @default_class, 8.47562841954641e-06, 20.0, 12.0\n",
            "телефонный_код, @default_class, 0.0005780378705821931, 1364.0, 1364.0\n",
            "продолжить_обучение, @default_class, 1.3984787074150518e-05, 33.0, 33.0\n",
            "ржд, @default_class, 8.051847544265911e-06, 19.0, 12.0\n",
            "достигнуть_совершеннолетие, @default_class, 3.390251322343829e-06, 8.0, 8.0\n",
            "послевоенный, @default_class, 3.559764081728645e-05, 84.0, 77.0\n",
            "томас_томас, @default_class, 4.237814209773205e-06, 10.0, 10.0\n",
            "произойти_разрыв, @default_class, 2.5426886622881284e-06, 6.0, 6.0\n",
            "амадей_савойский, @default_class, 3.390251322343829e-06, 8.0, 5.0\n"
          ],
          "name": "stdout"
        }
      ]
    },
    {
      "cell_type": "markdown",
      "metadata": {
        "id": "inIL7_eENyiR"
      },
      "source": [
        "### Рассмотрим примеры слов с низкой df, имеют ли они тематическую значимость"
      ]
    },
    {
      "cell_type": "markdown",
      "metadata": {
        "id": "8PbIbSY_OaEl"
      },
      "source": [
        "### Вывод: При объединении в биграммы многие тематически значимые слова попали в редкие сочетания, надо снизить минимальный порог"
      ]
    },
    {
      "cell_type": "code",
      "metadata": {
        "id": "ScDk5VblOtkg"
      },
      "source": [
        "dictionary = artm.Dictionary()\r\n",
        "dictionary.gather(data_path='batches')\r\n",
        "dictionary.filter(class_id='@default_class',\r\n",
        "                  min_df=10, max_df=1600)\r\n",
        "!rm dict.txt\r\n",
        "dictionary.save_text('dict.txt')"
      ],
      "execution_count": 66,
      "outputs": []
    },
    {
      "cell_type": "code",
      "metadata": {
        "colab": {
          "base_uri": "https://localhost:8080/"
        },
        "id": "_KqSlvB3Nks6",
        "outputId": "d5a747f5-29b6-43cd-c873-4afe91cdb329"
      },
      "source": [
        "!grep -m 30 ', 10' dict.txt"
      ],
      "execution_count": 67,
      "outputs": [
        {
          "output_type": "stream",
          "text": [
            "кувейт_принимать, @default_class, 4.237814209773205e-06, 10.0, 10.0\n",
            "бирма_принимать, @default_class, 4.237814209773205e-06, 10.0, 10.0\n",
            "бирма_летний, @default_class, 4.237814209773205e-06, 10.0, 10.0\n",
            "нигер_принимать, @default_class, 4.237814209773205e-06, 10.0, 10.0\n",
            "нигер_летний, @default_class, 4.237814209773205e-06, 10.0, 10.0\n",
            "увеличиться_ниже, @default_class, 4.237814209773205e-06, 10.0, 10.0\n",
            "рудить, @default_class, 2.330797906324733e-05, 55.0, 10.0\n",
            "причислить_лик, @default_class, 5.509158654604107e-06, 13.0, 10.0\n",
            "глава_особенный, @default_class, 4.237814209773205e-06, 10.0, 10.0\n",
            "составной_часть, @default_class, 4.237814209773205e-06, 10.0, 10.0\n",
            "полосатый, @default_class, 5.9329399846319575e-06, 14.0, 10.0\n",
            "перу_принадлежать, @default_class, 4.237814209773205e-06, 10.0, 10.0\n",
            "прибрежный_вода, @default_class, 4.6615955398010556e-06, 11.0, 10.0\n",
            "тибет, @default_class, 1.0170754649152514e-05, 24.0, 10.0\n",
            "муважинский_сельсовет, @default_class, 6.356721314659808e-06, 15.0, 10.0\n",
            "алнашский_район, @default_class, 4.619217725121416e-05, 109.0, 73.0\n",
            "отличительный_черта, @default_class, 4.237814209773205e-06, 10.0, 10.0\n",
            "формулы-_разработать, @default_class, 4.237814209773205e-06, 10.0, 10.0\n",
            "виза, @default_class, 2.7122010578750633e-05, 64.0, 10.0\n",
            "провинция_манитоба, @default_class, 4.6615955398010556e-06, 11.0, 10.0\n",
            "ввести_понятие, @default_class, 4.237814209773205e-06, 10.0, 10.0\n",
            "западный_окраина, @default_class, 5.085377324576257e-06, 12.0, 10.0\n",
            "отнести_смоленский, @default_class, 4.237814209773205e-06, 10.0, 10.0\n",
            "соревнование_фигурный, @default_class, 4.6615955398010556e-06, 11.0, 10.0\n",
            "удмурт, @default_class, 6.356721314659808e-06, 15.0, 10.0\n",
            "зд_административно-территориальный, @default_class, 4.237814209773205e-06, 10.0, 10.0\n",
            "отставка_пост, @default_class, 5.085377324576257e-06, 12.0, 10.0\n",
            "фрам, @default_class, 8.221359894378111e-05, 194.0, 10.0\n",
            "олевский_р-н, @default_class, 4.237814209773205e-06, 10.0, 10.0\n",
            "центральный_тело, @default_class, 4.4920830987393856e-05, 106.0, 106.0\n"
          ],
          "name": "stdout"
        }
      ]
    },
    {
      "cell_type": "markdown",
      "metadata": {
        "id": "8MFmnGhnUlnb"
      },
      "source": [
        "#### Удаляем ненужные сочетания страна + принимать"
      ]
    },
    {
      "cell_type": "code",
      "metadata": {
        "id": "M__tnOm2Tt3a"
      },
      "source": [
        "!grep -v '_принимать' dict.txt > new_dict.txt"
      ],
      "execution_count": 75,
      "outputs": []
    },
    {
      "cell_type": "markdown",
      "metadata": {
        "id": "TTUr1NvzVfJJ"
      },
      "source": [
        "#### Удаляем названия областей"
      ]
    },
    {
      "cell_type": "code",
      "metadata": {
        "id": "dtScZA3xVdh0"
      },
      "source": [
        "!grep -v 'область_' new_dict.txt > dict.txt"
      ],
      "execution_count": 76,
      "outputs": []
    },
    {
      "cell_type": "markdown",
      "metadata": {
        "id": "XR9tCvpWWHhn"
      },
      "source": [
        "#### Удаляем неправильные биграммы с \"зимний\" и \"летний\""
      ]
    },
    {
      "cell_type": "code",
      "metadata": {
        "id": "VIzwzIfdWGw3"
      },
      "source": [
        "!grep -v '_зимний\\|_летний' dict.txt > new_dict.txt"
      ],
      "execution_count": 80,
      "outputs": []
    },
    {
      "cell_type": "code",
      "metadata": {
        "colab": {
          "base_uri": "https://localhost:8080/"
        },
        "id": "OePNp7-qR_fl",
        "outputId": "868a16ff-3b5f-4731-8b77-a17c84a662ca"
      },
      "source": [
        "!head -n 20 new_dict.txt"
      ],
      "execution_count": 87,
      "outputs": [
        {
          "output_type": "stream",
          "text": [
            "name: 99183022-c721-4f69-8f11-f26727905a77 num_items: 20002\n",
            "token, class_id, token_value, token_tf, token_df\n",
            "бускеруда_норвегия, @default_class, 8.051847544265911e-06, 19.0, 19.0\n",
            "провинция_тукумать, @default_class, 1.0170754649152514e-05, 24.0, 12.0\n",
            "игра_лихтенштейн, @default_class, 4.6615955398010556e-06, 11.0, 11.0\n",
            "находиться_черняховский, @default_class, 2.1189071048866026e-05, 50.0, 50.0\n",
            "ружинский_район, @default_class, 4.6615955398010556e-06, 11.0, 11.0\n",
            "находиться_романовский, @default_class, 2.330797906324733e-05, 55.0, 55.0\n",
            "радомышльский_р-н, @default_class, 8.899410204321612e-06, 21.0, 21.0\n",
            "находиться_радомышльский, @default_class, 3.135982478852384e-05, 74.0, 74.0\n",
            "находиться_народичский, @default_class, 2.5003104383358732e-05, 59.0, 59.0\n",
            "игра_багамский, @default_class, 5.9329399846319575e-06, 14.0, 14.0\n",
            "деревня_кизнерский, @default_class, 7.204284429462859e-06, 17.0, 16.0\n",
            "юго-запад_можга, @default_class, 5.509158654604107e-06, 13.0, 13.0\n",
            "американский_виргинский, @default_class, 1.1018317309208214e-05, 26.0, 13.0\n",
            "ширина_полотнище, @default_class, 1.1442098184488714e-05, 27.0, 15.0\n",
            "прямоугольный_полотнище, @default_class, 5.085377324576257e-06, 12.0, 12.0\n",
            "суражский_клинцовский, @default_class, 5.085377324576257e-06, 12.0, 11.0\n",
            "республика_гаити, @default_class, 5.085377324576257e-06, 12.0, 12.0\n",
            "увеличиться_ниже, @default_class, 4.237814209773205e-06, 10.0, 10.0\n"
          ],
          "name": "stdout"
        }
      ]
    },
    {
      "cell_type": "code",
      "metadata": {
        "colab": {
          "base_uri": "https://localhost:8080/"
        },
        "id": "2wAoTcGIWwVZ",
        "outputId": "76df23f7-dffd-4244-9854-e733daf042e9"
      },
      "source": [
        "!tail -n 20 new_dict.txt"
      ],
      "execution_count": 88,
      "outputs": [
        {
          "output_type": "stream",
          "text": [
            "повелеть, @default_class, 9.746972864377312e-06, 23.0, 21.0\n",
            "гдр, @default_class, 4.0683018596610054e-05, 96.0, 65.0\n",
            "сет, @default_class, 3.347873280290514e-05, 79.0, 33.0\n",
            "гуманитарный_наука, @default_class, 9.746972864377312e-06, 23.0, 20.0\n",
            "сун, @default_class, 3.051226303796284e-05, 72.0, 24.0\n",
            "лирика, @default_class, 5.509158654604107e-06, 13.0, 11.0\n",
            "решительный, @default_class, 1.0170754649152514e-05, 24.0, 23.0\n",
            "толчок_развитие, @default_class, 4.237814209773205e-06, 10.0, 10.0\n",
            "океан, @default_class, 8.178981806850061e-05, 193.0, 134.0\n",
            "герцогиня, @default_class, 1.9070164853474125e-05, 45.0, 25.0\n",
            "поклонение, @default_class, 1.652747596381232e-05, 39.0, 23.0\n",
            "ха, @default_class, 1.7798820408643223e-05, 42.0, 35.0\n",
            "концентрационный_лагерь, @default_class, 1.9917726604035124e-05, 47.0, 35.0\n",
            "отделка, @default_class, 9.746972864377312e-06, 23.0, 20.0\n",
            "перевод_библия, @default_class, 8.47562841954641e-06, 20.0, 12.0\n",
            "телефонный_код, @default_class, 0.0005780378705821931, 1364.0, 1364.0\n",
            "продолжить_обучение, @default_class, 1.3984787074150518e-05, 33.0, 33.0\n",
            "ржд, @default_class, 8.051847544265911e-06, 19.0, 12.0\n",
            "послевоенный, @default_class, 3.559764081728645e-05, 84.0, 77.0\n",
            "томас_томас, @default_class, 4.237814209773205e-06, 10.0, 10.0\n"
          ],
          "name": "stdout"
        }
      ]
    },
    {
      "cell_type": "code",
      "metadata": {
        "colab": {
          "base_uri": "https://localhost:8080/"
        },
        "id": "LzCKl9e3Xiw6",
        "outputId": "70705c59-acf8-4aa5-a5f7-fd3cd1dfebc8"
      },
      "source": [
        "!shuf -n 20 new_dict.txt"
      ],
      "execution_count": 89,
      "outputs": [
        {
          "output_type": "stream",
          "text": [
            "избрать_депутат, @default_class, 2.6698229703470133e-05, 63.0, 52.0\n",
            "богослов, @default_class, 6.780502644687658e-06, 16.0, 16.0\n",
            "большой_урон, @default_class, 4.6615955398010556e-06, 11.0, 10.0\n",
            "оборонительный, @default_class, 2.1189071048866026e-05, 50.0, 39.0\n",
            "мечтать, @default_class, 2.2884196368977427e-05, 54.0, 52.0\n",
            "показатель, @default_class, 0.00011145451571792364, 263.0, 195.0\n",
            "исходный, @default_class, 3.2631171052344143e-05, 77.0, 69.0\n",
            "проект, @default_class, 0.0009446088224649429, 2229.0, 971.0\n",
            "терек, @default_class, 1.567991239426192e-05, 37.0, 23.0\n",
            "немецкий_войско, @default_class, 6.314343045232818e-05, 149.0, 98.0\n",
            "случайно, @default_class, 6.060074520064518e-05, 143.0, 126.0\n",
            "перо, @default_class, 3.941167233278975e-05, 93.0, 65.0\n",
            "мкм, @default_class, 1.1018317309208214e-05, 26.0, 19.0\n",
            "мм_орудие, @default_class, 1.8222601283923723e-05, 43.0, 28.0\n",
            "граф_шалон, @default_class, 8.47562841954641e-06, 20.0, 11.0\n",
            "официальный_символ, @default_class, 9.323191079602111e-06, 22.0, 20.0\n",
            "джон, @default_class, 0.0003411440411582589, 805.0, 453.0\n",
            "переслать_наступление, @default_class, 9.746972864377312e-06, 23.0, 19.0\n",
            "массачусетс, @default_class, 7.204284429462859e-06, 17.0, 15.0\n",
            "обыграть, @default_class, 8.47562841954641e-05, 200.0, 84.0\n"
          ],
          "name": "stdout"
        }
      ]
    },
    {
      "cell_type": "markdown",
      "metadata": {
        "id": "TBv2Ye9PSNXx"
      },
      "source": [
        "### Вывод случайных строк показывает приемлемый состав словаря"
      ]
    },
    {
      "cell_type": "code",
      "metadata": {
        "id": "vLX9Vy7ncKhq"
      },
      "source": [
        "dictionary = artm.Dictionary()\r\n",
        "dictionary.load_text('new_dict.txt')"
      ],
      "execution_count": 90,
      "outputs": []
    },
    {
      "cell_type": "markdown",
      "metadata": {
        "id": "bdMCSZiB0YGE"
      },
      "source": [
        "Создаем модель и сразу включаем два регуляризатора (Декореляции и Сглаживания)"
      ]
    },
    {
      "cell_type": "markdown",
      "metadata": {
        "id": "LXN_YR1m0YGF"
      },
      "source": [
        "`artm.DecorrelatorPhiRegularizer` - регуляризатор декорреляции тем, делает темы менее похожими друг на друга (рекомендуется включать его сразу на всех темах с положительным значением tau и не менять его в процессе обучения)  \n",
        "\n",
        "`artm.SmoothSparsePhiRegularizer` - регуляризатор сглаживания/разреженивания Phi (тем) - сглаживает или расреживает распределение слов в темах (отрицательный tau - разреживает, положительный - сглаживает), рекомендуется сразу включать сглаживание на всех темах и не менять его в процессе обучения;\n",
        "\n",
        "Количество тем нужно подбирать, но 200 часто работает хорошо. Снижение количества тем и уменьшения словаря ведут к уменьшению времени обучения модели (а увеличение, наоборот). "
      ]
    },
    {
      "cell_type": "code",
      "metadata": {
        "id": "7gTUMUh90YGG"
      },
      "source": [
        "first_model_artm = artm.ARTM(topic_names=[f'topic_{i}' for i in range(100)],\n",
        "                       \n",
        "                       regularizers=[\n",
        "                           artm.DecorrelatorPhiRegularizer(\n",
        "                                            name='Decorr_1', tau=0.15, \n",
        "                                            class_ids=['@default_class'],\n",
        "                                            topic_names=[f'topic_{i}' for i in range(0, 100)]),\n",
        "                           \n",
        "                           artm.SmoothSparsePhiRegularizer(\n",
        "                                            name='SmoothPhi_1', \n",
        "                                            class_ids=['@default_class'],\n",
        "                                            tau=0.10, \n",
        "                                            topic_names=[f'topic_{i}' for i in range(0, 100)]),\n",
        "                            artm.SmoothSparseThetaRegularizer(\n",
        "                                            name=\"Decorr_2\",\n",
        "                                            tau=0.10,\n",
        "                                            topic_names=[f'topic_{i}' for i in range(0, 100)])\n",
        "                                    ]\n",
        "                        )\n",
        "\n",
        "# не забывайте менять количество топиков в регуляризаторах, они применяются только на тех темах, что заданы"
      ],
      "execution_count": 95,
      "outputs": []
    },
    {
      "cell_type": "code",
      "metadata": {
        "id": "y_HUXXACdqBf"
      },
      "source": [
        "second_model_artm = artm.ARTM(topic_names=[f'topic_{i}' for i in range(0, 200)],\r\n",
        "                              \r\n",
        "                              regularizers=[\r\n",
        "                                            artm.DecorrelatorPhiRegularizer(\r\n",
        "                                                name=\"Decorr_1\",\r\n",
        "                                                tau=0.3,\r\n",
        "                                                class_ids=['@default_class'],\r\n",
        "                                                topic_names=[f'topic_{i}' for i in range(0,200)]),\r\n",
        "                                            artm.SmoothSparsePhiRegularizer(\r\n",
        "                                                name=\"SmoothPhi_1\",\r\n",
        "                                                tau=0.1,\r\n",
        "                                                class_ids=['@default_class'],\r\n",
        "                                                topic_names=[f'topic_{i}' for i in range(0,200)]),\r\n",
        "                                            artm.DecorrelatorPhiRegularizer(\r\n",
        "                                                name=\"Decorr_2\",\r\n",
        "                                                tau=0.3,\r\n",
        "                                                class_ids=['@default_class'],\r\n",
        "                                                topic_names=[f'topic_{i}' for i in range(0,200)]),\r\n",
        "                                            artm.SmoothSparsePhiRegularizer(\r\n",
        "                                                name=\"SmoothPhi_2\",\r\n",
        "                                                tau=0.1,\r\n",
        "                                                class_ids=['@default_class'],\r\n",
        "                                                topic_names=[f'topic_{i}' for i in range(0,200)])\r\n",
        "                                            ])"
      ],
      "execution_count": 92,
      "outputs": []
    },
    {
      "cell_type": "code",
      "metadata": {
        "id": "eKNJo6uBdt2f"
      },
      "source": [
        "third_model_artm = artm.ARTM(topic_names=[f'topic_{i}' for i in range(100)],\r\n",
        "                       \r\n",
        "                       regularizers=[\r\n",
        "                           artm.DecorrelatorPhiRegularizer(\r\n",
        "                                            name='Decorr_1', tau=0.4, \r\n",
        "                                            class_ids=['@default_class'],\r\n",
        "                                            topic_names=[f'topic_{i}' for i in range(0, 100)]),\r\n",
        "                            artm.SmoothSparseThetaRegularizer(\r\n",
        "                                            name=\"Decorr_2\",\r\n",
        "                                            tau=0.15,\r\n",
        "                                            topic_names=[f'topic_{i}' for i in range(0, 100)])\r\n",
        "                                    ]\r\n",
        "                        )"
      ],
      "execution_count": 97,
      "outputs": []
    },
    {
      "cell_type": "code",
      "metadata": {
        "id": "ZXwur8c80YGI"
      },
      "source": [
        "# инициализурем модель словарем\n",
        "first_model_artm.initialize(dictionary=dictionary, )\n",
        "second_model_artm.initialize(dictionary=dictionary, )\n",
        "third_model_artm.initialize(dictionary=dictionary, )"
      ],
      "execution_count": 98,
      "outputs": []
    },
    {
      "cell_type": "code",
      "metadata": {
        "id": "M7ofKFaN0YGK"
      },
      "source": [
        "# добавляем метрики\n",
        "for model in [first_model_artm, second_model_artm, third_model_artm]:\n",
        "    model.scores.add(artm.PerplexityScore(name='PerplexityScore',\n",
        "                                                        dictionary=dictionary))\n",
        "    model.scores.add(artm.SparsityPhiScore(name='SparsityPhiScore')) # разреженность слов в темах\n",
        "    model.scores.add(artm.SparsityThetaScore(name='SparsityThetaScore')) # разреженность тем в доках\n",
        "    model.scores.add(artm.TopicKernelScore(name='TopicKernelScore', probability_mass_threshold=0.1)) # когерентность по семантичесим ядрам\n",
        "    model.scores.add(artm.TopTokensScore(class_id='@default_class', name='TopTokensScore_1', num_tokens=10)) # топ-n-слов для каждой темы\n"
      ],
      "execution_count": 99,
      "outputs": []
    },
    {
      "cell_type": "markdown",
      "metadata": {
        "id": "A7ih3cp10YGM"
      },
      "source": [
        "# Обучение моделей"
      ]
    },
    {
      "cell_type": "markdown",
      "metadata": {
        "id": "vkujg5tp0YGN"
      },
      "source": [
        "Пройдемся несколько раз по коллекции, чтобы модель немного сошлась (если доков сильно больше то может быть достаточно и 1 прохода). Для сильно больших коллекций есть fit_online, который обновляется в процессе прохода по коллекции, про него можно почитать в документации."
      ]
    },
    {
      "cell_type": "code",
      "metadata": {
        "id": "d3UPM4bd0YGO"
      },
      "source": [
        "for model in [first_model_artm, second_model_artm, third_model_artm]:\n",
        "    model.num_document_passes = 3\n",
        "    model.fit_offline(batch_vectorizer=batch_vectorizer, num_collection_passes=3)"
      ],
      "execution_count": 101,
      "outputs": []
    },
    {
      "cell_type": "code",
      "metadata": {
        "colab": {
          "base_uri": "https://localhost:8080/",
          "height": 366
        },
        "id": "sJNAHoO30YGR",
        "outputId": "8a5dd904-b883-4c3f-ec85-df65923894e1"
      },
      "source": [
        "# посмотрим, что стало с моделью\n",
        "# если график сильно падал на последних итерациях, то можно прогнать обучение ещё несколько раз \n",
        "# (не добавляя другие регуляризаторы)\n",
        "print_measures(first_model_artm)"
      ],
      "execution_count": 102,
      "outputs": [
        {
          "output_type": "stream",
          "text": [
            "Sparsity Phi: 0.000 ARTM)\n",
            "Sparsity Theta: 0.000 (ARTM)\n",
            "Kernel contrast: 0.014 (ARTM)\n",
            "Kernel purity: 0.001 (ARTM)\n",
            "Perplexity: 643.726 (ARTM)\n"
          ],
          "name": "stdout"
        },
        {
          "output_type": "display_data",
          "data": {
            "image/png": "[encoded data removed]",
            "text/plain": [
              "<Figure size 432x288 with 1 Axes>"
            ]
          },
          "metadata": {
            "tags": [],
            "needs_background": "light"
          }
        }
      ]
    },
    {
      "cell_type": "code",
      "metadata": {
        "colab": {
          "base_uri": "https://localhost:8080/",
          "height": 366
        },
        "id": "6reHPo7Ikdsz",
        "outputId": "477abd50-e93e-4123-ad71-575667a15f2b"
      },
      "source": [
        "print_measures(second_model_artm)"
      ],
      "execution_count": 103,
      "outputs": [
        {
          "output_type": "stream",
          "text": [
            "Sparsity Phi: 0.000 ARTM)\n",
            "Sparsity Theta: 0.000 (ARTM)\n",
            "Kernel contrast: 0.021 (ARTM)\n",
            "Kernel purity: 0.007 (ARTM)\n",
            "Perplexity: 649.882 (ARTM)\n"
          ],
          "name": "stdout"
        },
        {
          "output_type": "display_data",
          "data": {
            "image/png": "[encoded data removed]",
            "text/plain": [
              "<Figure size 432x288 with 1 Axes>"
            ]
          },
          "metadata": {
            "tags": [],
            "needs_background": "light"
          }
        }
      ]
    },
    {
      "cell_type": "code",
      "metadata": {
        "colab": {
          "base_uri": "https://localhost:8080/",
          "height": 366
        },
        "id": "Pqra6Oxoki0C",
        "outputId": "3dfecb40-59c9-4b18-8340-be8c1ef04be7"
      },
      "source": [
        "print_measures(third_model_artm)"
      ],
      "execution_count": 104,
      "outputs": [
        {
          "output_type": "stream",
          "text": [
            "Sparsity Phi: 0.000 ARTM)\n",
            "Sparsity Theta: 0.000 (ARTM)\n",
            "Kernel contrast: 0.040 (ARTM)\n",
            "Kernel purity: 0.001 (ARTM)\n",
            "Perplexity: 641.116 (ARTM)\n"
          ],
          "name": "stdout"
        },
        {
          "output_type": "display_data",
          "data": {
            "image/png": "[encoded data removed]",
            "text/plain": [
              "<Figure size 432x288 with 1 Axes>"
            ]
          },
          "metadata": {
            "tags": [],
            "needs_background": "light"
          }
        }
      ]
    },
    {
      "cell_type": "markdown",
      "metadata": {
        "id": "ESVQUJm90YGU"
      },
      "source": [
        "Добавим регуляризаторы разреженности тем и документов.\n",
        "\n",
        "Их рекомендуется добавлять после того, как модель уже как-то сошлась. После добавления их рекомендуется постепенно уменьшать, чтобы усиливать разреживание. Их можно применять не ко всем темам, чтобы в каких-то темах собрались все стоп-слова.\n",
        "\n",
        "Можно добавлять их вместе или по отдельности."
      ]
    },
    {
      "cell_type": "code",
      "metadata": {
        "id": "QfK4kb36nkbm"
      },
      "source": [
        "models = [first_model_artm, second_model_artm, third_model_artm]\r\n",
        "topics = [100, 200, 100]\r\n",
        "for index in range(len(models)):\r\n",
        "    models[index].regularizers.add(artm.SmoothSparsePhiRegularizer(\r\n",
        "        name='SparsePhi',\r\n",
        "        tau=-0.20,\r\n",
        "        topic_names=[f'topic_{i}' for i in range(1, topics[index])]))\r\n",
        "    models[index].regularizers.add(artm.SmoothSparseThetaRegularizer(\r\n",
        "        name='SparseTheta',\r\n",
        "        tau=-0.20,\r\n",
        "        topic_names=['topic_{}'.format(i) for i in range(1, topics[index])]))"
      ],
      "execution_count": 106,
      "outputs": []
    },
    {
      "cell_type": "code",
      "metadata": {
        "id": "d-XyXPrF0YGX"
      },
      "source": [
        "for model in models:\r\n",
        "    model.fit_offline(batch_vectorizer=batch_vectorizer,num_collection_passes=1)"
      ],
      "execution_count": 107,
      "outputs": []
    },
    {
      "cell_type": "code",
      "metadata": {
        "id": "CWrgduzK0YGY"
      },
      "source": [
        "# будем постепенно увеличивать значения этих регуляризаторов\n",
        "for model in models:\n",
        "    phi_tau = model.regularizers['SparsePhi'].tau\n",
        "    theta_tau = model.regularizers['SparseTheta'].tau\n",
        "\n",
        "    for i in range(10):\n",
        "        model.regularizers['SparsePhi'].tau = (phi_tau + (phi_tau*0.6))\n",
        "        model.regularizers['SparseTheta'].tau = (theta_tau + (theta_tau*0.15))\n",
        "        \n",
        "        model.fit_offline(batch_vectorizer=batch_vectorizer,num_collection_passes=1)\n",
        "    "
      ],
      "execution_count": 108,
      "outputs": []
    },
    {
      "cell_type": "code",
      "metadata": {
        "colab": {
          "base_uri": "https://localhost:8080/",
          "height": 366
        },
        "id": "Nz2ZycN80YGb",
        "outputId": "eee86f38-8220-4ea7-a047-c54d6ab2355a"
      },
      "source": [
        "# посмотрим на качество\n",
        "print_measures(first_model_artm)"
      ],
      "execution_count": 109,
      "outputs": [
        {
          "output_type": "stream",
          "text": [
            "Sparsity Phi: 0.905 ARTM)\n",
            "Sparsity Theta: 0.765 (ARTM)\n",
            "Kernel contrast: 0.416 (ARTM)\n",
            "Kernel purity: 0.645 (ARTM)\n",
            "Perplexity: 225.495 (ARTM)\n"
          ],
          "name": "stdout"
        },
        {
          "output_type": "display_data",
          "data": {
            "image/png": "[encoded data removed]",
            "text/plain": [
              "<Figure size 432x288 with 1 Axes>"
            ]
          },
          "metadata": {
            "tags": [],
            "needs_background": "light"
          }
        }
      ]
    },
    {
      "cell_type": "code",
      "metadata": {
        "colab": {
          "base_uri": "https://localhost:8080/",
          "height": 366
        },
        "id": "OEYg20qop36V",
        "outputId": "1005c3ba-9e41-4a65-e090-6ed6d8ddbe2b"
      },
      "source": [
        "print_measures(second_model_artm)"
      ],
      "execution_count": 110,
      "outputs": [
        {
          "output_type": "stream",
          "text": [
            "Sparsity Phi: 0.924 ARTM)\n",
            "Sparsity Theta: 0.879 (ARTM)\n",
            "Kernel contrast: 0.386 (ARTM)\n",
            "Kernel purity: 0.563 (ARTM)\n",
            "Perplexity: 182.892 (ARTM)\n"
          ],
          "name": "stdout"
        },
        {
          "output_type": "display_data",
          "data": {
            "image/png": "[encoded data removed]",
            "text/plain": [
              "<Figure size 432x288 with 1 Axes>"
            ]
          },
          "metadata": {
            "tags": [],
            "needs_background": "light"
          }
        }
      ]
    },
    {
      "cell_type": "code",
      "metadata": {
        "colab": {
          "base_uri": "https://localhost:8080/",
          "height": 366
        },
        "id": "qtuQu_b-p6OH",
        "outputId": "97adbd38-fcb3-41b5-ed53-40bba36d8aa3"
      },
      "source": [
        "print_measures(third_model_artm)"
      ],
      "execution_count": 111,
      "outputs": [
        {
          "output_type": "stream",
          "text": [
            "Sparsity Phi: 0.924 ARTM)\n",
            "Sparsity Theta: 0.729 (ARTM)\n",
            "Kernel contrast: 0.465 (ARTM)\n",
            "Kernel purity: 0.678 (ARTM)\n",
            "Perplexity: 232.471 (ARTM)\n"
          ],
          "name": "stdout"
        },
        {
          "output_type": "display_data",
          "data": {
            "image/png": "[encoded data removed]",
            "text/plain": [
              "<Figure size 432x288 with 1 Axes>"
            ]
          },
          "metadata": {
            "tags": [],
            "needs_background": "light"
          }
        }
      ]
    },
    {
      "cell_type": "markdown",
      "metadata": {
        "id": "NJzduI0gqIzW"
      },
      "source": [
        "#### По результатам обучения наилучшие значения показывает вторая модель. Проделаем ещё несколько итераций."
      ]
    },
    {
      "cell_type": "code",
      "metadata": {
        "id": "8hoP-IK_qYsx"
      },
      "source": [
        "phi_tau = second_model_artm.regularizers['SparsePhi'].tau\r\n",
        "theta_tau = second_model_artm.regularizers['SparseTheta'].tau\r\n",
        "for i in range(6):\r\n",
        "    second_model_artm.regularizers['SparsePhi'].tau = phi_tau * 1.4\r\n",
        "    second_model_artm.regularizers['SparseTheta'].tau = theta_tau * 0.25\r\n",
        "    second_model_artm.fit_offline(batch_vectorizer=batch_vectorizer, num_collection_passes=2)"
      ],
      "execution_count": 112,
      "outputs": []
    },
    {
      "cell_type": "markdown",
      "metadata": {
        "id": "dkRy-6I8wiM-"
      },
      "source": [
        "# Итоги"
      ]
    },
    {
      "cell_type": "code",
      "metadata": {
        "colab": {
          "base_uri": "https://localhost:8080/",
          "height": 366
        },
        "id": "MpTXeIZbrviq",
        "outputId": "ad021b13-7a09-42bb-f8f8-882f016e6933"
      },
      "source": [
        "print_measures(second_model_artm)"
      ],
      "execution_count": 113,
      "outputs": [
        {
          "output_type": "stream",
          "text": [
            "Sparsity Phi: 0.953 ARTM)\n",
            "Sparsity Theta: 0.822 (ARTM)\n",
            "Kernel contrast: 0.447 (ARTM)\n",
            "Kernel purity: 0.725 (ARTM)\n",
            "Perplexity: 173.714 (ARTM)\n"
          ],
          "name": "stdout"
        },
        {
          "output_type": "display_data",
          "data": {
            "image/png": "[encoded data removed]",
            "text/plain": [
              "<Figure size 432x288 with 1 Axes>"
            ]
          },
          "metadata": {
            "tags": [],
            "needs_background": "light"
          }
        }
      ]
    },
    {
      "cell_type": "code",
      "metadata": {
        "id": "tDeYG2kt0YGg"
      },
      "source": [
        "for topic_name in second_model_artm.topic_names[:50]:\n",
        "    print('BEGIN TOPIC')\n",
        "    print(topic_name + ': ')\n",
        "    try:\n",
        "        for x in second_model_artm.score_tracker['TopTokensScore_1'].last_tokens[topic_name]:\n",
        "            print(x)\n",
        "        print('END TOPIC')\n",
        "    \n",
        "    except KeyError:\n",
        "        continue"
      ],
      "execution_count": null,
      "outputs": []
    },
    {
      "cell_type": "code",
      "metadata": {
        "id": "Oa3JNMffsR5s"
      },
      "source": [
        "\"\"\"\r\n",
        "BEGIN TOPIC\r\n",
        "topic_20: \r\n",
        "компания\r\n",
        "банк\r\n",
        "рынок\r\n",
        "фирма\r\n",
        "продажа\r\n",
        "крупный\r\n",
        "производитель\r\n",
        "компьютер\r\n",
        "процессор\r\n",
        "корпорация\r\n",
        "END TOPIC\r\n",
        "BEGIN TOPIC\r\n",
        "topic_30: \r\n",
        "право\r\n",
        "закон\r\n",
        "лицо\r\n",
        "наказание\r\n",
        "принять\r\n",
        "законодательство\r\n",
        "положение\r\n",
        "ответственность\r\n",
        "отношение\r\n",
        "кодекс\r\n",
        "END TOPIC\r\n",
        "BEGIN TOPIC\r\n",
        "topic_42: \r\n",
        "клуб\r\n",
        "лига\r\n",
        "выступать\r\n",
        "команда\r\n",
        "чемпионат\r\n",
        "футбол\r\n",
        "кубок\r\n",
        "дивизион\r\n",
        "футбольный_клуб\r\n",
        "футбольный\r\n",
        "END TOPIC\r\n",
        "\"\"\""
      ],
      "execution_count": null,
      "outputs": []
    },
    {
      "cell_type": "markdown",
      "metadata": {
        "id": "xVXJA90KtFfm"
      },
      "source": [
        "Вторая модель: выбранное число топиков - 200. При инициализации попеременно добавлялись два декоррелятора с тау 0.3 и два фи-регуляризатора с тау 0.1. \r\n",
        "\r\n",
        "После двух итераций были добавлены фи- и тета-регуляризатор с параметрами тета -0.2.\r\n",
        "Модель достигла перплексии 200 за 10 итераций, при которых параметры добавочных регуляризаторов менялись на 0.6 и 0.15 соответственно. \r\n",
        "\r\n",
        "После ещё шести итераций с двойным проходом по документам, на которых параметры добавочных регуляризаторов менялись на 1.4 для фи-регуляризатора и на 0.25 для тета-регуляризатора, перплексия достигла значения 172.\r\n",
        "\r\n",
        "\r\n",
        "На последних итерациях значительно выросли параметры Kernel contrast и Kernel Purity.\r\n"
      ]
    }
  ]
}