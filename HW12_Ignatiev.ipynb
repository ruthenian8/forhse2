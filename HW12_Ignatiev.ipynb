{
  "nbformat": 4,
  "nbformat_minor": 0,
  "metadata": {
    "kernelspec": {
      "display_name": "Python 3",
      "language": "python",
      "name": "python3"
    },
    "language_info": {
      "codemirror_mode": {
        "name": "ipython",
        "version": 3
      },
      "file_extension": ".py",
      "mimetype": "text/x-python",
      "name": "python",
      "nbconvert_exporter": "python",
      "pygments_lexer": "ipython3",
      "version": "3.8.3"
    },
    "colab": {
      "name": "HW12 Ignatiev.ipynb",
      "provenance": [],
      "collapsed_sections": []
    },
    "accelerator": "GPU"
  },
  "cells": [
    {
      "cell_type": "code",
      "metadata": {
        "colab": {
          "base_uri": "https://localhost:8080/"
        },
        "id": "4rk-idmfHOd8",
        "outputId": "8e7eb728-0fe8-43bf-b9ee-104d35283109"
      },
      "source": [
        "from google.colab import drive\n",
        "drive.mount('/content/drive')"
      ],
      "execution_count": 3,
      "outputs": [
        {
          "output_type": "stream",
          "text": [
            "Mounted at /content/drive\n"
          ],
          "name": "stdout"
        }
      ]
    },
    {
      "cell_type": "code",
      "metadata": {
        "colab": {
          "base_uri": "https://localhost:8080/"
        },
        "id": "JTtvYjBIHOd-",
        "outputId": "5ff45efb-5ea8-4daf-edf4-17a24f570fb5"
      },
      "source": [
        "!unzip -d . drive/MyDrive/data.zip"
      ],
      "execution_count": 4,
      "outputs": [
        {
          "output_type": "stream",
          "text": [
            "Archive:  drive/MyDrive/data.zip\n",
            "  inflating: ./lenta_sample.csv      \n",
            "  inflating: ./__MACOSX/._lenta_sample.csv  \n"
          ],
          "name": "stdout"
        }
      ]
    },
    {
      "cell_type": "code",
      "metadata": {
        "id": "uMoSwOMdHOd-"
      },
      "source": [
        "import torch\n",
        "import torch.nn as nn\n",
        "import torch.nn.functional as F\n",
        "import torch.optim as optim\n",
        "import torch.utils.data"
      ],
      "execution_count": 1,
      "outputs": []
    },
    {
      "cell_type": "code",
      "metadata": {
        "id": "FmNaJR4LHOd_"
      },
      "source": [
        "import pandas as pd\n",
        "import numpy as np\n",
        "from string import punctuation\n",
        "from sklearn.model_selection import train_test_split\n",
        "from collections import Counter\n",
        "import matplotlib.pyplot as plt\n",
        "%matplotlib inline"
      ],
      "execution_count": 2,
      "outputs": []
    },
    {
      "cell_type": "code",
      "metadata": {
        "id": "rsJh2MBoHOd_"
      },
      "source": [
        "data = pd.read_csv(\"lenta_sample.csv\")\n",
        "data.dropna(subset = ['topic', 'text'], inplace=True)"
      ],
      "execution_count": 5,
      "outputs": []
    },
    {
      "cell_type": "code",
      "metadata": {
        "id": "4bYyJ35NHOd_"
      },
      "source": [
        "def preprocess(text):\n",
        "    tokens = text.lower().split()\n",
        "    tokens = [token.strip(punctuation) for token in tokens]\n",
        "    tokens = [token for token in tokens if token]\n",
        "    return tokens"
      ],
      "execution_count": 6,
      "outputs": []
    },
    {
      "cell_type": "code",
      "metadata": {
        "id": "P6YYZOVZHOeA"
      },
      "source": [
        "vocab = Counter()\n",
        "for text in data[\"text\"]:\n",
        "    vocab.update(preprocess(text))"
      ],
      "execution_count": 7,
      "outputs": []
    },
    {
      "cell_type": "code",
      "metadata": {
        "id": "mA3v3r6-HOeA"
      },
      "source": [
        "filtered_vocab = set()\n",
        "for word in vocab:\n",
        "    if vocab[word] > 30:\n",
        "        filtered_vocab.add(word)"
      ],
      "execution_count": 8,
      "outputs": []
    },
    {
      "cell_type": "code",
      "metadata": {
        "id": "kR0YpJXeHOeB"
      },
      "source": [
        "word2id = {\"PAD\":0}\n",
        "for word in filtered_vocab:\n",
        "    word2id[word] = len(word2id)\n",
        "id2word = {i:word for word, i in word2id.items()}"
      ],
      "execution_count": 9,
      "outputs": []
    },
    {
      "cell_type": "code",
      "metadata": {
        "id": "owu8fqxXHOeB"
      },
      "source": [
        "class Dataset(torch.utils.data.Dataset):\n",
        "    def __init__(self, word2id, MAX_LEN, texts, targets):\n",
        "        super().__init__()\n",
        "        self.texts = [torch.LongTensor([word2id[w] for w in self.preprocess(t) if w in word2id][:MAX_LEN]) for t in texts]\n",
        "        self.texts = torch.nn.utils.rnn.pad_sequence(self.texts, batch_first=True)\n",
        "        self.target = torch.LongTensor(targets)\n",
        "        \n",
        "        self.word2id = word2id\n",
        "        self.MAX_LEN = MAX_LEN\n",
        "\n",
        "#         self.target = self.target[self.texts.sum(1).bool()]\n",
        "#         self.texts = self.texts[self.texts.sum(1).bool()]\n",
        "        self.length = len(texts)\n",
        "        \n",
        "    def __getitem__(self, item):\n",
        "        ids = self.texts[item]\n",
        "        y = self.target[item]\n",
        "        return ids, y\n",
        "    \n",
        "    def __len__(self):\n",
        "        return self.length\n",
        "    \n",
        "    @staticmethod\n",
        "    def preprocess(text):\n",
        "        tokens = text.lower().split()\n",
        "        tokens = [token.strip(punctuation) for token in tokens]\n",
        "        tokens = [token for token in tokens if token]\n",
        "        return tokens        "
      ],
      "execution_count": 10,
      "outputs": []
    },
    {
      "cell_type": "code",
      "metadata": {
        "id": "GmWc5mPTHOeC"
      },
      "source": [
        "MAX_LEN = 200"
      ],
      "execution_count": 11,
      "outputs": []
    },
    {
      "cell_type": "code",
      "metadata": {
        "id": "lIxozR_XHOeC"
      },
      "source": [
        "texts = data[\"text\"].values\n",
        "id2label = {i:l for i, l in enumerate(set(data.topic))}\n",
        "label2id = {l:i for i, l in id2label.items()}\n",
        "targets = [label2id[l] for l in data.topic]"
      ],
      "execution_count": 12,
      "outputs": []
    },
    {
      "cell_type": "code",
      "metadata": {
        "id": "PFBOWxQnHOeC"
      },
      "source": [
        "train_texts, valid_texts, train_targets, valid_targets = train_test_split(texts, targets, test_size=0.05)"
      ],
      "execution_count": 13,
      "outputs": []
    },
    {
      "cell_type": "code",
      "metadata": {
        "id": "MiABnvK9HOeC"
      },
      "source": [
        "training_set:torch.utils.data.Dataset = Dataset(word2id, MAX_LEN, train_texts, train_targets)\n",
        "training_generator:torch.utils.data.DataLoader = torch.utils.data.DataLoader(training_set, batch_size=256, shuffle=True)"
      ],
      "execution_count": 14,
      "outputs": []
    },
    {
      "cell_type": "code",
      "metadata": {
        "id": "p3z2mJFsHOeD"
      },
      "source": [
        "valid_set:torch.utils.data.Dataset = Dataset(word2id, MAX_LEN, valid_texts, valid_targets)\n",
        "valid_generator:torch.utils.data.DataLoader = torch.utils.data.DataLoader(valid_set, batch_size=256, shuffle=True) "
      ],
      "execution_count": 15,
      "outputs": []
    },
    {
      "cell_type": "code",
      "metadata": {
        "id": "q1Hb5PxzHOeD"
      },
      "source": [
        "from sklearn.metrics import f1_score"
      ],
      "execution_count": 16,
      "outputs": []
    },
    {
      "cell_type": "code",
      "metadata": {
        "id": "rNEuNJqIHOeD"
      },
      "source": [
        "device = torch.device(\"cuda\" if torch.cuda.is_available() else \"cpu\")"
      ],
      "execution_count": 17,
      "outputs": []
    },
    {
      "cell_type": "code",
      "metadata": {
        "id": "JfOoOlVAHOeE"
      },
      "source": [
        "import math"
      ],
      "execution_count": 19,
      "outputs": []
    },
    {
      "cell_type": "code",
      "metadata": {
        "id": "uFw56WThHOeE"
      },
      "source": [
        "class Clf(nn.Module):\n",
        "    def __init__(self, output_dim, word2id=word2id):\n",
        "        super().__init__()\n",
        "        self.VOCAB_SIZE = len(word2id)\n",
        "        self.EMB_DIM = 100\n",
        "        self.MAX_LEN = 200\n",
        "        self.IN_CHANNELS = self.MAX_LEN\n",
        "        \n",
        "        self.KERNEL_SIZE_1 = 3\n",
        "        self.OUT_CHANNELS_1 = 64\n",
        "        self.KERNEL_SIZE_2 = 5\n",
        "        self.OUT_CHANNELS_2 = 32\n",
        "        self.KERNEL_SIZE_POOL = 2\n",
        "        self.STRIDE = 2\n",
        "        self.STRIDE_POOL = 2\n",
        "        self.RNN_UNITS = 128\n",
        "        self.HIDDEN_FC = 64\n",
        "        \n",
        "        self.conv_size_1 = math.floor(((self.EMB_DIM - 1 * (self.KERNEL_SIZE_1 - 1) - 1) / self.STRIDE) + 1)\n",
        "        self.pool_size_1 = math.floor(((self.conv_size_1 - 1 * (self.KERNEL_SIZE_POOL - 1) - 1) / self.STRIDE_POOL + 1))\n",
        "        self.con_size_2 = math.floor(((self.pool_size_1 - 1 * (self.KERNEL_SIZE_2 - 1) - 1) / self.STRIDE) + 1)\n",
        "        self.pool_size_2 = math.floor(((self.con_size_2 - 1 * (self.KERNEL_SIZE_POOL - 1) / self.STRIDE_POOL) + 1))\n",
        "        \n",
        "        self.embedding = nn.Embedding(self.VOCAB_SIZE, self.EMB_DIM)\n",
        "        self.conv_1 = nn.Conv1d(self.IN_CHANNELS,\n",
        "                                self.OUT_CHANNELS_1,\n",
        "                                self.KERNEL_SIZE_1,\n",
        "                                self.STRIDE)\n",
        "        self.pool_1 = nn.MaxPool1d(self.KERNEL_SIZE_POOL,\n",
        "                                   self.STRIDE_POOL)\n",
        "        self.conv_2 = nn.Conv1d(self.OUT_CHANNELS_1,\n",
        "                                self.OUT_CHANNELS_2,\n",
        "                                self.KERNEL_SIZE_2,\n",
        "                                self.STRIDE)\n",
        "        self.pool_2 = nn.MaxPool1d(self.KERNEL_SIZE_POOL,\n",
        "                                   self.STRIDE_POOL)\n",
        "        self.relu = torch.nn.LeakyReLU()\n",
        "        self.dropout = torch.nn.Dropout(0.3)\n",
        "        \n",
        "#         self.lstm = nn.LSTM(self.pool_size_2, self.RNN_UNITS, batch_first=True)\n",
        "#         self.gru = nn.GRU(self.pool_size_2, self.RNN_UNITS, batch_first=True)\n",
        "        self.lstm = nn.LSTM(self.OUT_CHANNELS_2, self.RNN_UNITS, batch_first=True)\n",
        "        self.gru = nn.GRU(self.OUT_CHANNELS_2, self.RNN_UNITS, batch_first=True)\n",
        "        \n",
        "        \n",
        "        self.fc = nn.Linear(self.RNN_UNITS, self.HIDDEN_FC)\n",
        "        self.hidden = nn.Linear(self.HIDDEN_FC, output_dim)        \n",
        "        self.act = nn.LogSoftmax(1)\n",
        "\n",
        "    def forward(self, text):\n",
        "#         embedded = self.embedding(text).permute(0, 2, 1)\n",
        "        embedded = self.embedding(text)\n",
        "        conv1 = self.relu(self.conv_1(embedded))\n",
        "        pool1 = self.pool_1(conv1)\n",
        "        conv2 = self.relu(self.conv_2(pool1))\n",
        "        pool2 = self.pool_2(conv2).permute(0, 2, 1)\n",
        "        pool_backward = torch.flip(pool2, (1,))\n",
        "        \n",
        "        gru_out, (h, *_) = self.gru(pool2)\n",
        "        lstm_out, (h_b, *_) = self.lstm(pool_backward)\n",
        "        h, h_b = h.squeeze(0).unsqueeze(dim=2), h_b.squeeze(0).unsqueeze(dim=2)\n",
        "        cat = torch.cat((h, h_b), dim=2)\n",
        "        mean = torch.mean(cat, dim=2).float()\n",
        "        fc = self.dropout(self.fc(mean))        \n",
        "        hidden = self.hidden(fc)\n",
        "        out = self.act(hidden)\n",
        "        return out\n",
        "    \n",
        "model:torch.nn.Module = Clf(len(label2id))\n",
        "optimizer:torch.optim.Optimizer = optim.Adam(model.parameters(), lr=0.001)\n",
        "criterion = nn.NLLLoss().to(device)\n",
        "model = model.to(device)"
      ],
      "execution_count": 20,
      "outputs": []
    },
    {
      "cell_type": "code",
      "metadata": {
        "id": "h4xsOOIOHOeF"
      },
      "source": [
        "def train(model:nn.Module,\n",
        "          iterator:torch.utils.data.DataLoader,\n",
        "          optimizer:torch.optim.Optimizer,\n",
        "          loss_fn:nn.modules.loss._Loss,\n",
        "          print_every:int=1000):\n",
        "    epoch_loss:list = []\n",
        "    epoch_f1:list = []\n",
        "    model.train()\n",
        "    \n",
        "    for i, (texts, ys) in enumerate(iterator):\n",
        "        optimizer.zero_grad()\n",
        "        predictions = model(texts.to(device)).squeeze()\n",
        "        loss = loss_fn(predictions, ys.to(device))\n",
        "        \n",
        "        loss.backward()\n",
        "        optimizer.step()\n",
        "        preds = predictions.detach().to('cpu').numpy().argmax(1).tolist()\n",
        "        y_true = ys.tolist()\n",
        "        \n",
        "        epoch_loss.append(loss.item())\n",
        "        epoch_f1.append(f1_score(y_true, preds, average=\"micro\"))\n",
        "        \n",
        "        if not (i + 1) % print_every:\n",
        "            print(f\"loss: {np.mean(epoch_loss)}; F1: {np.mean(epoch_f1)}\")\n",
        "    return np.mean(epoch_f1)\n",
        "    \n",
        "def evaluate(model:nn.Module,\n",
        "             iterator:torch.utils.data.DataLoader,\n",
        "             loss_fn:torch.nn.modules.loss._Loss):\n",
        "    epoch_loss:list = []\n",
        "    epoch_f1:list = []\n",
        "        \n",
        "    model.eval()\n",
        "    with torch.no_grad():\n",
        "        for texts, ys in iterator:\n",
        "            predictions = model(texts.to(device)).squeeze()\n",
        "            loss = loss_fn(predictions, ys.to(device))\n",
        "            preds = predictions.detach().to(\"cpu\").numpy().argmax(1).tolist()\n",
        "            y_true = ys.tolist()\n",
        "            \n",
        "            epoch_loss.append(loss.item())\n",
        "            epoch_f1.append(f1_score(y_true, preds, average=\"micro\"))\n",
        "    return np.mean(epoch_f1)"
      ],
      "execution_count": 21,
      "outputs": []
    },
    {
      "cell_type": "code",
      "metadata": {
        "colab": {
          "base_uri": "https://localhost:8080/"
        },
        "id": "qKxcjQdTHOeG",
        "outputId": "1f367082-31ac-43ed-e30c-9e9f9b80c910"
      },
      "source": [
        "f1s = []\n",
        "f1s_eval = []\n",
        "\n",
        "for i in range(10):\n",
        "    print(i)\n",
        "    f1s.append(train(model, training_generator, optimizer, criterion))\n",
        "    ev = evaluate(model, valid_generator, criterion)\n",
        "    print(\"Eval - \", ev)\n",
        "    f1s_eval.append(ev)"
      ],
      "execution_count": 22,
      "outputs": [
        {
          "output_type": "stream",
          "text": [
            "0\n",
            "Eval -  0.5893163314176245\n",
            "1\n",
            "Eval -  0.7021276340996169\n",
            "2\n",
            "Eval -  0.7459650383141763\n",
            "3\n",
            "Eval -  0.7552448515325672\n",
            "4\n",
            "Eval -  0.7683387212643678\n",
            "5\n",
            "Eval -  0.7661368534482759\n",
            "6\n",
            "Eval -  0.7659602490421457\n",
            "7\n",
            "Eval -  0.7683105842911878\n",
            "8\n",
            "Eval -  0.7619103208812261\n",
            "9\n",
            "Eval -  0.7577717911877394\n"
          ],
          "name": "stdout"
        }
      ]
    },
    {
      "cell_type": "code",
      "metadata": {
        "colab": {
          "base_uri": "https://localhost:8080/",
          "height": 295
        },
        "id": "K2vKxwTMHOeG",
        "outputId": "a269dd3d-bbc7-451d-e1bc-5ed13c93f39a"
      },
      "source": [
        "plt.plot(f1s)\n",
        "plt.plot(f1s_eval)\n",
        "plt.title('model f1 micro')\n",
        "plt.ylabel('f1')\n",
        "plt.xlabel('epoch')\n",
        "plt.legend(['train', 'val'], loc='upper left')\n",
        "plt.show()"
      ],
      "execution_count": 23,
      "outputs": [
        {
          "output_type": "display_data",
          "data": {
            "image/png": "[encoded data removed]",
            "text/plain": [
              "<Figure size 432x288 with 1 Axes>"
            ]
          },
          "metadata": {
            "tags": [],
            "needs_background": "light"
          }
        }
      ]
    }
  ]
}